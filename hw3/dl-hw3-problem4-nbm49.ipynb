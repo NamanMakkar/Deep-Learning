{
 "cells": [
  {
   "cell_type": "code",
   "execution_count": 1,
   "id": "47a89fc3",
   "metadata": {
    "_cell_guid": "b1076dfc-b9ad-4769-8c92-a6c4dae69d19",
    "_uuid": "8f2839f25d086af736a60e9eeb907d3b93b6e0e5",
    "execution": {
     "iopub.execute_input": "2023-04-15T02:22:49.143293Z",
     "iopub.status.busy": "2023-04-15T02:22:49.142177Z",
     "iopub.status.idle": "2023-04-15T02:22:52.401479Z",
     "shell.execute_reply": "2023-04-15T02:22:52.400420Z"
    },
    "papermill": {
     "duration": 3.269263,
     "end_time": "2023-04-15T02:22:52.404245",
     "exception": false,
     "start_time": "2023-04-15T02:22:49.134982",
     "status": "completed"
    },
    "tags": []
   },
   "outputs": [],
   "source": [
    "import numpy as np\n",
    "import pandas as pd\n",
    "import torch\n",
    "import torch.nn as nn\n",
    "import torch.nn.functional as F\n",
    "from torch.utils.data import Dataset, DataLoader, random_split\n",
    "from torchvision.datasets.folder import DatasetFolder\n",
    "import torchvision\n",
    "from torchvision import transforms, datasets\n",
    "from torchvision.io import read_image\n",
    "from torchvision.models import resnet50, ResNet50_Weights, resnet18, ResNet18_Weights\n",
    "import sklearn\n",
    "from tqdm import tqdm\n",
    "from sklearn.metrics import accuracy_score\n",
    "import matplotlib.pyplot as plt\n",
    "import os"
   ]
  },
  {
   "cell_type": "code",
   "execution_count": 2,
   "id": "de9defb2",
   "metadata": {
    "execution": {
     "iopub.execute_input": "2023-04-15T02:22:52.415384Z",
     "iopub.status.busy": "2023-04-15T02:22:52.414245Z",
     "iopub.status.idle": "2023-04-15T02:22:52.420305Z",
     "shell.execute_reply": "2023-04-15T02:22:52.419309Z"
    },
    "papermill": {
     "duration": 0.013731,
     "end_time": "2023-04-15T02:22:52.422586",
     "exception": false,
     "start_time": "2023-04-15T02:22:52.408855",
     "status": "completed"
    },
    "tags": []
   },
   "outputs": [],
   "source": [
    "def accuracy(y_pred,y_true):\n",
    "    y_pred = F.softmax(y_pred,dim = 1)\n",
    "    top_p,top_class = y_pred.topk(1,dim = 1)\n",
    "    equals = top_class == y_true.view(*top_class.shape)\n",
    "    return torch.mean(equals.type(torch.FloatTensor))"
   ]
  },
  {
   "cell_type": "code",
   "execution_count": 3,
   "id": "a89b89a7",
   "metadata": {
    "execution": {
     "iopub.execute_input": "2023-04-15T02:22:52.432234Z",
     "iopub.status.busy": "2023-04-15T02:22:52.431967Z",
     "iopub.status.idle": "2023-04-15T02:22:52.441199Z",
     "shell.execute_reply": "2023-04-15T02:22:52.440236Z"
    },
    "papermill": {
     "duration": 0.016389,
     "end_time": "2023-04-15T02:22:52.443160",
     "exception": false,
     "start_time": "2023-04-15T02:22:52.426771",
     "status": "completed"
    },
    "tags": []
   },
   "outputs": [],
   "source": [
    "class CustomCNN(nn.Module):\n",
    "    def __init__(self):\n",
    "        super(CustomCNN, self).__init__()\n",
    "        self.conv1 = nn.Conv2d(3, 32, kernel_size=7)\n",
    "        self.act = nn.Mish()\n",
    "        self.maxpool = nn.MaxPool2d(2,2)\n",
    "        self.conv2 = nn.Conv2d(32, 64, kernel_size=3)\n",
    "        self.conv3 = nn.Conv2d(64, 64, kernel_size=3)\n",
    "        self.avgpool = nn.AdaptiveAvgPool2d(1)\n",
    "        self.fc = nn.Linear(64,10)\n",
    "        self.apply(self._init_weights)\n",
    "        \n",
    "    def _init_weights(self,m):\n",
    "        if isinstance(m, (nn.Conv2d, nn.Linear)):\n",
    "            torch.nn.init.kaiming_uniform_(m.weight)\n",
    "            torch.nn.init.constant_(m.bias, 0)\n",
    "            \n",
    "    def forward(self,x):\n",
    "        x = self.conv1(x)\n",
    "        x = self.act(x)\n",
    "        x = self.maxpool(x)\n",
    "        x = self.conv2(x)\n",
    "        x = self.act(x)\n",
    "        x = self.conv3(x)\n",
    "        x = self.act(x)\n",
    "        x = self.avgpool(x)\n",
    "        x = x.view(x.size(0), -1)\n",
    "        return self.fc(x)"
   ]
  },
  {
   "cell_type": "code",
   "execution_count": 4,
   "id": "75661984",
   "metadata": {
    "execution": {
     "iopub.execute_input": "2023-04-15T02:22:52.453663Z",
     "iopub.status.busy": "2023-04-15T02:22:52.452872Z",
     "iopub.status.idle": "2023-04-15T02:44:25.601275Z",
     "shell.execute_reply": "2023-04-15T02:44:25.600188Z"
    },
    "papermill": {
     "duration": 1293.156135,
     "end_time": "2023-04-15T02:44:25.603484",
     "exception": false,
     "start_time": "2023-04-15T02:22:52.447349",
     "status": "completed"
    },
    "tags": []
   },
   "outputs": [
    {
     "name": "stdout",
     "output_type": "stream",
     "text": [
      "Downloading https://www.cs.toronto.edu/~kriz/cifar-10-python.tar.gz to /kaggle/working/cifar-10-python.tar.gz\n"
     ]
    },
    {
     "data": {
      "application/vnd.jupyter.widget-view+json": {
       "model_id": "0edcbc806ec84ff0938725e87c16af05",
       "version_major": 2,
       "version_minor": 0
      },
      "text/plain": [
       "  0%|          | 0/170498071 [00:00<?, ?it/s]"
      ]
     },
     "metadata": {},
     "output_type": "display_data"
    },
    {
     "name": "stdout",
     "output_type": "stream",
     "text": [
      "Extracting /kaggle/working/cifar-10-python.tar.gz to /kaggle/working/\n",
      "Files already downloaded and verified\n"
     ]
    },
    {
     "name": "stderr",
     "output_type": "stream",
     "text": [
      "Train: Epoch 1: 100%|██████████| 196/196 [00:18<00:00, 10.38it/s, loss=1.58]\n"
     ]
    },
    {
     "name": "stdout",
     "output_type": "stream",
     "text": [
      "Epoch 1 - Loss: 1.7250092339758971\n",
      "Epoch 1 - Acc: 0.37210220098495483\n"
     ]
    },
    {
     "name": "stderr",
     "output_type": "stream",
     "text": [
      "Test: Epoch 1: 100%|██████████| 157/157 [00:02<00:00, 61.52it/s]\n"
     ]
    },
    {
     "name": "stdout",
     "output_type": "stream",
     "text": [
      "Test Accuracy: 0.44735270738601685\n"
     ]
    },
    {
     "name": "stderr",
     "output_type": "stream",
     "text": [
      "Train: Epoch 2: 100%|██████████| 196/196 [00:14<00:00, 13.87it/s, loss=1.38]\n"
     ]
    },
    {
     "name": "stdout",
     "output_type": "stream",
     "text": [
      "Epoch 2 - Loss: 1.4009646621285652\n",
      "Epoch 2 - Acc: 0.5011838674545288\n"
     ]
    },
    {
     "name": "stderr",
     "output_type": "stream",
     "text": [
      "Test: Epoch 2: 100%|██████████| 157/157 [00:02<00:00, 61.27it/s]\n"
     ]
    },
    {
     "name": "stdout",
     "output_type": "stream",
     "text": [
      "Test Accuracy: 0.5097531676292419\n"
     ]
    },
    {
     "name": "stderr",
     "output_type": "stream",
     "text": [
      "Train: Epoch 3: 100%|██████████| 196/196 [00:14<00:00, 13.46it/s, loss=1.27]\n"
     ]
    },
    {
     "name": "stdout",
     "output_type": "stream",
     "text": [
      "Epoch 3 - Loss: 1.2705812064968809\n",
      "Epoch 3 - Acc: 0.5500279068946838\n"
     ]
    },
    {
     "name": "stderr",
     "output_type": "stream",
     "text": [
      "Test: Epoch 3: 100%|██████████| 157/157 [00:02<00:00, 58.92it/s]\n"
     ]
    },
    {
     "name": "stdout",
     "output_type": "stream",
     "text": [
      "Test Accuracy: 0.5573248267173767\n"
     ]
    },
    {
     "name": "stderr",
     "output_type": "stream",
     "text": [
      "Train: Epoch 4: 100%|██████████| 196/196 [00:13<00:00, 14.19it/s, loss=1.2]\n"
     ]
    },
    {
     "name": "stdout",
     "output_type": "stream",
     "text": [
      "Epoch 4 - Loss: 1.1820719838142395\n",
      "Epoch 4 - Acc: 0.5834582448005676\n"
     ]
    },
    {
     "name": "stderr",
     "output_type": "stream",
     "text": [
      "Test: Epoch 4: 100%|██████████| 157/157 [00:02<00:00, 59.21it/s]\n"
     ]
    },
    {
     "name": "stdout",
     "output_type": "stream",
     "text": [
      "Test Accuracy: 0.5856887102127075\n"
     ]
    },
    {
     "name": "stderr",
     "output_type": "stream",
     "text": [
      "Train: Epoch 5: 100%|██████████| 196/196 [00:14<00:00, 13.47it/s, loss=1.13]\n"
     ]
    },
    {
     "name": "stdout",
     "output_type": "stream",
     "text": [
      "Epoch 5 - Loss: 1.11795908912104\n",
      "Epoch 5 - Acc: 0.606425404548645\n"
     ]
    },
    {
     "name": "stderr",
     "output_type": "stream",
     "text": [
      "Test: Epoch 5: 100%|██████████| 157/157 [00:02<00:00, 61.21it/s]\n"
     ]
    },
    {
     "name": "stdout",
     "output_type": "stream",
     "text": [
      "Test Accuracy: 0.6050955653190613\n"
     ]
    },
    {
     "name": "stderr",
     "output_type": "stream",
     "text": [
      "Train: Epoch 6: 100%|██████████| 196/196 [00:14<00:00, 13.98it/s, loss=1.06]\n"
     ]
    },
    {
     "name": "stdout",
     "output_type": "stream",
     "text": [
      "Epoch 6 - Loss: 1.0668717951190716\n",
      "Epoch 6 - Acc: 0.624601423740387\n"
     ]
    },
    {
     "name": "stderr",
     "output_type": "stream",
     "text": [
      "Test: Epoch 6: 100%|██████████| 157/157 [00:03<00:00, 50.30it/s]\n"
     ]
    },
    {
     "name": "stdout",
     "output_type": "stream",
     "text": [
      "Test Accuracy: 0.6206210255622864\n"
     ]
    },
    {
     "name": "stderr",
     "output_type": "stream",
     "text": [
      "Train: Epoch 7: 100%|██████████| 196/196 [00:14<00:00, 13.67it/s, loss=0.995]\n"
     ]
    },
    {
     "name": "stdout",
     "output_type": "stream",
     "text": [
      "Epoch 7 - Loss: 1.0239362081094665\n",
      "Epoch 7 - Acc: 0.6390345692634583\n"
     ]
    },
    {
     "name": "stderr",
     "output_type": "stream",
     "text": [
      "Test: Epoch 7: 100%|██████████| 157/157 [00:02<00:00, 61.17it/s]\n"
     ]
    },
    {
     "name": "stdout",
     "output_type": "stream",
     "text": [
      "Test Accuracy: 0.6318670511245728\n"
     ]
    },
    {
     "name": "stderr",
     "output_type": "stream",
     "text": [
      "Train: Epoch 8: 100%|██████████| 196/196 [00:14<00:00, 13.71it/s, loss=0.949]\n"
     ]
    },
    {
     "name": "stdout",
     "output_type": "stream",
     "text": [
      "Epoch 8 - Loss: 0.9869966184606358\n",
      "Epoch 8 - Acc: 0.653093159198761\n"
     ]
    },
    {
     "name": "stderr",
     "output_type": "stream",
     "text": [
      "Test: Epoch 8: 100%|██████████| 157/157 [00:02<00:00, 55.50it/s]\n"
     ]
    },
    {
     "name": "stdout",
     "output_type": "stream",
     "text": [
      "Test Accuracy: 0.6424164175987244\n"
     ]
    },
    {
     "name": "stderr",
     "output_type": "stream",
     "text": [
      "Train: Epoch 9: 100%|██████████| 196/196 [00:13<00:00, 14.22it/s, loss=0.915]\n"
     ]
    },
    {
     "name": "stdout",
     "output_type": "stream",
     "text": [
      "Epoch 9 - Loss: 0.9538358173200062\n",
      "Epoch 9 - Acc: 0.6651387214660645\n"
     ]
    },
    {
     "name": "stderr",
     "output_type": "stream",
     "text": [
      "Test: Epoch 9: 100%|██████████| 157/157 [00:02<00:00, 62.70it/s]\n"
     ]
    },
    {
     "name": "stdout",
     "output_type": "stream",
     "text": [
      "Test Accuracy: 0.6505772471427917\n"
     ]
    },
    {
     "name": "stderr",
     "output_type": "stream",
     "text": [
      "Train: Epoch 10: 100%|██████████| 196/196 [00:14<00:00, 13.61it/s, loss=0.882]\n"
     ]
    },
    {
     "name": "stdout",
     "output_type": "stream",
     "text": [
      "Epoch 10 - Loss: 0.923559343024176\n",
      "Epoch 10 - Acc: 0.6756815910339355\n"
     ]
    },
    {
     "name": "stderr",
     "output_type": "stream",
     "text": [
      "Test: Epoch 10: 100%|██████████| 157/157 [00:02<00:00, 60.88it/s]\n"
     ]
    },
    {
     "name": "stdout",
     "output_type": "stream",
     "text": [
      "Test Accuracy: 0.6610270738601685\n"
     ]
    },
    {
     "name": "stderr",
     "output_type": "stream",
     "text": [
      "Train: Epoch 11: 100%|██████████| 196/196 [00:13<00:00, 14.04it/s, loss=0.855]\n"
     ]
    },
    {
     "name": "stdout",
     "output_type": "stream",
     "text": [
      "Epoch 11 - Loss: 0.8962511143514088\n",
      "Epoch 11 - Acc: 0.6847496628761292\n"
     ]
    },
    {
     "name": "stderr",
     "output_type": "stream",
     "text": [
      "Test: Epoch 11: 100%|██████████| 157/157 [00:02<00:00, 61.11it/s]\n"
     ]
    },
    {
     "name": "stdout",
     "output_type": "stream",
     "text": [
      "Test Accuracy: 0.668292224407196\n"
     ]
    },
    {
     "name": "stderr",
     "output_type": "stream",
     "text": [
      "Train: Epoch 12: 100%|██████████| 196/196 [00:14<00:00, 13.38it/s, loss=0.828]\n"
     ]
    },
    {
     "name": "stdout",
     "output_type": "stream",
     "text": [
      "Epoch 12 - Loss: 0.8714634821731218\n",
      "Epoch 12 - Acc: 0.6939014792442322\n"
     ]
    },
    {
     "name": "stderr",
     "output_type": "stream",
     "text": [
      "Test: Epoch 12: 100%|██████████| 157/157 [00:02<00:00, 61.29it/s]\n"
     ]
    },
    {
     "name": "stdout",
     "output_type": "stream",
     "text": [
      "Test Accuracy: 0.6727706789970398\n"
     ]
    },
    {
     "name": "stderr",
     "output_type": "stream",
     "text": [
      "Train: Epoch 13: 100%|██████████| 196/196 [00:13<00:00, 14.10it/s, loss=0.8]\n"
     ]
    },
    {
     "name": "stdout",
     "output_type": "stream",
     "text": [
      "Epoch 13 - Loss: 0.8487154941777794\n",
      "Epoch 13 - Acc: 0.7023158073425293\n"
     ]
    },
    {
     "name": "stderr",
     "output_type": "stream",
     "text": [
      "Test: Epoch 13: 100%|██████████| 157/157 [00:02<00:00, 61.10it/s]\n"
     ]
    },
    {
     "name": "stdout",
     "output_type": "stream",
     "text": [
      "Test Accuracy: 0.6800358295440674\n"
     ]
    },
    {
     "name": "stderr",
     "output_type": "stream",
     "text": [
      "Train: Epoch 14: 100%|██████████| 196/196 [00:14<00:00, 13.59it/s, loss=0.774]\n"
     ]
    },
    {
     "name": "stdout",
     "output_type": "stream",
     "text": [
      "Epoch 14 - Loss: 0.8275836116197158\n",
      "Epoch 14 - Acc: 0.7102678418159485\n"
     ]
    },
    {
     "name": "stderr",
     "output_type": "stream",
     "text": [
      "Test: Epoch 14: 100%|██████████| 157/157 [00:02<00:00, 62.74it/s]\n"
     ]
    },
    {
     "name": "stdout",
     "output_type": "stream",
     "text": [
      "Test Accuracy: 0.6850119233131409\n"
     ]
    },
    {
     "name": "stderr",
     "output_type": "stream",
     "text": [
      "Train: Epoch 15: 100%|██████████| 196/196 [00:13<00:00, 14.19it/s, loss=0.747]\n"
     ]
    },
    {
     "name": "stdout",
     "output_type": "stream",
     "text": [
      "Epoch 15 - Loss: 0.8079720933218392\n",
      "Epoch 15 - Acc: 0.7181600332260132\n"
     ]
    },
    {
     "name": "stderr",
     "output_type": "stream",
     "text": [
      "Test: Epoch 15: 100%|██████████| 157/157 [00:02<00:00, 61.77it/s]\n"
     ]
    },
    {
     "name": "stdout",
     "output_type": "stream",
     "text": [
      "Test Accuracy: 0.6886942386627197\n"
     ]
    },
    {
     "name": "stderr",
     "output_type": "stream",
     "text": [
      "Train: Epoch 16: 100%|██████████| 196/196 [00:14<00:00, 13.47it/s, loss=0.721]\n"
     ]
    },
    {
     "name": "stdout",
     "output_type": "stream",
     "text": [
      "Epoch 16 - Loss: 0.7899108167205539\n",
      "Epoch 16 - Acc: 0.7249560952186584\n"
     ]
    },
    {
     "name": "stderr",
     "output_type": "stream",
     "text": [
      "Test: Epoch 16: 100%|██████████| 157/157 [00:02<00:00, 58.89it/s]\n"
     ]
    },
    {
     "name": "stdout",
     "output_type": "stream",
     "text": [
      "Test Accuracy: 0.694167971611023\n"
     ]
    },
    {
     "name": "stderr",
     "output_type": "stream",
     "text": [
      "Train: Epoch 17: 100%|██████████| 196/196 [00:14<00:00, 13.90it/s, loss=0.696]\n"
     ]
    },
    {
     "name": "stdout",
     "output_type": "stream",
     "text": [
      "Epoch 17 - Loss: 0.7734254781080752\n",
      "Epoch 17 - Acc: 0.7310387492179871\n"
     ]
    },
    {
     "name": "stderr",
     "output_type": "stream",
     "text": [
      "Test: Epoch 17: 100%|██████████| 157/157 [00:02<00:00, 57.32it/s]\n"
     ]
    },
    {
     "name": "stdout",
     "output_type": "stream",
     "text": [
      "Test Accuracy: 0.6999402642250061\n"
     ]
    },
    {
     "name": "stderr",
     "output_type": "stream",
     "text": [
      "Train: Epoch 18: 100%|██████████| 196/196 [00:14<00:00, 13.41it/s, loss=0.672]\n"
     ]
    },
    {
     "name": "stdout",
     "output_type": "stream",
     "text": [
      "Epoch 18 - Loss: 0.7585155924364012\n",
      "Epoch 18 - Acc: 0.7361646890640259\n"
     ]
    },
    {
     "name": "stderr",
     "output_type": "stream",
     "text": [
      "Test: Epoch 18: 100%|██████████| 157/157 [00:02<00:00, 62.27it/s]\n"
     ]
    },
    {
     "name": "stdout",
     "output_type": "stream",
     "text": [
      "Test Accuracy: 0.7030254602432251\n"
     ]
    },
    {
     "name": "stderr",
     "output_type": "stream",
     "text": [
      "Train: Epoch 19: 100%|██████████| 196/196 [00:14<00:00, 13.87it/s, loss=0.645]\n"
     ]
    },
    {
     "name": "stdout",
     "output_type": "stream",
     "text": [
      "Epoch 19 - Loss: 0.7445601300925625\n",
      "Epoch 19 - Acc: 0.740429699420929\n"
     ]
    },
    {
     "name": "stderr",
     "output_type": "stream",
     "text": [
      "Test: Epoch 19: 100%|██████████| 157/157 [00:02<00:00, 57.10it/s]\n"
     ]
    },
    {
     "name": "stdout",
     "output_type": "stream",
     "text": [
      "Test Accuracy: 0.7046178579330444\n"
     ]
    },
    {
     "name": "stderr",
     "output_type": "stream",
     "text": [
      "Train: Epoch 20: 100%|██████████| 196/196 [00:14<00:00, 13.33it/s, loss=0.617]\n"
     ]
    },
    {
     "name": "stdout",
     "output_type": "stream",
     "text": [
      "Epoch 20 - Loss: 0.7306076187868508\n",
      "Epoch 20 - Acc: 0.7463648319244385\n"
     ]
    },
    {
     "name": "stderr",
     "output_type": "stream",
     "text": [
      "Test: Epoch 20: 100%|██████████| 157/157 [00:02<00:00, 60.78it/s]\n"
     ]
    },
    {
     "name": "stdout",
     "output_type": "stream",
     "text": [
      "Test Accuracy: 0.7089968323707581\n"
     ]
    },
    {
     "name": "stderr",
     "output_type": "stream",
     "text": [
      "Train: Epoch 21: 100%|██████████| 196/196 [00:14<00:00, 13.83it/s, loss=0.594]\n"
     ]
    },
    {
     "name": "stdout",
     "output_type": "stream",
     "text": [
      "Epoch 21 - Loss: 0.7166911859293373\n",
      "Epoch 21 - Acc: 0.7508569955825806\n"
     ]
    },
    {
     "name": "stderr",
     "output_type": "stream",
     "text": [
      "Test: Epoch 21: 100%|██████████| 157/157 [00:02<00:00, 56.34it/s]\n"
     ]
    },
    {
     "name": "stdout",
     "output_type": "stream",
     "text": [
      "Test Accuracy: 0.7127786874771118\n"
     ]
    },
    {
     "name": "stderr",
     "output_type": "stream",
     "text": [
      "Train: Epoch 22: 100%|██████████| 196/196 [00:14<00:00, 13.66it/s, loss=0.575]\n"
     ]
    },
    {
     "name": "stdout",
     "output_type": "stream",
     "text": [
      "Epoch 22 - Loss: 0.7032703149075411\n",
      "Epoch 22 - Acc: 0.7552734613418579\n"
     ]
    },
    {
     "name": "stderr",
     "output_type": "stream",
     "text": [
      "Test: Epoch 22: 100%|██████████| 157/157 [00:02<00:00, 61.71it/s]\n"
     ]
    },
    {
     "name": "stdout",
     "output_type": "stream",
     "text": [
      "Test Accuracy: 0.7148686051368713\n"
     ]
    },
    {
     "name": "stderr",
     "output_type": "stream",
     "text": [
      "Train: Epoch 23: 100%|██████████| 196/196 [00:14<00:00, 13.76it/s, loss=0.557]\n"
     ]
    },
    {
     "name": "stdout",
     "output_type": "stream",
     "text": [
      "Epoch 23 - Loss: 0.6904906019264337\n",
      "Epoch 23 - Acc: 0.7609574198722839\n"
     ]
    },
    {
     "name": "stderr",
     "output_type": "stream",
     "text": [
      "Test: Epoch 23: 100%|██████████| 157/157 [00:03<00:00, 50.04it/s]\n"
     ]
    },
    {
     "name": "stdout",
     "output_type": "stream",
     "text": [
      "Test Accuracy: 0.718550980091095\n"
     ]
    },
    {
     "name": "stderr",
     "output_type": "stream",
     "text": [
      "Train: Epoch 24: 100%|██████████| 196/196 [00:13<00:00, 14.01it/s, loss=0.539]\n"
     ]
    },
    {
     "name": "stdout",
     "output_type": "stream",
     "text": [
      "Epoch 24 - Loss: 0.6783274761876281\n",
      "Epoch 24 - Acc: 0.7658243179321289\n"
     ]
    },
    {
     "name": "stderr",
     "output_type": "stream",
     "text": [
      "Test: Epoch 24: 100%|██████████| 157/157 [00:02<00:00, 60.55it/s]\n"
     ]
    },
    {
     "name": "stdout",
     "output_type": "stream",
     "text": [
      "Test Accuracy: 0.7211385369300842\n"
     ]
    },
    {
     "name": "stderr",
     "output_type": "stream",
     "text": [
      "Train: Epoch 25: 100%|██████████| 196/196 [00:14<00:00, 13.13it/s, loss=0.523]\n"
     ]
    },
    {
     "name": "stdout",
     "output_type": "stream",
     "text": [
      "Epoch 25 - Loss: 0.666715216879942\n",
      "Epoch 25 - Acc: 0.7698341608047485\n"
     ]
    },
    {
     "name": "stderr",
     "output_type": "stream",
     "text": [
      "Test: Epoch 25: 100%|██████████| 157/157 [00:02<00:00, 59.66it/s]\n"
     ]
    },
    {
     "name": "stdout",
     "output_type": "stream",
     "text": [
      "Test Accuracy: 0.7238256335258484\n"
     ]
    },
    {
     "name": "stderr",
     "output_type": "stream",
     "text": [
      "Train: Epoch 26: 100%|██████████| 196/196 [00:13<00:00, 14.01it/s, loss=0.506]\n"
     ]
    },
    {
     "name": "stdout",
     "output_type": "stream",
     "text": [
      "Epoch 26 - Loss: 0.6555786144976713\n",
      "Epoch 26 - Acc: 0.7735012769699097\n"
     ]
    },
    {
     "name": "stderr",
     "output_type": "stream",
     "text": [
      "Test: Epoch 26: 100%|██████████| 157/157 [00:02<00:00, 61.77it/s]\n"
     ]
    },
    {
     "name": "stdout",
     "output_type": "stream",
     "text": [
      "Test Accuracy: 0.7257165312767029\n"
     ]
    },
    {
     "name": "stderr",
     "output_type": "stream",
     "text": [
      "Train: Epoch 27: 100%|██████████| 196/196 [00:14<00:00, 13.48it/s, loss=0.491]\n"
     ]
    },
    {
     "name": "stdout",
     "output_type": "stream",
     "text": [
      "Epoch 27 - Loss: 0.6448616581607838\n",
      "Epoch 27 - Acc: 0.7773956060409546\n"
     ]
    },
    {
     "name": "stderr",
     "output_type": "stream",
     "text": [
      "Test: Epoch 27: 100%|██████████| 157/157 [00:02<00:00, 61.32it/s]\n"
     ]
    },
    {
     "name": "stdout",
     "output_type": "stream",
     "text": [
      "Test Accuracy: 0.7281050682067871\n"
     ]
    },
    {
     "name": "stderr",
     "output_type": "stream",
     "text": [
      "Train: Epoch 28: 100%|██████████| 196/196 [00:14<00:00, 13.92it/s, loss=0.476]\n"
     ]
    },
    {
     "name": "stdout",
     "output_type": "stream",
     "text": [
      "Epoch 28 - Loss: 0.634491571358272\n",
      "Epoch 28 - Acc: 0.7815489768981934\n"
     ]
    },
    {
     "name": "stderr",
     "output_type": "stream",
     "text": [
      "Test: Epoch 28: 100%|██████████| 157/157 [00:02<00:00, 62.52it/s]\n"
     ]
    },
    {
     "name": "stdout",
     "output_type": "stream",
     "text": [
      "Test Accuracy: 0.7297969460487366\n"
     ]
    },
    {
     "name": "stderr",
     "output_type": "stream",
     "text": [
      "Train: Epoch 29: 100%|██████████| 196/196 [00:14<00:00, 13.53it/s, loss=0.461]\n"
     ]
    },
    {
     "name": "stdout",
     "output_type": "stream",
     "text": [
      "Epoch 29 - Loss: 0.6244658408116321\n",
      "Epoch 29 - Acc: 0.7852160334587097\n"
     ]
    },
    {
     "name": "stderr",
     "output_type": "stream",
     "text": [
      "Test: Epoch 29: 100%|██████████| 157/157 [00:02<00:00, 61.77it/s]\n"
     ]
    },
    {
     "name": "stdout",
     "output_type": "stream",
     "text": [
      "Test Accuracy: 0.7306926846504211\n"
     ]
    },
    {
     "name": "stderr",
     "output_type": "stream",
     "text": [
      "Train: Epoch 30: 100%|██████████| 196/196 [00:14<00:00, 13.97it/s, loss=0.448]\n"
     ]
    },
    {
     "name": "stdout",
     "output_type": "stream",
     "text": [
      "Epoch 30 - Loss: 0.6148084011309001\n",
      "Epoch 30 - Acc: 0.7886878252029419\n"
     ]
    },
    {
     "name": "stderr",
     "output_type": "stream",
     "text": [
      "Test: Epoch 30: 100%|██████████| 157/157 [00:02<00:00, 58.69it/s]\n"
     ]
    },
    {
     "name": "stdout",
     "output_type": "stream",
     "text": [
      "Test Accuracy: 0.7317874431610107\n"
     ]
    },
    {
     "name": "stderr",
     "output_type": "stream",
     "text": [
      "Train: Epoch 31: 100%|██████████| 196/196 [00:14<00:00, 13.79it/s, loss=0.435]\n"
     ]
    },
    {
     "name": "stdout",
     "output_type": "stream",
     "text": [
      "Epoch 31 - Loss: 0.6054718754425341\n",
      "Epoch 31 - Acc: 0.791796863079071\n"
     ]
    },
    {
     "name": "stderr",
     "output_type": "stream",
     "text": [
      "Test: Epoch 31: 100%|██████████| 157/157 [00:02<00:00, 62.68it/s]\n"
     ]
    },
    {
     "name": "stdout",
     "output_type": "stream",
     "text": [
      "Test Accuracy: 0.7334793210029602\n"
     ]
    },
    {
     "name": "stderr",
     "output_type": "stream",
     "text": [
      "Train: Epoch 32: 100%|██████████| 196/196 [00:13<00:00, 14.15it/s, loss=0.422]\n"
     ]
    },
    {
     "name": "stdout",
     "output_type": "stream",
     "text": [
      "Epoch 32 - Loss: 0.5964412680085824\n",
      "Epoch 32 - Acc: 0.7951450943946838\n"
     ]
    },
    {
     "name": "stderr",
     "output_type": "stream",
     "text": [
      "Test: Epoch 32: 100%|██████████| 157/157 [00:02<00:00, 59.49it/s]\n"
     ]
    },
    {
     "name": "stdout",
     "output_type": "stream",
     "text": [
      "Test Accuracy: 0.7342754602432251\n"
     ]
    },
    {
     "name": "stderr",
     "output_type": "stream",
     "text": [
      "Train: Epoch 33: 100%|██████████| 196/196 [00:14<00:00, 13.83it/s, loss=0.41]\n"
     ]
    },
    {
     "name": "stdout",
     "output_type": "stream",
     "text": [
      "Epoch 33 - Loss: 0.5876905157858011\n",
      "Epoch 33 - Acc: 0.7977160215377808\n"
     ]
    },
    {
     "name": "stderr",
     "output_type": "stream",
     "text": [
      "Test: Epoch 33: 100%|██████████| 157/157 [00:02<00:00, 62.35it/s]\n"
     ]
    },
    {
     "name": "stdout",
     "output_type": "stream",
     "text": [
      "Test Accuracy: 0.7357683181762695\n"
     ]
    },
    {
     "name": "stderr",
     "output_type": "stream",
     "text": [
      "Train: Epoch 34: 100%|██████████| 196/196 [00:14<00:00, 13.92it/s, loss=0.398]\n"
     ]
    },
    {
     "name": "stdout",
     "output_type": "stream",
     "text": [
      "Epoch 34 - Loss: 0.5792277870433671\n",
      "Epoch 34 - Acc: 0.8012834787368774\n"
     ]
    },
    {
     "name": "stderr",
     "output_type": "stream",
     "text": [
      "Test: Epoch 34: 100%|██████████| 157/157 [00:02<00:00, 58.18it/s]\n"
     ]
    },
    {
     "name": "stdout",
     "output_type": "stream",
     "text": [
      "Test Accuracy: 0.7373606562614441\n"
     ]
    },
    {
     "name": "stderr",
     "output_type": "stream",
     "text": [
      "Train: Epoch 35: 100%|██████████| 196/196 [00:14<00:00, 13.59it/s, loss=0.386]\n"
     ]
    },
    {
     "name": "stdout",
     "output_type": "stream",
     "text": [
      "Epoch 35 - Loss: 0.5710834235865243\n",
      "Epoch 35 - Acc: 0.8045718669891357\n"
     ]
    },
    {
     "name": "stderr",
     "output_type": "stream",
     "text": [
      "Test: Epoch 35: 100%|██████████| 157/157 [00:02<00:00, 60.31it/s]\n"
     ]
    },
    {
     "name": "stdout",
     "output_type": "stream",
     "text": [
      "Test Accuracy: 0.7385549545288086\n"
     ]
    },
    {
     "name": "stderr",
     "output_type": "stream",
     "text": [
      "Train: Epoch 36: 100%|██████████| 196/196 [00:14<00:00, 13.80it/s, loss=0.374]\n"
     ]
    },
    {
     "name": "stdout",
     "output_type": "stream",
     "text": [
      "Epoch 36 - Loss: 0.5632472682972344\n",
      "Epoch 36 - Acc: 0.8077845573425293\n"
     ]
    },
    {
     "name": "stderr",
     "output_type": "stream",
     "text": [
      "Test: Epoch 36: 100%|██████████| 157/157 [00:02<00:00, 57.49it/s]\n"
     ]
    },
    {
     "name": "stdout",
     "output_type": "stream",
     "text": [
      "Test Accuracy: 0.7399482727050781\n"
     ]
    },
    {
     "name": "stderr",
     "output_type": "stream",
     "text": [
      "Train: Epoch 37: 100%|██████████| 196/196 [00:14<00:00, 13.40it/s, loss=0.363]\n"
     ]
    },
    {
     "name": "stdout",
     "output_type": "stream",
     "text": [
      "Epoch 37 - Loss: 0.5557213901561133\n",
      "Epoch 37 - Acc: 0.8099967837333679\n"
     ]
    },
    {
     "name": "stderr",
     "output_type": "stream",
     "text": [
      "Test: Epoch 37: 100%|██████████| 157/157 [00:02<00:00, 61.52it/s]\n"
     ]
    },
    {
     "name": "stdout",
     "output_type": "stream",
     "text": [
      "Test Accuracy: 0.7399482727050781\n"
     ]
    },
    {
     "name": "stderr",
     "output_type": "stream",
     "text": [
      "Train: Epoch 38: 100%|██████████| 196/196 [00:14<00:00, 13.97it/s, loss=0.353]\n"
     ]
    },
    {
     "name": "stdout",
     "output_type": "stream",
     "text": [
      "Epoch 38 - Loss: 0.5484657485266121\n",
      "Epoch 38 - Acc: 0.8129463791847229\n"
     ]
    },
    {
     "name": "stderr",
     "output_type": "stream",
     "text": [
      "Test: Epoch 38: 100%|██████████| 157/157 [00:03<00:00, 51.18it/s]\n"
     ]
    },
    {
     "name": "stdout",
     "output_type": "stream",
     "text": [
      "Test Accuracy: 0.7420381903648376\n"
     ]
    },
    {
     "name": "stderr",
     "output_type": "stream",
     "text": [
      "Train: Epoch 39: 100%|██████████| 196/196 [00:14<00:00, 13.70it/s, loss=0.342]\n"
     ]
    },
    {
     "name": "stdout",
     "output_type": "stream",
     "text": [
      "Epoch 39 - Loss: 0.5414758774698997\n",
      "Epoch 39 - Acc: 0.8157166242599487\n"
     ]
    },
    {
     "name": "stderr",
     "output_type": "stream",
     "text": [
      "Test: Epoch 39: 100%|██████████| 157/157 [00:02<00:00, 59.83it/s]\n"
     ]
    },
    {
     "name": "stdout",
     "output_type": "stream",
     "text": [
      "Test Accuracy: 0.7430334687232971\n"
     ]
    },
    {
     "name": "stderr",
     "output_type": "stream",
     "text": [
      "Train: Epoch 40: 100%|██████████| 196/196 [00:14<00:00, 13.64it/s, loss=0.333]\n"
     ]
    },
    {
     "name": "stdout",
     "output_type": "stream",
     "text": [
      "Epoch 40 - Loss: 0.5347142908342031\n",
      "Epoch 40 - Acc: 0.8183075189590454\n"
     ]
    },
    {
     "name": "stderr",
     "output_type": "stream",
     "text": [
      "Test: Epoch 40: 100%|██████████| 157/157 [00:02<00:00, 58.70it/s]\n"
     ]
    },
    {
     "name": "stdout",
     "output_type": "stream",
     "text": [
      "Test Accuracy: 0.743332028388977\n"
     ]
    },
    {
     "name": "stderr",
     "output_type": "stream",
     "text": [
      "Train: Epoch 41: 100%|██████████| 196/196 [00:14<00:00, 13.61it/s, loss=0.323]\n"
     ]
    },
    {
     "name": "stdout",
     "output_type": "stream",
     "text": [
      "Epoch 41 - Loss: 0.5281226437310783\n",
      "Epoch 41 - Acc: 0.8207987546920776\n"
     ]
    },
    {
     "name": "stderr",
     "output_type": "stream",
     "text": [
      "Test: Epoch 41: 100%|██████████| 157/157 [00:02<00:00, 59.26it/s]\n"
     ]
    },
    {
     "name": "stdout",
     "output_type": "stream",
     "text": [
      "Test Accuracy: 0.7440286874771118\n"
     ]
    },
    {
     "name": "stderr",
     "output_type": "stream",
     "text": [
      "Train: Epoch 42: 100%|██████████| 196/196 [00:14<00:00, 13.44it/s, loss=0.314]\n"
     ]
    },
    {
     "name": "stdout",
     "output_type": "stream",
     "text": [
      "Epoch 42 - Loss: 0.5217370147607765\n",
      "Epoch 42 - Acc: 0.8229312300682068\n"
     ]
    },
    {
     "name": "stderr",
     "output_type": "stream",
     "text": [
      "Test: Epoch 42: 100%|██████████| 157/157 [00:02<00:00, 59.81it/s]\n"
     ]
    },
    {
     "name": "stdout",
     "output_type": "stream",
     "text": [
      "Test Accuracy: 0.743630588054657\n"
     ]
    },
    {
     "name": "stderr",
     "output_type": "stream",
     "text": [
      "Train: Epoch 43: 100%|██████████| 196/196 [00:14<00:00, 13.67it/s, loss=0.305]\n"
     ]
    },
    {
     "name": "stdout",
     "output_type": "stream",
     "text": [
      "Epoch 43 - Loss: 0.5155642973829289\n",
      "Epoch 43 - Acc: 0.825023889541626\n"
     ]
    },
    {
     "name": "stderr",
     "output_type": "stream",
     "text": [
      "Test: Epoch 43: 100%|██████████| 157/157 [00:02<00:00, 58.07it/s]\n"
     ]
    },
    {
     "name": "stdout",
     "output_type": "stream",
     "text": [
      "Test Accuracy: 0.743829607963562\n"
     ]
    },
    {
     "name": "stderr",
     "output_type": "stream",
     "text": [
      "Train: Epoch 44: 100%|██████████| 196/196 [00:14<00:00, 13.39it/s, loss=0.296]\n"
     ]
    },
    {
     "name": "stdout",
     "output_type": "stream",
     "text": [
      "Epoch 44 - Loss: 0.5095828345843724\n",
      "Epoch 44 - Acc: 0.826961100101471\n"
     ]
    },
    {
     "name": "stderr",
     "output_type": "stream",
     "text": [
      "Test: Epoch 44: 100%|██████████| 157/157 [00:02<00:00, 60.40it/s]\n"
     ]
    },
    {
     "name": "stdout",
     "output_type": "stream",
     "text": [
      "Test Accuracy: 0.7432324886322021\n"
     ]
    },
    {
     "name": "stderr",
     "output_type": "stream",
     "text": [
      "Train: Epoch 45: 100%|██████████| 196/196 [00:14<00:00, 13.64it/s, loss=0.288]\n"
     ]
    },
    {
     "name": "stdout",
     "output_type": "stream",
     "text": [
      "Epoch 45 - Loss: 0.5037794660548774\n",
      "Epoch 45 - Acc: 0.8294962048530579\n"
     ]
    },
    {
     "name": "stderr",
     "output_type": "stream",
     "text": [
      "Test: Epoch 45: 100%|██████████| 157/157 [00:02<00:00, 57.53it/s]\n"
     ]
    },
    {
     "name": "stdout",
     "output_type": "stream",
     "text": [
      "Test Accuracy: 0.7447253465652466\n"
     ]
    },
    {
     "name": "stderr",
     "output_type": "stream",
     "text": [
      "Train: Epoch 46: 100%|██████████| 196/196 [00:14<00:00, 13.12it/s, loss=0.279]\n"
     ]
    },
    {
     "name": "stdout",
     "output_type": "stream",
     "text": [
      "Epoch 46 - Loss: 0.49816783639241236\n",
      "Epoch 46 - Acc: 0.831608772277832\n"
     ]
    },
    {
     "name": "stderr",
     "output_type": "stream",
     "text": [
      "Test: Epoch 46: 100%|██████████| 157/157 [00:02<00:00, 61.14it/s]\n"
     ]
    },
    {
     "name": "stdout",
     "output_type": "stream",
     "text": [
      "Test Accuracy: 0.7454219460487366\n"
     ]
    },
    {
     "name": "stderr",
     "output_type": "stream",
     "text": [
      "Train: Epoch 47: 100%|██████████| 196/196 [00:14<00:00, 14.00it/s, loss=0.271]\n"
     ]
    },
    {
     "name": "stdout",
     "output_type": "stream",
     "text": [
      "Epoch 47 - Loss: 0.49274306820363417\n",
      "Epoch 47 - Acc: 0.8334861397743225\n"
     ]
    },
    {
     "name": "stderr",
     "output_type": "stream",
     "text": [
      "Test: Epoch 47: 100%|██████████| 157/157 [00:02<00:00, 61.32it/s]\n"
     ]
    },
    {
     "name": "stdout",
     "output_type": "stream",
     "text": [
      "Test Accuracy: 0.7463176846504211\n"
     ]
    },
    {
     "name": "stderr",
     "output_type": "stream",
     "text": [
      "Train: Epoch 48: 100%|██████████| 196/196 [00:14<00:00, 13.30it/s, loss=0.263]\n"
     ]
    },
    {
     "name": "stdout",
     "output_type": "stream",
     "text": [
      "Epoch 48 - Loss: 0.4875029328526283\n",
      "Epoch 48 - Acc: 0.8351243734359741\n"
     ]
    },
    {
     "name": "stderr",
     "output_type": "stream",
     "text": [
      "Test: Epoch 48: 100%|██████████| 157/157 [00:02<00:00, 61.03it/s]\n"
     ]
    },
    {
     "name": "stdout",
     "output_type": "stream",
     "text": [
      "Test Accuracy: 0.7457205653190613\n"
     ]
    },
    {
     "name": "stderr",
     "output_type": "stream",
     "text": [
      "Train: Epoch 49: 100%|██████████| 196/196 [00:14<00:00, 13.83it/s, loss=0.256]\n"
     ]
    },
    {
     "name": "stdout",
     "output_type": "stream",
     "text": [
      "Epoch 49 - Loss: 0.4824300513279681\n",
      "Epoch 49 - Acc: 0.8369219899177551\n"
     ]
    },
    {
     "name": "stderr",
     "output_type": "stream",
     "text": [
      "Test: Epoch 49: 100%|██████████| 157/157 [00:02<00:00, 59.51it/s]\n"
     ]
    },
    {
     "name": "stdout",
     "output_type": "stream",
     "text": [
      "Test Accuracy: 0.7461186051368713\n"
     ]
    },
    {
     "name": "stderr",
     "output_type": "stream",
     "text": [
      "Train: Epoch 50: 100%|██████████| 196/196 [00:14<00:00, 13.40it/s, loss=0.249]\n"
     ]
    },
    {
     "name": "stdout",
     "output_type": "stream",
     "text": [
      "Epoch 50 - Loss: 0.47751688820366955\n",
      "Epoch 50 - Acc: 0.8387954235076904\n"
     ]
    },
    {
     "name": "stderr",
     "output_type": "stream",
     "text": [
      "Test: Epoch 50: 100%|██████████| 157/157 [00:02<00:00, 60.79it/s]\n"
     ]
    },
    {
     "name": "stdout",
     "output_type": "stream",
     "text": [
      "Test Accuracy: 0.7462181448936462\n"
     ]
    },
    {
     "name": "stderr",
     "output_type": "stream",
     "text": [
      "Train: Epoch 51: 100%|██████████| 196/196 [00:14<00:00, 13.82it/s, loss=0.242]\n"
     ]
    },
    {
     "name": "stdout",
     "output_type": "stream",
     "text": [
      "Epoch 51 - Loss: 0.4727189806194938\n",
      "Epoch 51 - Acc: 0.8407285809516907\n"
     ]
    },
    {
     "name": "stderr",
     "output_type": "stream",
     "text": [
      "Test: Epoch 51: 100%|██████████| 157/157 [00:02<00:00, 53.99it/s]\n"
     ]
    },
    {
     "name": "stdout",
     "output_type": "stream",
     "text": [
      "Test Accuracy: 0.7465167045593262\n"
     ]
    },
    {
     "name": "stderr",
     "output_type": "stream",
     "text": [
      "Train: Epoch 52: 100%|██████████| 196/196 [00:14<00:00, 13.42it/s, loss=0.235]\n"
     ]
    },
    {
     "name": "stdout",
     "output_type": "stream",
     "text": [
      "Epoch 52 - Loss: 0.46803027642320616\n",
      "Epoch 52 - Acc: 0.8422034382820129\n"
     ]
    },
    {
     "name": "stderr",
     "output_type": "stream",
     "text": [
      "Test: Epoch 52: 100%|██████████| 157/157 [00:02<00:00, 55.68it/s]\n"
     ]
    },
    {
     "name": "stdout",
     "output_type": "stream",
     "text": [
      "Test Accuracy: 0.7458200454711914\n"
     ]
    },
    {
     "name": "stderr",
     "output_type": "stream",
     "text": [
      "Train: Epoch 53: 100%|██████████| 196/196 [00:14<00:00, 13.35it/s, loss=0.229]\n"
     ]
    },
    {
     "name": "stdout",
     "output_type": "stream",
     "text": [
      "Epoch 53 - Loss: 0.46339830558518974\n",
      "Epoch 53 - Acc: 0.8439173698425293\n"
     ]
    },
    {
     "name": "stderr",
     "output_type": "stream",
     "text": [
      "Test: Epoch 53: 100%|██████████| 157/157 [00:02<00:00, 58.57it/s]\n"
     ]
    },
    {
     "name": "stdout",
     "output_type": "stream",
     "text": [
      "Test Accuracy: 0.7476114630699158\n"
     ]
    },
    {
     "name": "stderr",
     "output_type": "stream",
     "text": [
      "Train: Epoch 54: 100%|██████████| 196/196 [00:14<00:00, 13.81it/s, loss=0.223]\n"
     ]
    },
    {
     "name": "stdout",
     "output_type": "stream",
     "text": [
      "Epoch 54 - Loss: 0.45878346081899135\n",
      "Epoch 54 - Acc: 0.8456113934516907\n"
     ]
    },
    {
     "name": "stderr",
     "output_type": "stream",
     "text": [
      "Test: Epoch 54: 100%|██████████| 157/157 [00:02<00:00, 58.04it/s]\n"
     ]
    },
    {
     "name": "stdout",
     "output_type": "stream",
     "text": [
      "Test Accuracy: 0.7477110028266907\n"
     ]
    },
    {
     "name": "stderr",
     "output_type": "stream",
     "text": [
      "Train: Epoch 55: 100%|██████████| 196/196 [00:14<00:00, 13.31it/s, loss=0.218]\n"
     ]
    },
    {
     "name": "stdout",
     "output_type": "stream",
     "text": [
      "Epoch 55 - Loss: 0.4541629090601084\n",
      "Epoch 55 - Acc: 0.8470105528831482\n"
     ]
    },
    {
     "name": "stderr",
     "output_type": "stream",
     "text": [
      "Test: Epoch 55: 100%|██████████| 157/157 [00:02<00:00, 56.63it/s]\n"
     ]
    },
    {
     "name": "stdout",
     "output_type": "stream",
     "text": [
      "Test Accuracy: 0.7479100227355957\n"
     ]
    },
    {
     "name": "stderr",
     "output_type": "stream",
     "text": [
      "Train: Epoch 56: 100%|██████████| 196/196 [00:14<00:00, 13.76it/s, loss=0.212]\n"
     ]
    },
    {
     "name": "stdout",
     "output_type": "stream",
     "text": [
      "Epoch 56 - Loss: 0.4495577728565858\n",
      "Epoch 56 - Acc: 0.8487045764923096\n"
     ]
    },
    {
     "name": "stderr",
     "output_type": "stream",
     "text": [
      "Test: Epoch 56: 100%|██████████| 157/157 [00:02<00:00, 59.79it/s]\n"
     ]
    },
    {
     "name": "stdout",
     "output_type": "stream",
     "text": [
      "Test Accuracy: 0.7490047812461853\n"
     ]
    },
    {
     "name": "stderr",
     "output_type": "stream",
     "text": [
      "Train: Epoch 57: 100%|██████████| 196/196 [00:14<00:00, 13.35it/s, loss=0.208]\n"
     ]
    },
    {
     "name": "stdout",
     "output_type": "stream",
     "text": [
      "Epoch 57 - Loss: 0.44496715053611874\n",
      "Epoch 57 - Acc: 0.8503388166427612\n"
     ]
    },
    {
     "name": "stderr",
     "output_type": "stream",
     "text": [
      "Test: Epoch 57: 100%|██████████| 157/157 [00:02<00:00, 61.33it/s]\n"
     ]
    },
    {
     "name": "stdout",
     "output_type": "stream",
     "text": [
      "Test Accuracy: 0.7494028806686401\n"
     ]
    },
    {
     "name": "stderr",
     "output_type": "stream",
     "text": [
      "Train: Epoch 58: 100%|██████████| 196/196 [00:14<00:00, 13.89it/s, loss=0.203]\n"
     ]
    },
    {
     "name": "stdout",
     "output_type": "stream",
     "text": [
      "Epoch 58 - Loss: 0.4403802815596668\n",
      "Epoch 58 - Acc: 0.8526108264923096\n"
     ]
    },
    {
     "name": "stderr",
     "output_type": "stream",
     "text": [
      "Test: Epoch 58: 100%|██████████| 157/157 [00:02<00:00, 61.10it/s]\n"
     ]
    },
    {
     "name": "stdout",
     "output_type": "stream",
     "text": [
      "Test Accuracy: 0.7481091022491455\n"
     ]
    },
    {
     "name": "stderr",
     "output_type": "stream",
     "text": [
      "Train: Epoch 59: 100%|██████████| 196/196 [00:14<00:00, 13.15it/s, loss=0.199]\n"
     ]
    },
    {
     "name": "stdout",
     "output_type": "stream",
     "text": [
      "Epoch 59 - Loss: 0.4357861119265459\n",
      "Epoch 59 - Acc: 0.8544045090675354\n"
     ]
    },
    {
     "name": "stderr",
     "output_type": "stream",
     "text": [
      "Test: Epoch 59: 100%|██████████| 157/157 [00:02<00:00, 57.40it/s]\n"
     ]
    },
    {
     "name": "stdout",
     "output_type": "stream",
     "text": [
      "Test Accuracy: 0.7484076619148254\n"
     ]
    },
    {
     "name": "stderr",
     "output_type": "stream",
     "text": [
      "Train: Epoch 60: 100%|██████████| 196/196 [00:14<00:00, 13.87it/s, loss=0.194]\n"
     ]
    },
    {
     "name": "stdout",
     "output_type": "stream",
     "text": [
      "Epoch 60 - Loss: 0.43123352938160603\n",
      "Epoch 60 - Acc: 0.8555006980895996\n"
     ]
    },
    {
     "name": "stderr",
     "output_type": "stream",
     "text": [
      "Test: Epoch 60: 100%|██████████| 157/157 [00:02<00:00, 60.40it/s]\n"
     ]
    },
    {
     "name": "stdout",
     "output_type": "stream",
     "text": [
      "Test Accuracy: 0.7476114630699158\n"
     ]
    },
    {
     "name": "stderr",
     "output_type": "stream",
     "text": [
      "Train: Epoch 61: 100%|██████████| 196/196 [00:14<00:00, 13.17it/s, loss=0.19]\n"
     ]
    },
    {
     "name": "stdout",
     "output_type": "stream",
     "text": [
      "Epoch 61 - Loss: 0.42673116610670575\n",
      "Epoch 61 - Acc: 0.8572186231613159\n"
     ]
    },
    {
     "name": "stderr",
     "output_type": "stream",
     "text": [
      "Test: Epoch 61: 100%|██████████| 157/157 [00:02<00:00, 58.91it/s]\n"
     ]
    },
    {
     "name": "stdout",
     "output_type": "stream",
     "text": [
      "Test Accuracy: 0.7485071420669556\n"
     ]
    },
    {
     "name": "stderr",
     "output_type": "stream",
     "text": [
      "Train: Epoch 62: 100%|██████████| 196/196 [00:14<00:00, 13.91it/s, loss=0.185]\n"
     ]
    },
    {
     "name": "stdout",
     "output_type": "stream",
     "text": [
      "Epoch 62 - Loss: 0.4223128990555296\n",
      "Epoch 62 - Acc: 0.8591717481613159\n"
     ]
    },
    {
     "name": "stderr",
     "output_type": "stream",
     "text": [
      "Test: Epoch 62: 100%|██████████| 157/157 [00:02<00:00, 62.20it/s]\n"
     ]
    },
    {
     "name": "stdout",
     "output_type": "stream",
     "text": [
      "Test Accuracy: 0.7483081221580505\n"
     ]
    },
    {
     "name": "stderr",
     "output_type": "stream",
     "text": [
      "Train: Epoch 63: 100%|██████████| 196/196 [00:15<00:00, 12.93it/s, loss=0.181]\n"
     ]
    },
    {
     "name": "stdout",
     "output_type": "stream",
     "text": [
      "Epoch 63 - Loss: 0.4179668671318463\n",
      "Epoch 63 - Acc: 0.8612245321273804\n"
     ]
    },
    {
     "name": "stderr",
     "output_type": "stream",
     "text": [
      "Test: Epoch 63: 100%|██████████| 157/157 [00:02<00:00, 62.33it/s]\n"
     ]
    },
    {
     "name": "stdout",
     "output_type": "stream",
     "text": [
      "Test Accuracy: 0.7491043210029602\n"
     ]
    },
    {
     "name": "stderr",
     "output_type": "stream",
     "text": [
      "Train: Epoch 64: 100%|██████████| 196/196 [00:13<00:00, 14.03it/s, loss=0.176]\n"
     ]
    },
    {
     "name": "stdout",
     "output_type": "stream",
     "text": [
      "Epoch 64 - Loss: 0.413685103004076\n",
      "Epoch 64 - Acc: 0.8626993298530579\n"
     ]
    },
    {
     "name": "stderr",
     "output_type": "stream",
     "text": [
      "Test: Epoch 64: 100%|██████████| 157/157 [00:03<00:00, 52.09it/s]\n"
     ]
    },
    {
     "name": "stdout",
     "output_type": "stream",
     "text": [
      "Test Accuracy: 0.7487062215805054\n"
     ]
    },
    {
     "name": "stderr",
     "output_type": "stream",
     "text": [
      "Train: Epoch 65: 100%|██████████| 196/196 [00:14<00:00, 13.56it/s, loss=0.172]\n"
     ]
    },
    {
     "name": "stdout",
     "output_type": "stream",
     "text": [
      "Epoch 65 - Loss: 0.40948039764652444\n",
      "Epoch 65 - Acc: 0.8644132614135742\n"
     ]
    },
    {
     "name": "stderr",
     "output_type": "stream",
     "text": [
      "Test: Epoch 65: 100%|██████████| 157/157 [00:02<00:00, 61.07it/s]\n"
     ]
    },
    {
     "name": "stdout",
     "output_type": "stream",
     "text": [
      "Test Accuracy: 0.7493033409118652\n"
     ]
    },
    {
     "name": "stderr",
     "output_type": "stream",
     "text": [
      "Train: Epoch 66: 100%|██████████| 196/196 [00:14<00:00, 13.94it/s, loss=0.169]\n"
     ]
    },
    {
     "name": "stdout",
     "output_type": "stream",
     "text": [
      "Epoch 66 - Loss: 0.4053381620621195\n",
      "Epoch 66 - Acc: 0.865788459777832\n"
     ]
    },
    {
     "name": "stderr",
     "output_type": "stream",
     "text": [
      "Test: Epoch 66: 100%|██████████| 157/157 [00:02<00:00, 53.85it/s]\n"
     ]
    },
    {
     "name": "stdout",
     "output_type": "stream",
     "text": [
      "Test Accuracy: 0.7486066818237305\n"
     ]
    },
    {
     "name": "stderr",
     "output_type": "stream",
     "text": [
      "Train: Epoch 67: 100%|██████████| 196/196 [00:14<00:00, 13.43it/s, loss=0.165]\n"
     ]
    },
    {
     "name": "stdout",
     "output_type": "stream",
     "text": [
      "Epoch 67 - Loss: 0.4012099530319778\n",
      "Epoch 67 - Acc: 0.866765022277832\n"
     ]
    },
    {
     "name": "stderr",
     "output_type": "stream",
     "text": [
      "Test: Epoch 67: 100%|██████████| 157/157 [00:02<00:00, 60.51it/s]\n"
     ]
    },
    {
     "name": "stdout",
     "output_type": "stream",
     "text": [
      "Test Accuracy: 0.7494028806686401\n"
     ]
    },
    {
     "name": "stderr",
     "output_type": "stream",
     "text": [
      "Train: Epoch 68: 100%|██████████| 196/196 [00:14<00:00, 13.71it/s, loss=0.162]\n"
     ]
    },
    {
     "name": "stdout",
     "output_type": "stream",
     "text": [
      "Epoch 68 - Loss: 0.39713501534899887\n",
      "Epoch 68 - Acc: 0.8684789538383484\n"
     ]
    },
    {
     "name": "stderr",
     "output_type": "stream",
     "text": [
      "Test: Epoch 68: 100%|██████████| 157/157 [00:03<00:00, 50.69it/s]\n"
     ]
    },
    {
     "name": "stdout",
     "output_type": "stream",
     "text": [
      "Test Accuracy: 0.7506966590881348\n"
     ]
    },
    {
     "name": "stderr",
     "output_type": "stream",
     "text": [
      "Train: Epoch 69: 100%|██████████| 196/196 [00:14<00:00, 13.98it/s, loss=0.159]\n"
     ]
    },
    {
     "name": "stdout",
     "output_type": "stream",
     "text": [
      "Epoch 69 - Loss: 0.3930769666117065\n",
      "Epoch 69 - Acc: 0.8703324198722839\n"
     ]
    },
    {
     "name": "stderr",
     "output_type": "stream",
     "text": [
      "Test: Epoch 69: 100%|██████████| 157/157 [00:02<00:00, 61.43it/s]\n"
     ]
    },
    {
     "name": "stdout",
     "output_type": "stream",
     "text": [
      "Test Accuracy: 0.7509952187538147\n"
     ]
    },
    {
     "name": "stderr",
     "output_type": "stream",
     "text": [
      "Train: Epoch 70: 100%|██████████| 196/196 [00:14<00:00, 13.33it/s, loss=0.156]\n"
     ]
    },
    {
     "name": "stdout",
     "output_type": "stream",
     "text": [
      "Epoch 70 - Loss: 0.38904891178316\n",
      "Epoch 70 - Acc: 0.8718470931053162\n"
     ]
    },
    {
     "name": "stderr",
     "output_type": "stream",
     "text": [
      "Test: Epoch 70: 100%|██████████| 157/157 [00:02<00:00, 55.66it/s]\n"
     ]
    },
    {
     "name": "stdout",
     "output_type": "stream",
     "text": [
      "Test Accuracy: 0.7504976391792297\n"
     ]
    },
    {
     "name": "stderr",
     "output_type": "stream",
     "text": [
      "Train: Epoch 71: 100%|██████████| 196/196 [00:13<00:00, 14.20it/s, loss=0.154]\n"
     ]
    },
    {
     "name": "stdout",
     "output_type": "stream",
     "text": [
      "Epoch 71 - Loss: 0.3850624348436083\n",
      "Epoch 71 - Acc: 0.8734016418457031\n"
     ]
    },
    {
     "name": "stderr",
     "output_type": "stream",
     "text": [
      "Test: Epoch 71: 100%|██████████| 157/157 [00:02<00:00, 62.56it/s]\n"
     ]
    },
    {
     "name": "stdout",
     "output_type": "stream",
     "text": [
      "Test Accuracy: 0.750199019908905\n"
     ]
    },
    {
     "name": "stderr",
     "output_type": "stream",
     "text": [
      "Train: Epoch 72: 100%|██████████| 196/196 [00:14<00:00, 13.36it/s, loss=0.151]\n"
     ]
    },
    {
     "name": "stdout",
     "output_type": "stream",
     "text": [
      "Epoch 72 - Loss: 0.3811181447639757\n",
      "Epoch 72 - Acc: 0.8748565316200256\n"
     ]
    },
    {
     "name": "stderr",
     "output_type": "stream",
     "text": [
      "Test: Epoch 72: 100%|██████████| 157/157 [00:02<00:00, 57.73it/s]\n"
     ]
    },
    {
     "name": "stdout",
     "output_type": "stream",
     "text": [
      "Test Accuracy: 0.7503980994224548\n"
     ]
    },
    {
     "name": "stderr",
     "output_type": "stream",
     "text": [
      "Train: Epoch 73: 100%|██████████| 196/196 [00:14<00:00, 13.97it/s, loss=0.149]\n"
     ]
    },
    {
     "name": "stdout",
     "output_type": "stream",
     "text": [
      "Epoch 73 - Loss: 0.3772421409280933\n",
      "Epoch 73 - Acc: 0.8768893480300903\n"
     ]
    },
    {
     "name": "stderr",
     "output_type": "stream",
     "text": [
      "Test: Epoch 73: 100%|██████████| 157/157 [00:02<00:00, 59.90it/s]\n"
     ]
    },
    {
     "name": "stdout",
     "output_type": "stream",
     "text": [
      "Test Accuracy: 0.7503980994224548\n"
     ]
    },
    {
     "name": "stderr",
     "output_type": "stream",
     "text": [
      "Train: Epoch 74: 100%|██████████| 196/196 [00:15<00:00, 13.02it/s, loss=0.147]\n"
     ]
    },
    {
     "name": "stdout",
     "output_type": "stream",
     "text": [
      "Epoch 74 - Loss: 0.3734281595264162\n",
      "Epoch 74 - Acc: 0.8782246708869934\n"
     ]
    },
    {
     "name": "stderr",
     "output_type": "stream",
     "text": [
      "Test: Epoch 74: 100%|██████████| 157/157 [00:02<00:00, 61.02it/s]\n"
     ]
    },
    {
     "name": "stdout",
     "output_type": "stream",
     "text": [
      "Test Accuracy: 0.7502985596656799\n"
     ]
    },
    {
     "name": "stderr",
     "output_type": "stream",
     "text": [
      "Train: Epoch 75: 100%|██████████| 196/196 [00:13<00:00, 14.21it/s, loss=0.145]\n"
     ]
    },
    {
     "name": "stdout",
     "output_type": "stream",
     "text": [
      "Epoch 75 - Loss: 0.36967351979443\n",
      "Epoch 75 - Acc: 0.8794762492179871\n"
     ]
    },
    {
     "name": "stderr",
     "output_type": "stream",
     "text": [
      "Test: Epoch 75: 100%|██████████| 157/157 [00:02<00:00, 62.08it/s]"
     ]
    },
    {
     "name": "stdout",
     "output_type": "stream",
     "text": [
      "Test Accuracy: 0.7504976391792297\n"
     ]
    },
    {
     "name": "stderr",
     "output_type": "stream",
     "text": [
      "\n"
     ]
    }
   ],
   "source": [
    "transform = transforms.Compose([\n",
    "    transforms.Resize((32, 32)),\n",
    "    transforms.ToTensor(),\n",
    "    transforms.Normalize(mean=[0.4914, 0.4822, 0.4465], std=[0.247, 0.243, 0.261])\n",
    "])\n",
    "cifar_10_train = torchvision.datasets.CIFAR10(root='/kaggle/working/', train=True, transform=transform, download=True)\n",
    "cifar_10_test = torchvision.datasets.CIFAR10(root='/kaggle/working/', train=False, transform=transform, download=True)\n",
    "train_loader = DataLoader(cifar_10_train, batch_size=256, shuffle=False)\n",
    "test_loader = DataLoader(cifar_10_test, batch_size=64, shuffle=False)\n",
    "criterion = nn.CrossEntropyLoss()\n",
    "model = CustomCNN()\n",
    "model = model.cuda()\n",
    "epochs=75\n",
    "optimizer = torch.optim.AdamW(model.parameters(), lr=1e-3)\n",
    "def predict(model, dataloader, epoch):\n",
    "    model.eval()\n",
    "    preds=[]\n",
    "    test_acc=0\n",
    "    pbar = pbar = tqdm(dataloader, desc=f\"Test: Epoch {epoch+1}\", total=len(dataloader), mininterval=5)\n",
    "    with torch.no_grad():\n",
    "        for images,labels in pbar:\n",
    "            images = images.cuda()\n",
    "            labels = labels.cuda()\n",
    "            outputs = model(images)\n",
    "            y_pred = F.softmax(outputs,dim = 1)\n",
    "            top_p,top_class = y_pred.topk(1,dim = 1)\n",
    "                \n",
    "            label = labels.cpu().numpy()\n",
    "            top_c = top_class.cpu().numpy() \n",
    "            test_acc += accuracy(outputs,labels)\n",
    "    #torch.cuda.empty_cache()\n",
    "    return test_acc/len(dataloader)\n",
    "\n",
    "def training(model, dataloader, test_loader, epochs, optimizer):\n",
    "    model_accs = []\n",
    "    model_loss = []\n",
    "    test_accs = []\n",
    "    for ep in range(epochs):\n",
    "        model.train()\n",
    "        running_loss = 0\n",
    "        train_accuracy = 0\n",
    "        pbar = tqdm(dataloader, desc=f\"Train: Epoch {ep + 1}\", total=len(dataloader), mininterval=5)\n",
    "        for images, labels in pbar:\n",
    "            images = images.cuda()\n",
    "            labels = labels.cuda()\n",
    "            output = model(images)\n",
    "            loss = criterion(output, labels)\n",
    "            train_accuracy += accuracy(output, labels)\n",
    "            optimizer.zero_grad()\n",
    "            loss.backward()\n",
    "            optimizer.step()\n",
    "            pbar.set_postfix({\"loss\": loss.item()})\n",
    "            running_loss += loss.item()\n",
    "            \n",
    "        loss = running_loss/len(dataloader)\n",
    "        acc = train_accuracy/len(dataloader)\n",
    "        model_accs.append(acc)\n",
    "        model_loss.append(loss)\n",
    "        print(f\"Epoch {ep + 1} - Loss: {loss}\")\n",
    "        print(f\"Epoch {ep + 1} - Acc: {acc}\")\n",
    "        test_acc = predict(model, test_loader, ep)\n",
    "        test_accs.append(test_acc)\n",
    "        print(f'Test Accuracy: {test_acc}')\n",
    "    torch.cuda.empty_cache()\n",
    "    return model_accs, model_loss, test_accs\n",
    "train_acc_hist, train_loss_hist, test_accs = training(model, train_loader, test_loader, epochs, optimizer)"
   ]
  },
  {
   "cell_type": "code",
   "execution_count": 5,
   "id": "ccf7c3aa",
   "metadata": {
    "execution": {
     "iopub.execute_input": "2023-04-15T02:44:27.309300Z",
     "iopub.status.busy": "2023-04-15T02:44:27.308930Z",
     "iopub.status.idle": "2023-04-15T02:44:27.317212Z",
     "shell.execute_reply": "2023-04-15T02:44:27.315592Z"
    },
    "papermill": {
     "duration": 0.830836,
     "end_time": "2023-04-15T02:44:27.319661",
     "exception": false,
     "start_time": "2023-04-15T02:44:26.488825",
     "status": "completed"
    },
    "tags": []
   },
   "outputs": [
    {
     "name": "stdout",
     "output_type": "stream",
     "text": [
      "Test Accuracy on CIFAR-10 Test set: 75.09952545166016%\n"
     ]
    }
   ],
   "source": [
    "#test_acc = predict(model, test_loader)\n",
    "print(f'Test Accuracy on CIFAR-10 Test set: {max(test_accs)*100}%')"
   ]
  },
  {
   "cell_type": "code",
   "execution_count": 6,
   "id": "aaf80175",
   "metadata": {
    "execution": {
     "iopub.execute_input": "2023-04-15T02:44:29.575556Z",
     "iopub.status.busy": "2023-04-15T02:44:29.575190Z",
     "iopub.status.idle": "2023-04-15T02:44:29.811424Z",
     "shell.execute_reply": "2023-04-15T02:44:29.810457Z"
    },
    "papermill": {
     "duration": 1.415437,
     "end_time": "2023-04-15T02:44:29.813568",
     "exception": false,
     "start_time": "2023-04-15T02:44:28.398131",
     "status": "completed"
    },
    "tags": []
   },
   "outputs": [
    {
     "data": {
      "image/png": "[encoded data removed]",
      "text/plain": [
       "<Figure size 640x480 with 1 Axes>"
      ]
     },
     "metadata": {},
     "output_type": "display_data"
    }
   ],
   "source": [
    "epochs_list = [i for i in range(epochs)]\n",
    "plt.title('Plotting Training Loss')\n",
    "plt.plot(epochs_list, train_loss_hist, 'b', label='Train Loss')\n",
    "plt.xlabel('Epochs')\n",
    "plt.ylabel('Cross Entropy Loss')\n",
    "plt.legend()\n",
    "plt.show()"
   ]
  },
  {
   "cell_type": "code",
   "execution_count": 7,
   "id": "6df5468a",
   "metadata": {
    "execution": {
     "iopub.execute_input": "2023-04-15T02:44:31.558110Z",
     "iopub.status.busy": "2023-04-15T02:44:31.556109Z",
     "iopub.status.idle": "2023-04-15T02:44:31.781288Z",
     "shell.execute_reply": "2023-04-15T02:44:31.780218Z"
    },
    "papermill": {
     "duration": 1.095698,
     "end_time": "2023-04-15T02:44:31.783499",
     "exception": false,
     "start_time": "2023-04-15T02:44:30.687801",
     "status": "completed"
    },
    "tags": []
   },
   "outputs": [
    {
     "data": {
      "image/png": "[encoded data removed]",
      "text/plain": [
       "<Figure size 640x480 with 1 Axes>"
      ]
     },
     "metadata": {},
     "output_type": "display_data"
    }
   ],
   "source": [
    "plt.title('Plotting Accuracy')\n",
    "plt.plot(epochs_list, train_acc_hist, 'r', label='Train Accuracy')\n",
    "plt.plot(epochs_list, test_accs, 'b', label='Test Accuracy')\n",
    "plt.xlabel('Epochs')\n",
    "plt.ylabel('Accuracy')\n",
    "plt.legend()\n",
    "plt.show()"
   ]
  },
  {
   "cell_type": "code",
   "execution_count": 8,
   "id": "e392c62e",
   "metadata": {
    "execution": {
     "iopub.execute_input": "2023-04-15T02:44:33.521342Z",
     "iopub.status.busy": "2023-04-15T02:44:33.520187Z",
     "iopub.status.idle": "2023-04-15T02:44:42.400767Z",
     "shell.execute_reply": "2023-04-15T02:44:42.399840Z"
    },
    "papermill": {
     "duration": 9.803465,
     "end_time": "2023-04-15T02:44:42.402874",
     "exception": false,
     "start_time": "2023-04-15T02:44:32.599409",
     "status": "completed"
    },
    "tags": []
   },
   "outputs": [
    {
     "data": {
      "image/png": "[encoded data removed]",
      "text/plain": [
       "<Figure size 2000x1700 with 32 Axes>"
      ]
     },
     "metadata": {},
     "output_type": "display_data"
    }
   ],
   "source": [
    "conv1_weights = model.conv1.weight.data.cpu().numpy()\n",
    "plt.figure(figsize=(20, 17))\n",
    "for i, filter in enumerate(conv1_weights):\n",
    "    f = conv1_weights[i].transpose(1, 2, 0)\n",
    "    norm = np.linalg.norm(f, ord=np.inf, axis=(0,1))\n",
    "    eps = 1e-4\n",
    "    normalized_filter = f/2*(norm + eps) + 0.5\n",
    "    plt.subplot(8, 4, i+1)\n",
    "    plt.imshow(normalized_filter)\n",
    "    plt.axis('off')\n",
    "    plt.savefig('filter.png')\n",
    "plt.show()"
   ]
  },
  {
   "cell_type": "markdown",
   "id": "c6d2b739",
   "metadata": {
    "papermill": {
     "duration": 0.858179,
     "end_time": "2023-04-15T02:44:44.072380",
     "exception": false,
     "start_time": "2023-04-15T02:44:43.214201",
     "status": "completed"
    },
    "tags": []
   },
   "source": [
    "# **Normalizing filters using min max scaling**"
   ]
  },
  {
   "cell_type": "code",
   "execution_count": 9,
   "id": "e481a3a8",
   "metadata": {
    "execution": {
     "iopub.execute_input": "2023-04-15T02:44:45.753080Z",
     "iopub.status.busy": "2023-04-15T02:44:45.752365Z",
     "iopub.status.idle": "2023-04-15T02:44:54.524648Z",
     "shell.execute_reply": "2023-04-15T02:44:54.523518Z"
    },
    "papermill": {
     "duration": 9.591681,
     "end_time": "2023-04-15T02:44:54.526748",
     "exception": false,
     "start_time": "2023-04-15T02:44:44.935067",
     "status": "completed"
    },
    "tags": []
   },
   "outputs": [
    {
     "data": {
      "image/png": "[encoded data removed]",
      "text/plain": [
       "<Figure size 2000x1700 with 32 Axes>"
      ]
     },
     "metadata": {},
     "output_type": "display_data"
    }
   ],
   "source": [
    "conv1_weights = model.conv1.weight.data.cpu().numpy()\n",
    "conv1_weights = (conv1_weights - np.min(conv1_weights))/(np.max(conv1_weights) - np.min(conv1_weights))\n",
    "plt.figure(figsize=(20, 17))\n",
    "for i, filter in enumerate(conv1_weights):\n",
    "    plt.subplot(8, 4, i+1)\n",
    "    plt.imshow(conv1_weights[i].transpose(1, 2, 0))\n",
    "    plt.axis('off')\n",
    "    plt.savefig('filter_min_max_scaling.png')\n",
    "plt.show()"
   ]
  },
  {
   "cell_type": "code",
   "execution_count": 10,
   "id": "f31b5c9d",
   "metadata": {
    "execution": {
     "iopub.execute_input": "2023-04-15T02:44:56.293609Z",
     "iopub.status.busy": "2023-04-15T02:44:56.293211Z",
     "iopub.status.idle": "2023-04-15T02:44:56.305468Z",
     "shell.execute_reply": "2023-04-15T02:44:56.304579Z"
    },
    "papermill": {
     "duration": 0.909211,
     "end_time": "2023-04-15T02:44:56.307603",
     "exception": false,
     "start_time": "2023-04-15T02:44:55.398392",
     "status": "completed"
    },
    "tags": []
   },
   "outputs": [],
   "source": [
    "class CustomCNNBN(nn.Module):\n",
    "    def __init__(self):\n",
    "        super(CustomCNNBN, self).__init__()\n",
    "        self.conv1 = nn.Conv2d(3, 32, kernel_size=7)\n",
    "        self.bn1 = nn.BatchNorm2d(32)\n",
    "        self.act = nn.Mish()\n",
    "        self.maxpool = nn.MaxPool2d(2,2)\n",
    "        self.conv2 = nn.Conv2d(32, 64, kernel_size=3)\n",
    "        self.bn2 = nn.BatchNorm2d(64)\n",
    "        self.conv3 = nn.Conv2d(64, 64, kernel_size=3)\n",
    "        self.bn3 = nn.BatchNorm2d(64)\n",
    "        self.avgpool = nn.AdaptiveAvgPool2d(1)\n",
    "        self.fc = nn.Linear(64,10)\n",
    "        self.apply(self._init_weights)\n",
    "        \n",
    "    def _init_weights(self,m):\n",
    "        if isinstance(m, (nn.Conv2d, nn.Linear)):\n",
    "            torch.nn.init.kaiming_uniform_(m.weight)\n",
    "            torch.nn.init.constant_(m.bias, 0)\n",
    "        elif isinstance(m, nn.BatchNorm2d):\n",
    "            torch.nn.init.constant_(m.weight,1)\n",
    "            torch.nn.init.constant_(m.bias,0)\n",
    "            \n",
    "    def forward(self,x):\n",
    "        x = self.conv1(x)\n",
    "        x = self.bn1(x)\n",
    "        x = self.act(x)\n",
    "        x = self.maxpool(x)\n",
    "        x = self.conv2(x)\n",
    "        x = self.bn2(x)\n",
    "        x = self.act(x)\n",
    "        x = self.conv3(x)\n",
    "        x = self.bn3(x)\n",
    "        x = self.act(x)\n",
    "        x = self.avgpool(x)\n",
    "        x = x.view(x.size(0), -1)\n",
    "        return self.fc(x)"
   ]
  },
  {
   "cell_type": "code",
   "execution_count": 11,
   "id": "eff8c2db",
   "metadata": {
    "execution": {
     "iopub.execute_input": "2023-04-15T02:44:57.986693Z",
     "iopub.status.busy": "2023-04-15T02:44:57.986098Z",
     "iopub.status.idle": "2023-04-15T03:05:52.358060Z",
     "shell.execute_reply": "2023-04-15T03:05:52.355256Z"
    },
    "papermill": {
     "duration": 1255.24655,
     "end_time": "2023-04-15T03:05:52.360389",
     "exception": false,
     "start_time": "2023-04-15T02:44:57.113839",
     "status": "completed"
    },
    "tags": []
   },
   "outputs": [
    {
     "name": "stderr",
     "output_type": "stream",
     "text": [
      "Train: Epoch 1: 100%|██████████| 196/196 [00:14<00:00, 13.27it/s, loss=1.45]\n"
     ]
    },
    {
     "name": "stdout",
     "output_type": "stream",
     "text": [
      "Epoch 1 - Loss: 1.5676219499841029\n",
      "Epoch 1 - Acc: 0.4363081753253937\n"
     ]
    },
    {
     "name": "stderr",
     "output_type": "stream",
     "text": [
      "Test: Epoch 1: 100%|██████████| 157/157 [00:02<00:00, 62.84it/s]\n"
     ]
    },
    {
     "name": "stdout",
     "output_type": "stream",
     "text": [
      "Test Accuracy: 0.5113455653190613\n"
     ]
    },
    {
     "name": "stderr",
     "output_type": "stream",
     "text": [
      "Train: Epoch 2: 100%|██████████| 196/196 [00:14<00:00, 13.78it/s, loss=1.26]\n"
     ]
    },
    {
     "name": "stdout",
     "output_type": "stream",
     "text": [
      "Epoch 2 - Loss: 1.2820378177020015\n",
      "Epoch 2 - Acc: 0.546452522277832\n"
     ]
    },
    {
     "name": "stderr",
     "output_type": "stream",
     "text": [
      "Test: Epoch 2: 100%|██████████| 157/157 [00:02<00:00, 60.28it/s]\n"
     ]
    },
    {
     "name": "stdout",
     "output_type": "stream",
     "text": [
      "Test Accuracy: 0.5710589289665222\n"
     ]
    },
    {
     "name": "stderr",
     "output_type": "stream",
     "text": [
      "Train: Epoch 3: 100%|██████████| 196/196 [00:14<00:00, 13.72it/s, loss=1.13]\n"
     ]
    },
    {
     "name": "stdout",
     "output_type": "stream",
     "text": [
      "Epoch 3 - Loss: 1.154789930095478\n",
      "Epoch 3 - Acc: 0.5928252339363098\n"
     ]
    },
    {
     "name": "stderr",
     "output_type": "stream",
     "text": [
      "Test: Epoch 3: 100%|██████████| 157/157 [00:02<00:00, 63.28it/s]\n"
     ]
    },
    {
     "name": "stdout",
     "output_type": "stream",
     "text": [
      "Test Accuracy: 0.6075835824012756\n"
     ]
    },
    {
     "name": "stderr",
     "output_type": "stream",
     "text": [
      "Train: Epoch 4: 100%|██████████| 196/196 [00:14<00:00, 13.50it/s, loss=1.03]\n"
     ]
    },
    {
     "name": "stdout",
     "output_type": "stream",
     "text": [
      "Epoch 4 - Loss: 1.0731726386109177\n",
      "Epoch 4 - Acc: 0.6226961016654968\n"
     ]
    },
    {
     "name": "stderr",
     "output_type": "stream",
     "text": [
      "Test: Epoch 4: 100%|██████████| 157/157 [00:03<00:00, 51.56it/s]\n"
     ]
    },
    {
     "name": "stdout",
     "output_type": "stream",
     "text": [
      "Test Accuracy: 0.6286823153495789\n"
     ]
    },
    {
     "name": "stderr",
     "output_type": "stream",
     "text": [
      "Train: Epoch 5: 100%|██████████| 196/196 [00:13<00:00, 14.17it/s, loss=0.949]\n"
     ]
    },
    {
     "name": "stdout",
     "output_type": "stream",
     "text": [
      "Epoch 5 - Loss: 1.015012848438049\n",
      "Epoch 5 - Acc: 0.6435945630073547\n"
     ]
    },
    {
     "name": "stderr",
     "output_type": "stream",
     "text": [
      "Test: Epoch 5: 100%|██████████| 157/157 [00:02<00:00, 62.96it/s]\n"
     ]
    },
    {
     "name": "stdout",
     "output_type": "stream",
     "text": [
      "Test Accuracy: 0.6440087556838989\n"
     ]
    },
    {
     "name": "stderr",
     "output_type": "stream",
     "text": [
      "Train: Epoch 6: 100%|██████████| 196/196 [00:14<00:00, 13.23it/s, loss=0.877]\n"
     ]
    },
    {
     "name": "stdout",
     "output_type": "stream",
     "text": [
      "Epoch 6 - Loss: 0.9687501681702477\n",
      "Epoch 6 - Acc: 0.6598493456840515\n"
     ]
    },
    {
     "name": "stderr",
     "output_type": "stream",
     "text": [
      "Test: Epoch 6: 100%|██████████| 157/157 [00:02<00:00, 59.18it/s]\n"
     ]
    },
    {
     "name": "stdout",
     "output_type": "stream",
     "text": [
      "Test Accuracy: 0.6548566818237305\n"
     ]
    },
    {
     "name": "stderr",
     "output_type": "stream",
     "text": [
      "Train: Epoch 7: 100%|██████████| 196/196 [00:13<00:00, 14.33it/s, loss=0.819]\n"
     ]
    },
    {
     "name": "stdout",
     "output_type": "stream",
     "text": [
      "Epoch 7 - Loss: 0.92925604417616\n",
      "Epoch 7 - Acc: 0.6750040054321289\n"
     ]
    },
    {
     "name": "stderr",
     "output_type": "stream",
     "text": [
      "Test: Epoch 7: 100%|██████████| 157/157 [00:02<00:00, 61.87it/s]\n"
     ]
    },
    {
     "name": "stdout",
     "output_type": "stream",
     "text": [
      "Test Accuracy: 0.668789803981781\n"
     ]
    },
    {
     "name": "stderr",
     "output_type": "stream",
     "text": [
      "Train: Epoch 8: 100%|██████████| 196/196 [00:15<00:00, 13.05it/s, loss=0.774]\n"
     ]
    },
    {
     "name": "stdout",
     "output_type": "stream",
     "text": [
      "Epoch 8 - Loss: 0.8940848005669457\n",
      "Epoch 8 - Acc: 0.6861526966094971\n"
     ]
    },
    {
     "name": "stderr",
     "output_type": "stream",
     "text": [
      "Test: Epoch 8: 100%|██████████| 157/157 [00:02<00:00, 60.38it/s]\n"
     ]
    },
    {
     "name": "stdout",
     "output_type": "stream",
     "text": [
      "Test Accuracy: 0.6779458522796631\n"
     ]
    },
    {
     "name": "stderr",
     "output_type": "stream",
     "text": [
      "Train: Epoch 9: 100%|██████████| 196/196 [00:13<00:00, 14.21it/s, loss=0.737]\n"
     ]
    },
    {
     "name": "stdout",
     "output_type": "stream",
     "text": [
      "Epoch 9 - Loss: 0.8624312047447477\n",
      "Epoch 9 - Acc: 0.6975087523460388\n"
     ]
    },
    {
     "name": "stderr",
     "output_type": "stream",
     "text": [
      "Test: Epoch 9: 100%|██████████| 157/157 [00:02<00:00, 61.80it/s]\n"
     ]
    },
    {
     "name": "stdout",
     "output_type": "stream",
     "text": [
      "Test Accuracy: 0.6863057613372803\n"
     ]
    },
    {
     "name": "stderr",
     "output_type": "stream",
     "text": [
      "Train: Epoch 10: 100%|██████████| 196/196 [00:14<00:00, 13.21it/s, loss=0.703]\n"
     ]
    },
    {
     "name": "stdout",
     "output_type": "stream",
     "text": [
      "Epoch 10 - Loss: 0.8338699657089856\n",
      "Epoch 10 - Acc: 0.7087531685829163\n"
     ]
    },
    {
     "name": "stderr",
     "output_type": "stream",
     "text": [
      "Test: Epoch 10: 100%|██████████| 157/157 [00:02<00:00, 59.93it/s]\n"
     ]
    },
    {
     "name": "stdout",
     "output_type": "stream",
     "text": [
      "Test Accuracy: 0.6923766136169434\n"
     ]
    },
    {
     "name": "stderr",
     "output_type": "stream",
     "text": [
      "Train: Epoch 11: 100%|██████████| 196/196 [00:13<00:00, 14.25it/s, loss=0.671]\n"
     ]
    },
    {
     "name": "stdout",
     "output_type": "stream",
     "text": [
      "Epoch 11 - Loss: 0.8080556888361367\n",
      "Epoch 11 - Acc: 0.7190848588943481\n"
     ]
    },
    {
     "name": "stderr",
     "output_type": "stream",
     "text": [
      "Test: Epoch 11: 100%|██████████| 157/157 [00:02<00:00, 61.48it/s]\n"
     ]
    },
    {
     "name": "stdout",
     "output_type": "stream",
     "text": [
      "Test Accuracy: 0.7004379034042358\n"
     ]
    },
    {
     "name": "stderr",
     "output_type": "stream",
     "text": [
      "Train: Epoch 12: 100%|██████████| 196/196 [00:14<00:00, 13.13it/s, loss=0.642]\n"
     ]
    },
    {
     "name": "stdout",
     "output_type": "stream",
     "text": [
      "Epoch 12 - Loss: 0.7846413659197944\n",
      "Epoch 12 - Acc: 0.7279496192932129\n"
     ]
    },
    {
     "name": "stderr",
     "output_type": "stream",
     "text": [
      "Test: Epoch 12: 100%|██████████| 157/157 [00:02<00:00, 63.15it/s]\n"
     ]
    },
    {
     "name": "stdout",
     "output_type": "stream",
     "text": [
      "Test Accuracy: 0.7051154375076294\n"
     ]
    },
    {
     "name": "stderr",
     "output_type": "stream",
     "text": [
      "Train: Epoch 13: 100%|██████████| 196/196 [00:13<00:00, 14.15it/s, loss=0.615]\n"
     ]
    },
    {
     "name": "stdout",
     "output_type": "stream",
     "text": [
      "Epoch 13 - Loss: 0.7633170296951216\n",
      "Epoch 13 - Acc: 0.7346859574317932\n"
     ]
    },
    {
     "name": "stderr",
     "output_type": "stream",
     "text": [
      "Test: Epoch 13: 100%|██████████| 157/157 [00:02<00:00, 61.88it/s]\n"
     ]
    },
    {
     "name": "stdout",
     "output_type": "stream",
     "text": [
      "Test Accuracy: 0.7086982727050781\n"
     ]
    },
    {
     "name": "stderr",
     "output_type": "stream",
     "text": [
      "Train: Epoch 14: 100%|██████████| 196/196 [00:15<00:00, 13.05it/s, loss=0.591]\n"
     ]
    },
    {
     "name": "stdout",
     "output_type": "stream",
     "text": [
      "Epoch 14 - Loss: 0.7437813431024551\n",
      "Epoch 14 - Acc: 0.7413942813873291\n"
     ]
    },
    {
     "name": "stderr",
     "output_type": "stream",
     "text": [
      "Test: Epoch 14: 100%|██████████| 157/157 [00:02<00:00, 62.20it/s]\n"
     ]
    },
    {
     "name": "stdout",
     "output_type": "stream",
     "text": [
      "Test Accuracy: 0.7121815085411072\n"
     ]
    },
    {
     "name": "stderr",
     "output_type": "stream",
     "text": [
      "Train: Epoch 15: 100%|██████████| 196/196 [00:13<00:00, 14.09it/s, loss=0.569]\n"
     ]
    },
    {
     "name": "stdout",
     "output_type": "stream",
     "text": [
      "Epoch 15 - Loss: 0.7257877162524632\n",
      "Epoch 15 - Acc: 0.748469352722168\n"
     ]
    },
    {
     "name": "stderr",
     "output_type": "stream",
     "text": [
      "Test: Epoch 15: 100%|██████████| 157/157 [00:02<00:00, 60.61it/s]\n"
     ]
    },
    {
     "name": "stdout",
     "output_type": "stream",
     "text": [
      "Test Accuracy: 0.7133758068084717\n"
     ]
    },
    {
     "name": "stderr",
     "output_type": "stream",
     "text": [
      "Train: Epoch 16: 100%|██████████| 196/196 [00:14<00:00, 13.29it/s, loss=0.548]\n"
     ]
    },
    {
     "name": "stdout",
     "output_type": "stream",
     "text": [
      "Epoch 16 - Loss: 0.7090228911565275\n",
      "Epoch 16 - Acc: 0.7541732788085938\n"
     ]
    },
    {
     "name": "stderr",
     "output_type": "stream",
     "text": [
      "Test: Epoch 16: 100%|██████████| 157/157 [00:02<00:00, 63.35it/s]\n"
     ]
    },
    {
     "name": "stdout",
     "output_type": "stream",
     "text": [
      "Test Accuracy: 0.715465784072876\n"
     ]
    },
    {
     "name": "stderr",
     "output_type": "stream",
     "text": [
      "Train: Epoch 17: 100%|██████████| 196/196 [00:13<00:00, 14.25it/s, loss=0.53]\n"
     ]
    },
    {
     "name": "stdout",
     "output_type": "stream",
     "text": [
      "Epoch 17 - Loss: 0.6933384784022156\n",
      "Epoch 17 - Acc: 0.7604153752326965\n"
     ]
    },
    {
     "name": "stderr",
     "output_type": "stream",
     "text": [
      "Test: Epoch 17: 100%|██████████| 157/157 [00:02<00:00, 63.97it/s]\n"
     ]
    },
    {
     "name": "stdout",
     "output_type": "stream",
     "text": [
      "Test Accuracy: 0.7173566818237305\n"
     ]
    },
    {
     "name": "stderr",
     "output_type": "stream",
     "text": [
      "Train: Epoch 18: 100%|██████████| 196/196 [00:15<00:00, 12.79it/s, loss=0.512]\n"
     ]
    },
    {
     "name": "stdout",
     "output_type": "stream",
     "text": [
      "Epoch 18 - Loss: 0.6786013564893177\n",
      "Epoch 18 - Acc: 0.7660355567932129\n"
     ]
    },
    {
     "name": "stderr",
     "output_type": "stream",
     "text": [
      "Test: Epoch 18: 100%|██████████| 157/157 [00:02<00:00, 62.02it/s]\n"
     ]
    },
    {
     "name": "stdout",
     "output_type": "stream",
     "text": [
      "Test Accuracy: 0.7196456789970398\n"
     ]
    },
    {
     "name": "stderr",
     "output_type": "stream",
     "text": [
      "Train: Epoch 19: 100%|██████████| 196/196 [00:13<00:00, 14.20it/s, loss=0.496]\n"
     ]
    },
    {
     "name": "stdout",
     "output_type": "stream",
     "text": [
      "Epoch 19 - Loss: 0.6647389613243998\n",
      "Epoch 19 - Acc: 0.7716956734657288\n"
     ]
    },
    {
     "name": "stderr",
     "output_type": "stream",
     "text": [
      "Test: Epoch 19: 100%|██████████| 157/157 [00:03<00:00, 49.23it/s]\n"
     ]
    },
    {
     "name": "stdout",
     "output_type": "stream",
     "text": [
      "Test Accuracy: 0.7228304147720337\n"
     ]
    },
    {
     "name": "stderr",
     "output_type": "stream",
     "text": [
      "Train: Epoch 20: 100%|██████████| 196/196 [00:14<00:00, 13.50it/s, loss=0.48]\n"
     ]
    },
    {
     "name": "stdout",
     "output_type": "stream",
     "text": [
      "Epoch 20 - Loss: 0.6516814823357426\n",
      "Epoch 20 - Acc: 0.7763233780860901\n"
     ]
    },
    {
     "name": "stderr",
     "output_type": "stream",
     "text": [
      "Test: Epoch 20: 100%|██████████| 157/157 [00:02<00:00, 60.55it/s]\n"
     ]
    },
    {
     "name": "stdout",
     "output_type": "stream",
     "text": [
      "Test Accuracy: 0.725417971611023\n"
     ]
    },
    {
     "name": "stderr",
     "output_type": "stream",
     "text": [
      "Train: Epoch 21: 100%|██████████| 196/196 [00:14<00:00, 13.91it/s, loss=0.465]\n"
     ]
    },
    {
     "name": "stdout",
     "output_type": "stream",
     "text": [
      "Epoch 21 - Loss: 0.6393728244061373\n",
      "Epoch 21 - Acc: 0.7800701856613159\n"
     ]
    },
    {
     "name": "stderr",
     "output_type": "stream",
     "text": [
      "Test: Epoch 21: 100%|██████████| 157/157 [00:02<00:00, 59.46it/s]\n"
     ]
    },
    {
     "name": "stdout",
     "output_type": "stream",
     "text": [
      "Test Accuracy: 0.728204607963562\n"
     ]
    },
    {
     "name": "stderr",
     "output_type": "stream",
     "text": [
      "Train: Epoch 22: 100%|██████████| 196/196 [00:14<00:00, 13.67it/s, loss=0.451]\n"
     ]
    },
    {
     "name": "stdout",
     "output_type": "stream",
     "text": [
      "Epoch 22 - Loss: 0.6277250507656409\n",
      "Epoch 22 - Acc: 0.7844786643981934\n"
     ]
    },
    {
     "name": "stderr",
     "output_type": "stream",
     "text": [
      "Test: Epoch 22: 100%|██████████| 157/157 [00:02<00:00, 61.88it/s]\n"
     ]
    },
    {
     "name": "stdout",
     "output_type": "stream",
     "text": [
      "Test Accuracy: 0.7302945852279663\n"
     ]
    },
    {
     "name": "stderr",
     "output_type": "stream",
     "text": [
      "Train: Epoch 23: 100%|██████████| 196/196 [00:14<00:00, 13.86it/s, loss=0.436]\n"
     ]
    },
    {
     "name": "stdout",
     "output_type": "stream",
     "text": [
      "Epoch 23 - Loss: 0.6166717466347071\n",
      "Epoch 23 - Acc: 0.7886439561843872\n"
     ]
    },
    {
     "name": "stderr",
     "output_type": "stream",
     "text": [
      "Test: Epoch 23: 100%|██████████| 157/157 [00:02<00:00, 60.58it/s]\n"
     ]
    },
    {
     "name": "stdout",
     "output_type": "stream",
     "text": [
      "Test Accuracy: 0.731488823890686\n"
     ]
    },
    {
     "name": "stderr",
     "output_type": "stream",
     "text": [
      "Train: Epoch 24: 100%|██████████| 196/196 [00:14<00:00, 13.60it/s, loss=0.423]\n"
     ]
    },
    {
     "name": "stdout",
     "output_type": "stream",
     "text": [
      "Epoch 24 - Loss: 0.6062181931065054\n",
      "Epoch 24 - Acc: 0.7917370796203613\n"
     ]
    },
    {
     "name": "stderr",
     "output_type": "stream",
     "text": [
      "Test: Epoch 24: 100%|██████████| 157/157 [00:02<00:00, 61.04it/s]\n"
     ]
    },
    {
     "name": "stdout",
     "output_type": "stream",
     "text": [
      "Test Accuracy: 0.731488823890686\n"
     ]
    },
    {
     "name": "stderr",
     "output_type": "stream",
     "text": [
      "Train: Epoch 25: 100%|██████████| 196/196 [00:14<00:00, 13.81it/s, loss=0.409]\n"
     ]
    },
    {
     "name": "stdout",
     "output_type": "stream",
     "text": [
      "Epoch 25 - Loss: 0.596295810171536\n",
      "Epoch 25 - Acc: 0.7950454354286194\n"
     ]
    },
    {
     "name": "stderr",
     "output_type": "stream",
     "text": [
      "Test: Epoch 25: 100%|██████████| 157/157 [00:02<00:00, 62.14it/s]\n"
     ]
    },
    {
     "name": "stdout",
     "output_type": "stream",
     "text": [
      "Test Accuracy: 0.7321854829788208\n"
     ]
    },
    {
     "name": "stderr",
     "output_type": "stream",
     "text": [
      "Train: Epoch 26: 100%|██████████| 196/196 [00:14<00:00, 13.48it/s, loss=0.395]\n"
     ]
    },
    {
     "name": "stdout",
     "output_type": "stream",
     "text": [
      "Epoch 26 - Loss: 0.5868010037407583\n",
      "Epoch 26 - Acc: 0.7979950308799744\n"
     ]
    },
    {
     "name": "stderr",
     "output_type": "stream",
     "text": [
      "Test: Epoch 26: 100%|██████████| 157/157 [00:02<00:00, 62.06it/s]\n"
     ]
    },
    {
     "name": "stdout",
     "output_type": "stream",
     "text": [
      "Test Accuracy: 0.7326831221580505\n"
     ]
    },
    {
     "name": "stderr",
     "output_type": "stream",
     "text": [
      "Train: Epoch 27: 100%|██████████| 196/196 [00:14<00:00, 13.78it/s, loss=0.382]\n"
     ]
    },
    {
     "name": "stdout",
     "output_type": "stream",
     "text": [
      "Epoch 27 - Loss: 0.5777090813736526\n",
      "Epoch 27 - Acc: 0.8016621470451355\n"
     ]
    },
    {
     "name": "stderr",
     "output_type": "stream",
     "text": [
      "Test: Epoch 27: 100%|██████████| 157/157 [00:02<00:00, 61.97it/s]\n"
     ]
    },
    {
     "name": "stdout",
     "output_type": "stream",
     "text": [
      "Test Accuracy: 0.7337778806686401\n"
     ]
    },
    {
     "name": "stderr",
     "output_type": "stream",
     "text": [
      "Train: Epoch 28: 100%|██████████| 196/196 [00:14<00:00, 13.43it/s, loss=0.368]\n"
     ]
    },
    {
     "name": "stdout",
     "output_type": "stream",
     "text": [
      "Epoch 28 - Loss: 0.5689805746078491\n",
      "Epoch 28 - Acc: 0.8049944043159485\n"
     ]
    },
    {
     "name": "stderr",
     "output_type": "stream",
     "text": [
      "Test: Epoch 28: 100%|██████████| 157/157 [00:02<00:00, 60.17it/s]\n"
     ]
    },
    {
     "name": "stdout",
     "output_type": "stream",
     "text": [
      "Test Accuracy: 0.7347730994224548\n"
     ]
    },
    {
     "name": "stderr",
     "output_type": "stream",
     "text": [
      "Train: Epoch 29: 100%|██████████| 196/196 [00:14<00:00, 13.63it/s, loss=0.354]\n"
     ]
    },
    {
     "name": "stdout",
     "output_type": "stream",
     "text": [
      "Epoch 29 - Loss: 0.5605529155962321\n",
      "Epoch 29 - Acc: 0.8077247738838196\n"
     ]
    },
    {
     "name": "stderr",
     "output_type": "stream",
     "text": [
      "Test: Epoch 29: 100%|██████████| 157/157 [00:02<00:00, 62.77it/s]\n"
     ]
    },
    {
     "name": "stdout",
     "output_type": "stream",
     "text": [
      "Test Accuracy: 0.7348726391792297\n"
     ]
    },
    {
     "name": "stderr",
     "output_type": "stream",
     "text": [
      "Train: Epoch 30: 100%|██████████| 196/196 [00:14<00:00, 13.69it/s, loss=0.34]\n"
     ]
    },
    {
     "name": "stdout",
     "output_type": "stream",
     "text": [
      "Epoch 30 - Loss: 0.5524416908013577\n",
      "Epoch 30 - Acc: 0.8103355765342712\n"
     ]
    },
    {
     "name": "stderr",
     "output_type": "stream",
     "text": [
      "Test: Epoch 30: 100%|██████████| 157/157 [00:02<00:00, 64.20it/s]\n"
     ]
    },
    {
     "name": "stdout",
     "output_type": "stream",
     "text": [
      "Test Accuracy: 0.7365645170211792\n"
     ]
    },
    {
     "name": "stderr",
     "output_type": "stream",
     "text": [
      "Train: Epoch 31: 100%|██████████| 196/196 [00:14<00:00, 13.85it/s, loss=0.326]\n"
     ]
    },
    {
     "name": "stdout",
     "output_type": "stream",
     "text": [
      "Epoch 31 - Loss: 0.544620795821657\n",
      "Epoch 31 - Acc: 0.8131855726242065\n"
     ]
    },
    {
     "name": "stderr",
     "output_type": "stream",
     "text": [
      "Test: Epoch 31: 100%|██████████| 157/157 [00:02<00:00, 64.17it/s]\n"
     ]
    },
    {
     "name": "stdout",
     "output_type": "stream",
     "text": [
      "Test Accuracy: 0.7392516136169434\n"
     ]
    },
    {
     "name": "stderr",
     "output_type": "stream",
     "text": [
      "Train: Epoch 32: 100%|██████████| 196/196 [00:14<00:00, 13.52it/s, loss=0.313]\n"
     ]
    },
    {
     "name": "stdout",
     "output_type": "stream",
     "text": [
      "Epoch 32 - Loss: 0.5371103587807441\n",
      "Epoch 32 - Acc: 0.8158442378044128\n"
     ]
    },
    {
     "name": "stderr",
     "output_type": "stream",
     "text": [
      "Test: Epoch 32: 100%|██████████| 157/157 [00:02<00:00, 60.50it/s]\n"
     ]
    },
    {
     "name": "stdout",
     "output_type": "stream",
     "text": [
      "Test Accuracy: 0.7417396306991577\n"
     ]
    },
    {
     "name": "stderr",
     "output_type": "stream",
     "text": [
      "Train: Epoch 33: 100%|██████████| 196/196 [00:14<00:00, 13.89it/s, loss=0.301]\n"
     ]
    },
    {
     "name": "stdout",
     "output_type": "stream",
     "text": [
      "Epoch 33 - Loss: 0.5298463898349781\n",
      "Epoch 33 - Acc: 0.818953275680542\n"
     ]
    },
    {
     "name": "stderr",
     "output_type": "stream",
     "text": [
      "Test: Epoch 33: 100%|██████████| 157/157 [00:02<00:00, 62.96it/s]\n"
     ]
    },
    {
     "name": "stdout",
     "output_type": "stream",
     "text": [
      "Test Accuracy: 0.7427348494529724\n"
     ]
    },
    {
     "name": "stderr",
     "output_type": "stream",
     "text": [
      "Train: Epoch 34: 100%|██████████| 196/196 [00:14<00:00, 13.78it/s, loss=0.29]\n"
     ]
    },
    {
     "name": "stdout",
     "output_type": "stream",
     "text": [
      "Epoch 34 - Loss: 0.5227826865656036\n",
      "Epoch 34 - Acc: 0.8219866156578064\n"
     ]
    },
    {
     "name": "stderr",
     "output_type": "stream",
     "text": [
      "Test: Epoch 34: 100%|██████████| 157/157 [00:02<00:00, 53.42it/s]\n"
     ]
    },
    {
     "name": "stdout",
     "output_type": "stream",
     "text": [
      "Test Accuracy: 0.7445262670516968\n"
     ]
    },
    {
     "name": "stderr",
     "output_type": "stream",
     "text": [
      "Train: Epoch 35: 100%|██████████| 196/196 [00:13<00:00, 14.25it/s, loss=0.28]\n"
     ]
    },
    {
     "name": "stdout",
     "output_type": "stream",
     "text": [
      "Epoch 35 - Loss: 0.5159036806043313\n",
      "Epoch 35 - Acc: 0.8248365521430969\n"
     ]
    },
    {
     "name": "stderr",
     "output_type": "stream",
     "text": [
      "Test: Epoch 35: 100%|██████████| 157/157 [00:02<00:00, 62.21it/s]\n"
     ]
    },
    {
     "name": "stdout",
     "output_type": "stream",
     "text": [
      "Test Accuracy: 0.7448248267173767\n"
     ]
    },
    {
     "name": "stderr",
     "output_type": "stream",
     "text": [
      "Train: Epoch 36: 100%|██████████| 196/196 [00:14<00:00, 13.58it/s, loss=0.269]\n"
     ]
    },
    {
     "name": "stdout",
     "output_type": "stream",
     "text": [
      "Epoch 36 - Loss: 0.5092160481275344\n",
      "Epoch 36 - Acc: 0.826973021030426\n"
     ]
    },
    {
     "name": "stderr",
     "output_type": "stream",
     "text": [
      "Test: Epoch 36: 100%|██████████| 157/157 [00:03<00:00, 52.29it/s]\n"
     ]
    },
    {
     "name": "stdout",
     "output_type": "stream",
     "text": [
      "Test Accuracy: 0.7454219460487366\n"
     ]
    },
    {
     "name": "stderr",
     "output_type": "stream",
     "text": [
      "Train: Epoch 37: 100%|██████████| 196/196 [00:13<00:00, 14.41it/s, loss=0.259]\n"
     ]
    },
    {
     "name": "stdout",
     "output_type": "stream",
     "text": [
      "Epoch 37 - Loss: 0.5028138133336086\n",
      "Epoch 37 - Acc: 0.8293645977973938\n"
     ]
    },
    {
     "name": "stderr",
     "output_type": "stream",
     "text": [
      "Test: Epoch 37: 100%|██████████| 157/157 [00:02<00:00, 63.28it/s]\n"
     ]
    },
    {
     "name": "stdout",
     "output_type": "stream",
     "text": [
      "Test Accuracy: 0.7473129034042358\n"
     ]
    },
    {
     "name": "stderr",
     "output_type": "stream",
     "text": [
      "Train: Epoch 38: 100%|██████████| 196/196 [00:14<00:00, 13.48it/s, loss=0.25]\n"
     ]
    },
    {
     "name": "stdout",
     "output_type": "stream",
     "text": [
      "Epoch 38 - Loss: 0.4970166605650162\n",
      "Epoch 38 - Acc: 0.831839919090271\n"
     ]
    },
    {
     "name": "stderr",
     "output_type": "stream",
     "text": [
      "Test: Epoch 38: 100%|██████████| 157/157 [00:02<00:00, 60.67it/s]\n"
     ]
    },
    {
     "name": "stdout",
     "output_type": "stream",
     "text": [
      "Test Accuracy: 0.750199019908905\n"
     ]
    },
    {
     "name": "stderr",
     "output_type": "stream",
     "text": [
      "Train: Epoch 39: 100%|██████████| 196/196 [00:13<00:00, 14.55it/s, loss=0.244]\n"
     ]
    },
    {
     "name": "stdout",
     "output_type": "stream",
     "text": [
      "Epoch 39 - Loss: 0.49148987857054693\n",
      "Epoch 39 - Acc: 0.8345304131507874\n"
     ]
    },
    {
     "name": "stderr",
     "output_type": "stream",
     "text": [
      "Test: Epoch 39: 100%|██████████| 157/157 [00:02<00:00, 64.15it/s]\n"
     ]
    },
    {
     "name": "stdout",
     "output_type": "stream",
     "text": [
      "Test Accuracy: 0.7539808750152588\n"
     ]
    },
    {
     "name": "stderr",
     "output_type": "stream",
     "text": [
      "Train: Epoch 40: 100%|██████████| 196/196 [00:14<00:00, 13.17it/s, loss=0.235]\n"
     ]
    },
    {
     "name": "stdout",
     "output_type": "stream",
     "text": [
      "Epoch 40 - Loss: 0.4849997997588041\n",
      "Epoch 40 - Acc: 0.8368223309516907\n"
     ]
    },
    {
     "name": "stderr",
     "output_type": "stream",
     "text": [
      "Test: Epoch 40: 100%|██████████| 157/157 [00:02<00:00, 63.63it/s]\n"
     ]
    },
    {
     "name": "stdout",
     "output_type": "stream",
     "text": [
      "Test Accuracy: 0.7575637102127075\n"
     ]
    },
    {
     "name": "stderr",
     "output_type": "stream",
     "text": [
      "Train: Epoch 41: 100%|██████████| 196/196 [00:13<00:00, 14.15it/s, loss=0.226]\n"
     ]
    },
    {
     "name": "stdout",
     "output_type": "stream",
     "text": [
      "Epoch 41 - Loss: 0.47772189123289927\n",
      "Epoch 41 - Acc: 0.8401705622673035\n"
     ]
    },
    {
     "name": "stderr",
     "output_type": "stream",
     "text": [
      "Test: Epoch 41: 100%|██████████| 157/157 [00:02<00:00, 61.60it/s]\n"
     ]
    },
    {
     "name": "stdout",
     "output_type": "stream",
     "text": [
      "Test Accuracy: 0.7596536874771118\n"
     ]
    },
    {
     "name": "stderr",
     "output_type": "stream",
     "text": [
      "Train: Epoch 42: 100%|██████████| 196/196 [00:15<00:00, 12.96it/s, loss=0.219]\n"
     ]
    },
    {
     "name": "stdout",
     "output_type": "stream",
     "text": [
      "Epoch 42 - Loss: 0.4707149902776796\n",
      "Epoch 42 - Acc: 0.8428611159324646\n"
     ]
    },
    {
     "name": "stderr",
     "output_type": "stream",
     "text": [
      "Test: Epoch 42: 100%|██████████| 157/157 [00:02<00:00, 62.72it/s]\n"
     ]
    },
    {
     "name": "stdout",
     "output_type": "stream",
     "text": [
      "Test Accuracy: 0.7611464858055115\n"
     ]
    },
    {
     "name": "stderr",
     "output_type": "stream",
     "text": [
      "Train: Epoch 43: 100%|██████████| 196/196 [00:13<00:00, 14.10it/s, loss=0.212]\n"
     ]
    },
    {
     "name": "stdout",
     "output_type": "stream",
     "text": [
      "Epoch 43 - Loss: 0.4640987314740006\n",
      "Epoch 43 - Acc: 0.8451331257820129\n"
     ]
    },
    {
     "name": "stderr",
     "output_type": "stream",
     "text": [
      "Test: Epoch 43: 100%|██████████| 157/157 [00:02<00:00, 61.54it/s]\n"
     ]
    },
    {
     "name": "stdout",
     "output_type": "stream",
     "text": [
      "Test Accuracy: 0.7626393437385559\n"
     ]
    },
    {
     "name": "stderr",
     "output_type": "stream",
     "text": [
      "Train: Epoch 44: 100%|██████████| 196/196 [00:14<00:00, 13.07it/s, loss=0.206]\n"
     ]
    },
    {
     "name": "stdout",
     "output_type": "stream",
     "text": [
      "Epoch 44 - Loss: 0.45775650791367706\n",
      "Epoch 44 - Acc: 0.8475486636161804\n"
     ]
    },
    {
     "name": "stderr",
     "output_type": "stream",
     "text": [
      "Test: Epoch 44: 100%|██████████| 157/157 [00:02<00:00, 61.76it/s]\n"
     ]
    },
    {
     "name": "stdout",
     "output_type": "stream",
     "text": [
      "Test Accuracy: 0.7641321420669556\n"
     ]
    },
    {
     "name": "stderr",
     "output_type": "stream",
     "text": [
      "Train: Epoch 45: 100%|██████████| 196/196 [00:13<00:00, 14.25it/s, loss=0.2]\n"
     ]
    },
    {
     "name": "stdout",
     "output_type": "stream",
     "text": [
      "Epoch 45 - Loss: 0.45160437116817553\n",
      "Epoch 45 - Acc: 0.8499203324317932\n"
     ]
    },
    {
     "name": "stderr",
     "output_type": "stream",
     "text": [
      "Test: Epoch 45: 100%|██████████| 157/157 [00:02<00:00, 62.88it/s]\n"
     ]
    },
    {
     "name": "stdout",
     "output_type": "stream",
     "text": [
      "Test Accuracy: 0.7649283409118652\n"
     ]
    },
    {
     "name": "stderr",
     "output_type": "stream",
     "text": [
      "Train: Epoch 46: 100%|██████████| 196/196 [00:15<00:00, 13.04it/s, loss=0.195]\n"
     ]
    },
    {
     "name": "stdout",
     "output_type": "stream",
     "text": [
      "Epoch 46 - Loss: 0.4455817569123239\n",
      "Epoch 46 - Acc: 0.8519730567932129\n"
     ]
    },
    {
     "name": "stderr",
     "output_type": "stream",
     "text": [
      "Test: Epoch 46: 100%|██████████| 157/157 [00:02<00:00, 61.13it/s]\n"
     ]
    },
    {
     "name": "stdout",
     "output_type": "stream",
     "text": [
      "Test Accuracy: 0.7639331221580505\n"
     ]
    },
    {
     "name": "stderr",
     "output_type": "stream",
     "text": [
      "Train: Epoch 47: 100%|██████████| 196/196 [00:13<00:00, 14.22it/s, loss=0.19]\n"
     ]
    },
    {
     "name": "stdout",
     "output_type": "stream",
     "text": [
      "Epoch 47 - Loss: 0.4396989964404885\n",
      "Epoch 47 - Acc: 0.8546038269996643\n"
     ]
    },
    {
     "name": "stderr",
     "output_type": "stream",
     "text": [
      "Test: Epoch 47: 100%|██████████| 157/157 [00:02<00:00, 62.54it/s]\n"
     ]
    },
    {
     "name": "stdout",
     "output_type": "stream",
     "text": [
      "Test Accuracy: 0.7639331221580505\n"
     ]
    },
    {
     "name": "stderr",
     "output_type": "stream",
     "text": [
      "Train: Epoch 48: 100%|██████████| 196/196 [00:14<00:00, 13.17it/s, loss=0.186]\n"
     ]
    },
    {
     "name": "stdout",
     "output_type": "stream",
     "text": [
      "Epoch 48 - Loss: 0.43392823575710765\n",
      "Epoch 48 - Acc: 0.8569157123565674\n"
     ]
    },
    {
     "name": "stderr",
     "output_type": "stream",
     "text": [
      "Test: Epoch 48: 100%|██████████| 157/157 [00:02<00:00, 64.18it/s]\n"
     ]
    },
    {
     "name": "stdout",
     "output_type": "stream",
     "text": [
      "Test Accuracy: 0.7649283409118652\n"
     ]
    },
    {
     "name": "stderr",
     "output_type": "stream",
     "text": [
      "Train: Epoch 49: 100%|██████████| 196/196 [00:13<00:00, 14.74it/s, loss=0.181]\n"
     ]
    },
    {
     "name": "stdout",
     "output_type": "stream",
     "text": [
      "Epoch 49 - Loss: 0.4282892723472751\n",
      "Epoch 49 - Acc: 0.8589286208152771\n"
     ]
    },
    {
     "name": "stderr",
     "output_type": "stream",
     "text": [
      "Test: Epoch 49: 100%|██████████| 157/157 [00:02<00:00, 62.70it/s]\n"
     ]
    },
    {
     "name": "stdout",
     "output_type": "stream",
     "text": [
      "Test Accuracy: 0.765425980091095\n"
     ]
    },
    {
     "name": "stderr",
     "output_type": "stream",
     "text": [
      "Train: Epoch 50: 100%|██████████| 196/196 [00:14<00:00, 13.38it/s, loss=0.177]\n"
     ]
    },
    {
     "name": "stdout",
     "output_type": "stream",
     "text": [
      "Epoch 50 - Loss: 0.4227760396897793\n",
      "Epoch 50 - Acc: 0.8615992069244385\n"
     ]
    },
    {
     "name": "stderr",
     "output_type": "stream",
     "text": [
      "Test: Epoch 50: 100%|██████████| 157/157 [00:02<00:00, 65.02it/s]\n"
     ]
    },
    {
     "name": "stdout",
     "output_type": "stream",
     "text": [
      "Test Accuracy: 0.7660230994224548\n"
     ]
    },
    {
     "name": "stderr",
     "output_type": "stream",
     "text": [
      "Train: Epoch 51: 100%|██████████| 196/196 [00:13<00:00, 14.68it/s, loss=0.174]\n"
     ]
    },
    {
     "name": "stdout",
     "output_type": "stream",
     "text": [
      "Epoch 51 - Loss: 0.41736034661227345\n",
      "Epoch 51 - Acc: 0.8634925484657288\n"
     ]
    },
    {
     "name": "stderr",
     "output_type": "stream",
     "text": [
      "Test: Epoch 51: 100%|██████████| 157/157 [00:02<00:00, 64.03it/s]\n"
     ]
    },
    {
     "name": "stdout",
     "output_type": "stream",
     "text": [
      "Test Accuracy: 0.7659235596656799\n"
     ]
    },
    {
     "name": "stderr",
     "output_type": "stream",
     "text": [
      "Train: Epoch 52: 100%|██████████| 196/196 [00:14<00:00, 13.25it/s, loss=0.17]\n"
     ]
    },
    {
     "name": "stdout",
     "output_type": "stream",
     "text": [
      "Epoch 52 - Loss: 0.4120427567739876\n",
      "Epoch 52 - Acc: 0.8652862310409546\n"
     ]
    },
    {
     "name": "stderr",
     "output_type": "stream",
     "text": [
      "Test: Epoch 52: 100%|██████████| 157/157 [00:02<00:00, 63.44it/s]\n"
     ]
    },
    {
     "name": "stdout",
     "output_type": "stream",
     "text": [
      "Test Accuracy: 0.7664211988449097\n"
     ]
    },
    {
     "name": "stderr",
     "output_type": "stream",
     "text": [
      "Train: Epoch 53: 100%|██████████| 196/196 [00:13<00:00, 14.81it/s, loss=0.167]\n"
     ]
    },
    {
     "name": "stdout",
     "output_type": "stream",
     "text": [
      "Epoch 53 - Loss: 0.40680697765581464\n",
      "Epoch 53 - Acc: 0.8673987984657288\n"
     ]
    },
    {
     "name": "stderr",
     "output_type": "stream",
     "text": [
      "Test: Epoch 53: 100%|██████████| 157/157 [00:02<00:00, 55.73it/s]\n"
     ]
    },
    {
     "name": "stdout",
     "output_type": "stream",
     "text": [
      "Test Accuracy: 0.765824019908905\n"
     ]
    },
    {
     "name": "stderr",
     "output_type": "stream",
     "text": [
      "Train: Epoch 54: 100%|██████████| 196/196 [00:14<00:00, 13.72it/s, loss=0.163]\n"
     ]
    },
    {
     "name": "stdout",
     "output_type": "stream",
     "text": [
      "Epoch 54 - Loss: 0.40166190464277657\n",
      "Epoch 54 - Acc: 0.8694714903831482\n"
     ]
    },
    {
     "name": "stderr",
     "output_type": "stream",
     "text": [
      "Test: Epoch 54: 100%|██████████| 157/157 [00:02<00:00, 65.47it/s]\n"
     ]
    },
    {
     "name": "stdout",
     "output_type": "stream",
     "text": [
      "Test Accuracy: 0.7661226391792297\n"
     ]
    },
    {
     "name": "stderr",
     "output_type": "stream",
     "text": [
      "Train: Epoch 55: 100%|██████████| 196/196 [00:13<00:00, 14.99it/s, loss=0.16]\n"
     ]
    },
    {
     "name": "stdout",
     "output_type": "stream",
     "text": [
      "Epoch 55 - Loss: 0.39660735724835977\n",
      "Epoch 55 - Acc: 0.8716278672218323\n"
     ]
    },
    {
     "name": "stderr",
     "output_type": "stream",
     "text": [
      "Test: Epoch 55: 100%|██████████| 157/157 [00:02<00:00, 53.50it/s]\n"
     ]
    },
    {
     "name": "stdout",
     "output_type": "stream",
     "text": [
      "Test Accuracy: 0.7649283409118652\n"
     ]
    },
    {
     "name": "stderr",
     "output_type": "stream",
     "text": [
      "Train: Epoch 56: 100%|██████████| 196/196 [00:14<00:00, 13.57it/s, loss=0.157]\n"
     ]
    },
    {
     "name": "stdout",
     "output_type": "stream",
     "text": [
      "Epoch 56 - Loss: 0.39165864626363833\n",
      "Epoch 56 - Acc: 0.8731425404548645\n"
     ]
    },
    {
     "name": "stderr",
     "output_type": "stream",
     "text": [
      "Test: Epoch 56: 100%|██████████| 157/157 [00:02<00:00, 64.59it/s]\n"
     ]
    },
    {
     "name": "stdout",
     "output_type": "stream",
     "text": [
      "Test Accuracy: 0.7653264403343201\n"
     ]
    },
    {
     "name": "stderr",
     "output_type": "stream",
     "text": [
      "Train: Epoch 57: 100%|██████████| 196/196 [00:13<00:00, 14.69it/s, loss=0.155]\n"
     ]
    },
    {
     "name": "stdout",
     "output_type": "stream",
     "text": [
      "Epoch 57 - Loss: 0.3867952587957285\n",
      "Epoch 57 - Acc: 0.8753746747970581\n"
     ]
    },
    {
     "name": "stderr",
     "output_type": "stream",
     "text": [
      "Test: Epoch 57: 100%|██████████| 157/157 [00:02<00:00, 53.91it/s]\n"
     ]
    },
    {
     "name": "stdout",
     "output_type": "stream",
     "text": [
      "Test Accuracy: 0.7660230994224548\n"
     ]
    },
    {
     "name": "stderr",
     "output_type": "stream",
     "text": [
      "Train: Epoch 58: 100%|██████████| 196/196 [00:14<00:00, 13.70it/s, loss=0.152]\n"
     ]
    },
    {
     "name": "stdout",
     "output_type": "stream",
     "text": [
      "Epoch 58 - Loss: 0.38201148747181407\n",
      "Epoch 58 - Acc: 0.8776068687438965\n"
     ]
    },
    {
     "name": "stderr",
     "output_type": "stream",
     "text": [
      "Test: Epoch 58: 100%|██████████| 157/157 [00:02<00:00, 64.89it/s]\n"
     ]
    },
    {
     "name": "stdout",
     "output_type": "stream",
     "text": [
      "Test Accuracy: 0.7652269005775452\n"
     ]
    },
    {
     "name": "stderr",
     "output_type": "stream",
     "text": [
      "Train: Epoch 59: 100%|██████████| 196/196 [00:13<00:00, 14.55it/s, loss=0.149]\n"
     ]
    },
    {
     "name": "stdout",
     "output_type": "stream",
     "text": [
      "Epoch 59 - Loss: 0.3773356577267452\n",
      "Epoch 59 - Acc: 0.879484236240387\n"
     ]
    },
    {
     "name": "stderr",
     "output_type": "stream",
     "text": [
      "Test: Epoch 59: 100%|██████████| 157/157 [00:02<00:00, 62.32it/s]\n"
     ]
    },
    {
     "name": "stdout",
     "output_type": "stream",
     "text": [
      "Test Accuracy: 0.7660230994224548\n"
     ]
    },
    {
     "name": "stderr",
     "output_type": "stream",
     "text": [
      "Train: Epoch 60: 100%|██████████| 196/196 [00:14<00:00, 13.88it/s, loss=0.147]\n"
     ]
    },
    {
     "name": "stdout",
     "output_type": "stream",
     "text": [
      "Epoch 60 - Loss: 0.37275753641615106\n",
      "Epoch 60 - Acc: 0.8809390664100647\n"
     ]
    },
    {
     "name": "stderr",
     "output_type": "stream",
     "text": [
      "Test: Epoch 60: 100%|██████████| 157/157 [00:02<00:00, 64.01it/s]\n"
     ]
    },
    {
     "name": "stdout",
     "output_type": "stream",
     "text": [
      "Test Accuracy: 0.7652269005775452\n"
     ]
    },
    {
     "name": "stderr",
     "output_type": "stream",
     "text": [
      "Train: Epoch 61: 100%|██████████| 196/196 [00:13<00:00, 14.24it/s, loss=0.144]\n"
     ]
    },
    {
     "name": "stdout",
     "output_type": "stream",
     "text": [
      "Epoch 61 - Loss: 0.3682710478196339\n",
      "Epoch 61 - Acc: 0.8826530575752258\n"
     ]
    },
    {
     "name": "stderr",
     "output_type": "stream",
     "text": [
      "Test: Epoch 61: 100%|██████████| 157/157 [00:02<00:00, 63.63it/s]\n"
     ]
    },
    {
     "name": "stdout",
     "output_type": "stream",
     "text": [
      "Test Accuracy: 0.7660230994224548\n"
     ]
    },
    {
     "name": "stderr",
     "output_type": "stream",
     "text": [
      "Train: Epoch 62: 100%|██████████| 196/196 [00:14<00:00, 13.96it/s, loss=0.142]\n"
     ]
    },
    {
     "name": "stdout",
     "output_type": "stream",
     "text": [
      "Epoch 62 - Loss: 0.36388250326319616\n",
      "Epoch 62 - Acc: 0.8845065236091614\n"
     ]
    },
    {
     "name": "stderr",
     "output_type": "stream",
     "text": [
      "Test: Epoch 62: 100%|██████████| 157/157 [00:02<00:00, 64.64it/s]\n"
     ]
    },
    {
     "name": "stdout",
     "output_type": "stream",
     "text": [
      "Test Accuracy: 0.7653264403343201\n"
     ]
    },
    {
     "name": "stderr",
     "output_type": "stream",
     "text": [
      "Train: Epoch 63: 100%|██████████| 196/196 [00:13<00:00, 14.23it/s, loss=0.14]\n"
     ]
    },
    {
     "name": "stdout",
     "output_type": "stream",
     "text": [
      "Epoch 63 - Loss: 0.35957455764315566\n",
      "Epoch 63 - Acc: 0.886140763759613\n"
     ]
    },
    {
     "name": "stderr",
     "output_type": "stream",
     "text": [
      "Test: Epoch 63: 100%|██████████| 157/157 [00:02<00:00, 63.99it/s]\n"
     ]
    },
    {
     "name": "stdout",
     "output_type": "stream",
     "text": [
      "Test Accuracy: 0.7651273608207703\n"
     ]
    },
    {
     "name": "stderr",
     "output_type": "stream",
     "text": [
      "Train: Epoch 64: 100%|██████████| 196/196 [00:14<00:00, 13.76it/s, loss=0.137]\n"
     ]
    },
    {
     "name": "stdout",
     "output_type": "stream",
     "text": [
      "Epoch 64 - Loss: 0.3554133467224179\n",
      "Epoch 64 - Acc: 0.8878547549247742\n"
     ]
    },
    {
     "name": "stderr",
     "output_type": "stream",
     "text": [
      "Test: Epoch 64: 100%|██████████| 157/157 [00:02<00:00, 65.59it/s]\n"
     ]
    },
    {
     "name": "stdout",
     "output_type": "stream",
     "text": [
      "Test Accuracy: 0.7648288011550903\n"
     ]
    },
    {
     "name": "stderr",
     "output_type": "stream",
     "text": [
      "Train: Epoch 65: 100%|██████████| 196/196 [00:13<00:00, 14.21it/s, loss=0.135]\n"
     ]
    },
    {
     "name": "stdout",
     "output_type": "stream",
     "text": [
      "Epoch 65 - Loss: 0.35141026084216276\n",
      "Epoch 65 - Acc: 0.8893096446990967\n"
     ]
    },
    {
     "name": "stderr",
     "output_type": "stream",
     "text": [
      "Test: Epoch 65: 100%|██████████| 157/157 [00:02<00:00, 63.31it/s]\n"
     ]
    },
    {
     "name": "stdout",
     "output_type": "stream",
     "text": [
      "Test Accuracy: 0.7651273608207703\n"
     ]
    },
    {
     "name": "stderr",
     "output_type": "stream",
     "text": [
      "Train: Epoch 66: 100%|██████████| 196/196 [00:14<00:00, 13.92it/s, loss=0.133]\n"
     ]
    },
    {
     "name": "stdout",
     "output_type": "stream",
     "text": [
      "Epoch 66 - Loss: 0.3476580531925571\n",
      "Epoch 66 - Acc: 0.890605092048645\n"
     ]
    },
    {
     "name": "stderr",
     "output_type": "stream",
     "text": [
      "Test: Epoch 66: 100%|██████████| 157/157 [00:02<00:00, 64.79it/s]\n"
     ]
    },
    {
     "name": "stdout",
     "output_type": "stream",
     "text": [
      "Test Accuracy: 0.7648288011550903\n"
     ]
    },
    {
     "name": "stderr",
     "output_type": "stream",
     "text": [
      "Train: Epoch 67: 100%|██████████| 196/196 [00:13<00:00, 14.36it/s, loss=0.13]\n"
     ]
    },
    {
     "name": "stdout",
     "output_type": "stream",
     "text": [
      "Epoch 67 - Loss: 0.3443811172429396\n",
      "Epoch 67 - Acc: 0.8917610049247742\n"
     ]
    },
    {
     "name": "stderr",
     "output_type": "stream",
     "text": [
      "Test: Epoch 67: 100%|██████████| 157/157 [00:02<00:00, 63.71it/s]\n"
     ]
    },
    {
     "name": "stdout",
     "output_type": "stream",
     "text": [
      "Test Accuracy: 0.7649283409118652\n"
     ]
    },
    {
     "name": "stderr",
     "output_type": "stream",
     "text": [
      "Train: Epoch 68: 100%|██████████| 196/196 [00:14<00:00, 13.88it/s, loss=0.131]\n"
     ]
    },
    {
     "name": "stdout",
     "output_type": "stream",
     "text": [
      "Epoch 68 - Loss: 0.34182945912589835\n",
      "Epoch 68 - Acc: 0.8924585580825806\n"
     ]
    },
    {
     "name": "stderr",
     "output_type": "stream",
     "text": [
      "Test: Epoch 68: 100%|██████████| 157/157 [00:02<00:00, 65.37it/s]\n"
     ]
    },
    {
     "name": "stdout",
     "output_type": "stream",
     "text": [
      "Test Accuracy: 0.765425980091095\n"
     ]
    },
    {
     "name": "stderr",
     "output_type": "stream",
     "text": [
      "Train: Epoch 69: 100%|██████████| 196/196 [00:13<00:00, 14.24it/s, loss=0.135]\n"
     ]
    },
    {
     "name": "stdout",
     "output_type": "stream",
     "text": [
      "Epoch 69 - Loss: 0.3391790093511951\n",
      "Epoch 69 - Acc: 0.8931122422218323\n"
     ]
    },
    {
     "name": "stderr",
     "output_type": "stream",
     "text": [
      "Test: Epoch 69: 100%|██████████| 157/157 [00:02<00:00, 63.95it/s]\n"
     ]
    },
    {
     "name": "stdout",
     "output_type": "stream",
     "text": [
      "Test Accuracy: 0.7636345624923706\n"
     ]
    },
    {
     "name": "stderr",
     "output_type": "stream",
     "text": [
      "Train: Epoch 70: 100%|██████████| 196/196 [00:14<00:00, 13.86it/s, loss=0.133]\n"
     ]
    },
    {
     "name": "stdout",
     "output_type": "stream",
     "text": [
      "Epoch 70 - Loss: 0.33522075460273393\n",
      "Epoch 70 - Acc: 0.8949059247970581\n"
     ]
    },
    {
     "name": "stderr",
     "output_type": "stream",
     "text": [
      "Test: Epoch 70: 100%|██████████| 157/157 [00:02<00:00, 64.31it/s]\n"
     ]
    },
    {
     "name": "stdout",
     "output_type": "stream",
     "text": [
      "Test Accuracy: 0.7614450454711914\n"
     ]
    },
    {
     "name": "stderr",
     "output_type": "stream",
     "text": [
      "Train: Epoch 71: 100%|██████████| 196/196 [00:13<00:00, 14.21it/s, loss=0.13]\n"
     ]
    },
    {
     "name": "stdout",
     "output_type": "stream",
     "text": [
      "Epoch 71 - Loss: 0.3307025167254769\n",
      "Epoch 71 - Acc: 0.896659791469574\n"
     ]
    },
    {
     "name": "stderr",
     "output_type": "stream",
     "text": [
      "Test: Epoch 71: 100%|██████████| 157/157 [00:02<00:00, 65.03it/s]\n"
     ]
    },
    {
     "name": "stdout",
     "output_type": "stream",
     "text": [
      "Test Accuracy: 0.7604498267173767\n"
     ]
    },
    {
     "name": "stderr",
     "output_type": "stream",
     "text": [
      "Train: Epoch 72: 100%|██████████| 196/196 [00:14<00:00, 13.70it/s, loss=0.126]\n"
     ]
    },
    {
     "name": "stdout",
     "output_type": "stream",
     "text": [
      "Epoch 72 - Loss: 0.32620430334794276\n",
      "Epoch 72 - Acc: 0.8985531330108643\n"
     ]
    },
    {
     "name": "stderr",
     "output_type": "stream",
     "text": [
      "Test: Epoch 72: 100%|██████████| 157/157 [00:02<00:00, 63.07it/s]\n"
     ]
    },
    {
     "name": "stdout",
     "output_type": "stream",
     "text": [
      "Test Accuracy: 0.7604498267173767\n"
     ]
    },
    {
     "name": "stderr",
     "output_type": "stream",
     "text": [
      "Train: Epoch 73: 100%|██████████| 196/196 [00:13<00:00, 14.39it/s, loss=0.122]\n"
     ]
    },
    {
     "name": "stdout",
     "output_type": "stream",
     "text": [
      "Epoch 73 - Loss: 0.3218740822785363\n",
      "Epoch 73 - Acc: 0.9004862904548645\n"
     ]
    },
    {
     "name": "stderr",
     "output_type": "stream",
     "text": [
      "Test: Epoch 73: 100%|██████████| 157/157 [00:02<00:00, 64.68it/s]\n"
     ]
    },
    {
     "name": "stdout",
     "output_type": "stream",
     "text": [
      "Test Accuracy: 0.7603503465652466\n"
     ]
    },
    {
     "name": "stderr",
     "output_type": "stream",
     "text": [
      "Train: Epoch 74: 100%|██████████| 196/196 [00:14<00:00, 13.91it/s, loss=0.119]\n"
     ]
    },
    {
     "name": "stdout",
     "output_type": "stream",
     "text": [
      "Epoch 74 - Loss: 0.3176517650789144\n",
      "Epoch 74 - Acc: 0.9020408391952515\n"
     ]
    },
    {
     "name": "stderr",
     "output_type": "stream",
     "text": [
      "Test: Epoch 74: 100%|██████████| 157/157 [00:02<00:00, 64.74it/s]\n"
     ]
    },
    {
     "name": "stdout",
     "output_type": "stream",
     "text": [
      "Test Accuracy: 0.7603503465652466\n"
     ]
    },
    {
     "name": "stderr",
     "output_type": "stream",
     "text": [
      "Train: Epoch 75: 100%|██████████| 196/196 [00:13<00:00, 14.62it/s, loss=0.116]\n"
     ]
    },
    {
     "name": "stdout",
     "output_type": "stream",
     "text": [
      "Epoch 75 - Loss: 0.31353945057002863\n",
      "Epoch 75 - Acc: 0.9035555124282837\n"
     ]
    },
    {
     "name": "stderr",
     "output_type": "stream",
     "text": [
      "Test: Epoch 75: 100%|██████████| 157/157 [00:02<00:00, 65.51it/s]"
     ]
    },
    {
     "name": "stdout",
     "output_type": "stream",
     "text": [
      "Test Accuracy: 0.7603503465652466\n"
     ]
    },
    {
     "name": "stderr",
     "output_type": "stream",
     "text": [
      "\n"
     ]
    }
   ],
   "source": [
    "model_bn = CustomCNNBN()\n",
    "model_bn = model_bn.cuda()\n",
    "transform = transforms.Compose([\n",
    "    transforms.Resize((32, 32)),\n",
    "    transforms.ToTensor(),\n",
    "    transforms.Normalize(mean=[0.4914, 0.4822, 0.4465], std=[0.247, 0.243, 0.261])\n",
    "])\n",
    "optimizer_bn = torch.optim.AdamW(model_bn.parameters(), lr=1e-3)\n",
    "train_acc_hist_bn, train_loss_hist_bn, test_accs_bn = training(model_bn, train_loader, test_loader, epochs, optimizer_bn)"
   ]
  },
  {
   "cell_type": "code",
   "execution_count": 12,
   "id": "f4ee7c97",
   "metadata": {
    "execution": {
     "iopub.execute_input": "2023-04-15T03:05:55.822978Z",
     "iopub.status.busy": "2023-04-15T03:05:55.822609Z",
     "iopub.status.idle": "2023-04-15T03:05:55.829281Z",
     "shell.execute_reply": "2023-04-15T03:05:55.827948Z"
    },
    "papermill": {
     "duration": 1.782997,
     "end_time": "2023-04-15T03:05:55.831499",
     "exception": false,
     "start_time": "2023-04-15T03:05:54.048502",
     "status": "completed"
    },
    "tags": []
   },
   "outputs": [
    {
     "name": "stdout",
     "output_type": "stream",
     "text": [
      "Test Accuracy on CIFAR-10 Test set with Batch Normalization: 76.64212036132812%\n"
     ]
    }
   ],
   "source": [
    "#test_acc_bn = predict(model_bn, test_loader)\n",
    "print(f'Test Accuracy on CIFAR-10 Test set with Batch Normalization: {max(test_accs_bn)*100}%')"
   ]
  },
  {
   "cell_type": "code",
   "execution_count": 13,
   "id": "4d894090",
   "metadata": {
    "execution": {
     "iopub.execute_input": "2023-04-15T03:05:59.195268Z",
     "iopub.status.busy": "2023-04-15T03:05:59.194915Z",
     "iopub.status.idle": "2023-04-15T03:05:59.425307Z",
     "shell.execute_reply": "2023-04-15T03:05:59.424372Z"
    },
    "papermill": {
     "duration": 1.906362,
     "end_time": "2023-04-15T03:05:59.427424",
     "exception": false,
     "start_time": "2023-04-15T03:05:57.521062",
     "status": "completed"
    },
    "tags": []
   },
   "outputs": [
    {
     "data": {
      "image/png": "[encoded data removed]",
      "text/plain": [
       "<Figure size 640x480 with 1 Axes>"
      ]
     },
     "metadata": {},
     "output_type": "display_data"
    }
   ],
   "source": [
    "plt.title('Plotting Training Loss Original vs BN')\n",
    "plt.plot(epochs_list, train_loss_hist, 'b', label='Train Loss without Batch Normalization')\n",
    "plt.plot(epochs_list, train_loss_hist_bn, 'r', label='Train Loss with Batch Normalization')\n",
    "plt.xlabel('Epochs')\n",
    "plt.ylabel('Cross Entropy Loss')\n",
    "plt.legend()\n",
    "plt.show()"
   ]
  },
  {
   "cell_type": "code",
   "execution_count": 14,
   "id": "317f02d1",
   "metadata": {
    "execution": {
     "iopub.execute_input": "2023-04-15T03:06:02.809953Z",
     "iopub.status.busy": "2023-04-15T03:06:02.809585Z",
     "iopub.status.idle": "2023-04-15T03:06:03.034413Z",
     "shell.execute_reply": "2023-04-15T03:06:03.033441Z"
    },
    "papermill": {
     "duration": 1.913799,
     "end_time": "2023-04-15T03:06:03.036572",
     "exception": false,
     "start_time": "2023-04-15T03:06:01.122773",
     "status": "completed"
    },
    "tags": []
   },
   "outputs": [
    {
     "data": {
      "image/png": "[encoded data removed]",
      "text/plain": [
       "<Figure size 640x480 with 1 Axes>"
      ]
     },
     "metadata": {},
     "output_type": "display_data"
    }
   ],
   "source": [
    "plt.title('Plotting Training Accuracy Original vs BN')\n",
    "plt.plot(epochs_list, train_acc_hist, 'b', label='Train Accuracy without Batch Normalization')\n",
    "plt.plot(epochs_list, train_acc_hist_bn, 'r', label=\"Train Accuracy with Batch Normalization\")\n",
    "plt.xlabel('Epochs')\n",
    "plt.ylabel('Accuracy')\n",
    "plt.legend()\n",
    "plt.show()"
   ]
  },
  {
   "cell_type": "code",
   "execution_count": 15,
   "id": "0dca5109",
   "metadata": {
    "execution": {
     "iopub.execute_input": "2023-04-15T03:06:06.580800Z",
     "iopub.status.busy": "2023-04-15T03:06:06.580402Z",
     "iopub.status.idle": "2023-04-15T03:06:07.008614Z",
     "shell.execute_reply": "2023-04-15T03:06:07.007495Z"
    },
    "papermill": {
     "duration": 2.276262,
     "end_time": "2023-04-15T03:06:07.010804",
     "exception": false,
     "start_time": "2023-04-15T03:06:04.734542",
     "status": "completed"
    },
    "tags": []
   },
   "outputs": [
    {
     "data": {
      "image/png": "[encoded data removed]",
      "text/plain": [
       "<Figure size 640x480 with 1 Axes>"
      ]
     },
     "metadata": {},
     "output_type": "display_data"
    }
   ],
   "source": [
    "plt.title('Plotting Test Accuracy Original vs BN')\n",
    "plt.plot(epochs_list, test_accs, 'b', label='Test Accuracy without Batch Normalization')\n",
    "plt.plot(epochs_list, test_accs_bn, 'r', label=\"Test Accuracy with Batch Normalization\")\n",
    "plt.xlabel('Epochs')\n",
    "plt.ylabel('Accuracy')\n",
    "plt.legend()\n",
    "plt.show()"
   ]
  },
  {
   "cell_type": "code",
   "execution_count": 16,
   "id": "55181e27",
   "metadata": {
    "execution": {
     "iopub.execute_input": "2023-04-15T03:06:10.404960Z",
     "iopub.status.busy": "2023-04-15T03:06:10.404330Z",
     "iopub.status.idle": "2023-04-15T03:06:19.052467Z",
     "shell.execute_reply": "2023-04-15T03:06:19.051492Z"
    },
    "papermill": {
     "duration": 10.355677,
     "end_time": "2023-04-15T03:06:19.054771",
     "exception": false,
     "start_time": "2023-04-15T03:06:08.699094",
     "status": "completed"
    },
    "tags": []
   },
   "outputs": [
    {
     "data": {
      "image/png": "[encoded data removed]",
      "text/plain": [
       "<Figure size 2000x1700 with 32 Axes>"
      ]
     },
     "metadata": {},
     "output_type": "display_data"
    }
   ],
   "source": [
    "conv1_bn_weights = model_bn.conv1.weight.data.cpu().numpy()\n",
    "plt.figure(figsize=(20, 17))\n",
    "for i, filter in enumerate(conv1_bn_weights):\n",
    "    f = conv1_bn_weights[i].transpose(1, 2, 0)\n",
    "    norm = np.linalg.norm(f, ord=np.inf, axis=(0,1))\n",
    "    eps = 1e-4\n",
    "    normalized_filter = f/2*(norm + eps) + 0.5\n",
    "    plt.subplot(8, 4, i+1)\n",
    "    plt.imshow(normalized_filter)\n",
    "    plt.axis('off')\n",
    "    plt.savefig('filter_bn.png')\n",
    "plt.show()"
   ]
  },
  {
   "cell_type": "markdown",
   "id": "865bd31e",
   "metadata": {
    "papermill": {
     "duration": 1.689761,
     "end_time": "2023-04-15T03:06:22.448400",
     "exception": false,
     "start_time": "2023-04-15T03:06:20.758639",
     "status": "completed"
    },
    "tags": []
   },
   "source": [
    "# **Normalizing Filters of Model with Batch Normalization with min max scaling**"
   ]
  },
  {
   "cell_type": "code",
   "execution_count": 17,
   "id": "01e316e6",
   "metadata": {
    "execution": {
     "iopub.execute_input": "2023-04-15T03:06:25.838917Z",
     "iopub.status.busy": "2023-04-15T03:06:25.838390Z",
     "iopub.status.idle": "2023-04-15T03:06:34.260511Z",
     "shell.execute_reply": "2023-04-15T03:06:34.259500Z"
    },
    "papermill": {
     "duration": 10.11684,
     "end_time": "2023-04-15T03:06:34.262712",
     "exception": false,
     "start_time": "2023-04-15T03:06:24.145872",
     "status": "completed"
    },
    "tags": []
   },
   "outputs": [
    {
     "data": {
      "image/png": "[encoded data removed]",
      "text/plain": [
       "<Figure size 2000x1700 with 32 Axes>"
      ]
     },
     "metadata": {},
     "output_type": "display_data"
    }
   ],
   "source": [
    "conv1_bn_weights = model_bn.conv1.weight.data.cpu().numpy()\n",
    "conv1_bn_weights = (conv1_bn_weights - np.min(conv1_bn_weights))/(np.max(conv1_bn_weights) - np.min(conv1_bn_weights))\n",
    "plt.figure(figsize=(20, 17))\n",
    "for i, filter in enumerate(conv1_bn_weights):\n",
    "    plt.subplot(8, 4, i+1)\n",
    "    plt.imshow(conv1_bn_weights[i].transpose(1,2,0))\n",
    "    plt.axis('off')\n",
    "    plt.savefig('filter_bn_min_max_scaling.png')\n",
    "plt.show()"
   ]
  },
  {
   "cell_type": "code",
   "execution_count": 18,
   "id": "abade2cc",
   "metadata": {
    "execution": {
     "iopub.execute_input": "2023-04-15T03:06:37.677842Z",
     "iopub.status.busy": "2023-04-15T03:06:37.676967Z",
     "iopub.status.idle": "2023-04-15T03:06:37.690351Z",
     "shell.execute_reply": "2023-04-15T03:06:37.689344Z"
    },
    "papermill": {
     "duration": 1.719627,
     "end_time": "2023-04-15T03:06:37.692509",
     "exception": false,
     "start_time": "2023-04-15T03:06:35.972882",
     "status": "completed"
    },
    "tags": []
   },
   "outputs": [],
   "source": [
    "class CustomDeepCNNBN(nn.Module):\n",
    "    def __init__(self):\n",
    "        super(CustomDeepCNNBN, self).__init__()\n",
    "        self.conv1 = nn.Conv2d(3, 32, kernel_size=3)\n",
    "        self.bn1 = nn.BatchNorm2d(32)\n",
    "        self.act = nn.Mish()\n",
    "        self.maxpool = nn.MaxPool2d(2,2)\n",
    "        self.conv2 = nn.Conv2d(32, 64, kernel_size=3)\n",
    "        self.bn2 = nn.BatchNorm2d(64)\n",
    "        self.conv3 = nn.Conv2d(64, 64, kernel_size=3)\n",
    "        self.bn3 = nn.BatchNorm2d(64)\n",
    "        self.conv4 = nn.Conv2d(64,128, kernel_size=3)\n",
    "        self.bn4 = nn.BatchNorm2d(128)\n",
    "        self.conv5 = nn.Conv2d(128,128, kernel_size=3)\n",
    "        self.bn5 = nn.BatchNorm2d(128)\n",
    "        self.avgpool = nn.AdaptiveAvgPool2d(1)\n",
    "        self.fc = nn.Linear(128,10)\n",
    "        self.apply(self._init_weights)\n",
    "        \n",
    "    def _init_weights(self,m):\n",
    "        if isinstance(m, (nn.Conv2d, nn.Linear)):\n",
    "            torch.nn.init.kaiming_uniform_(m.weight)\n",
    "            torch.nn.init.constant_(m.bias, 0)\n",
    "        elif isinstance(m, nn.BatchNorm2d):\n",
    "            torch.nn.init.constant_(m.weight,1)\n",
    "            torch.nn.init.constant_(m.bias,0)\n",
    "            \n",
    "    def forward(self,x):\n",
    "        x = self.conv1(x)\n",
    "        x = self.bn1(x)\n",
    "        x = self.act(x)\n",
    "        x = self.maxpool(x)\n",
    "        \n",
    "        x = self.conv2(x)\n",
    "        x = self.bn2(x)\n",
    "        x = self.act(x)\n",
    "        \n",
    "        x = self.conv3(x)\n",
    "        x = self.bn3(x)\n",
    "        x = self.act(x)\n",
    "        \n",
    "        x = self.conv4(x)\n",
    "        x = self.bn4(x)\n",
    "        x = self.act(x)\n",
    "        \n",
    "        x = self.conv5(x)\n",
    "        x = self.bn5(x)\n",
    "        x = self.act(x)\n",
    "        \n",
    "        x = self.avgpool(x)\n",
    "        x = x.view(x.size(0), -1)\n",
    "        return self.fc(x)"
   ]
  },
  {
   "cell_type": "code",
   "execution_count": 19,
   "id": "74030514",
   "metadata": {
    "execution": {
     "iopub.execute_input": "2023-04-15T03:06:41.220550Z",
     "iopub.status.busy": "2023-04-15T03:06:41.220045Z",
     "iopub.status.idle": "2023-04-15T03:10:01.455116Z",
     "shell.execute_reply": "2023-04-15T03:10:01.454004Z"
    },
    "papermill": {
     "duration": 201.926592,
     "end_time": "2023-04-15T03:10:01.458020",
     "exception": false,
     "start_time": "2023-04-15T03:06:39.531428",
     "status": "completed"
    },
    "tags": []
   },
   "outputs": [
    {
     "name": "stderr",
     "output_type": "stream",
     "text": [
      "Train: Epoch 1: 100%|██████████| 196/196 [00:14<00:00, 13.22it/s, loss=1.15]\n"
     ]
    },
    {
     "name": "stdout",
     "output_type": "stream",
     "text": [
      "Epoch 1 - Loss: 1.2933356746727107\n",
      "Epoch 1 - Acc: 0.5358538031578064\n"
     ]
    },
    {
     "name": "stderr",
     "output_type": "stream",
     "text": [
      "Test: Epoch 1: 100%|██████████| 157/157 [00:02<00:00, 63.74it/s]\n"
     ]
    },
    {
     "name": "stdout",
     "output_type": "stream",
     "text": [
      "Test Accuracy: 0.5956408977508545\n"
     ]
    },
    {
     "name": "stderr",
     "output_type": "stream",
     "text": [
      "Train: Epoch 2: 100%|██████████| 196/196 [00:15<00:00, 12.57it/s, loss=0.859]\n"
     ]
    },
    {
     "name": "stdout",
     "output_type": "stream",
     "text": [
      "Epoch 2 - Loss: 0.9658974786194003\n",
      "Epoch 2 - Acc: 0.6597974896430969\n"
     ]
    },
    {
     "name": "stderr",
     "output_type": "stream",
     "text": [
      "Test: Epoch 2: 100%|██████████| 157/157 [00:02<00:00, 53.79it/s]\n"
     ]
    },
    {
     "name": "stdout",
     "output_type": "stream",
     "text": [
      "Test Accuracy: 0.6589370965957642\n"
     ]
    },
    {
     "name": "stderr",
     "output_type": "stream",
     "text": [
      "Train: Epoch 3: 100%|██████████| 196/196 [00:14<00:00, 13.22it/s, loss=0.64]\n"
     ]
    },
    {
     "name": "stdout",
     "output_type": "stream",
     "text": [
      "Epoch 3 - Loss: 0.8273643632324374\n",
      "Epoch 3 - Acc: 0.7116628885269165\n"
     ]
    },
    {
     "name": "stderr",
     "output_type": "stream",
     "text": [
      "Test: Epoch 3: 100%|██████████| 157/157 [00:02<00:00, 58.71it/s]\n"
     ]
    },
    {
     "name": "stdout",
     "output_type": "stream",
     "text": [
      "Test Accuracy: 0.7128781676292419\n"
     ]
    },
    {
     "name": "stderr",
     "output_type": "stream",
     "text": [
      "Train: Epoch 4: 100%|██████████| 196/196 [00:16<00:00, 11.85it/s, loss=0.514]\n"
     ]
    },
    {
     "name": "stdout",
     "output_type": "stream",
     "text": [
      "Epoch 4 - Loss: 0.7340664167185219\n",
      "Epoch 4 - Acc: 0.7450693845748901\n"
     ]
    },
    {
     "name": "stderr",
     "output_type": "stream",
     "text": [
      "Test: Epoch 4: 100%|██████████| 157/157 [00:02<00:00, 64.42it/s]\n"
     ]
    },
    {
     "name": "stdout",
     "output_type": "stream",
     "text": [
      "Test Accuracy: 0.741042971611023\n"
     ]
    },
    {
     "name": "stderr",
     "output_type": "stream",
     "text": [
      "Train: Epoch 5: 100%|██████████| 196/196 [00:15<00:00, 12.69it/s, loss=0.439]\n"
     ]
    },
    {
     "name": "stdout",
     "output_type": "stream",
     "text": [
      "Epoch 5 - Loss: 0.6638917369501931\n",
      "Epoch 5 - Acc: 0.7702168226242065\n"
     ]
    },
    {
     "name": "stderr",
     "output_type": "stream",
     "text": [
      "Test: Epoch 5: 100%|██████████| 157/157 [00:02<00:00, 61.71it/s]\n"
     ]
    },
    {
     "name": "stdout",
     "output_type": "stream",
     "text": [
      "Test Accuracy: 0.7541799545288086\n"
     ]
    },
    {
     "name": "stderr",
     "output_type": "stream",
     "text": [
      "Train: Epoch 6: 100%|██████████| 196/196 [00:16<00:00, 11.69it/s, loss=0.378]\n"
     ]
    },
    {
     "name": "stdout",
     "output_type": "stream",
     "text": [
      "Epoch 6 - Loss: 0.6065214930140242\n",
      "Epoch 6 - Acc: 0.791569709777832\n"
     ]
    },
    {
     "name": "stderr",
     "output_type": "stream",
     "text": [
      "Test: Epoch 6: 100%|██████████| 157/157 [00:02<00:00, 60.11it/s]\n"
     ]
    },
    {
     "name": "stdout",
     "output_type": "stream",
     "text": [
      "Test Accuracy: 0.7647293210029602\n"
     ]
    },
    {
     "name": "stderr",
     "output_type": "stream",
     "text": [
      "Train: Epoch 7: 100%|██████████| 196/196 [00:14<00:00, 13.30it/s, loss=0.321]\n"
     ]
    },
    {
     "name": "stdout",
     "output_type": "stream",
     "text": [
      "Epoch 7 - Loss: 0.5578175308753033\n",
      "Epoch 7 - Acc: 0.8086695075035095\n"
     ]
    },
    {
     "name": "stderr",
     "output_type": "stream",
     "text": [
      "Test: Epoch 7: 100%|██████████| 157/157 [00:02<00:00, 62.96it/s]\n"
     ]
    },
    {
     "name": "stdout",
     "output_type": "stream",
     "text": [
      "Test Accuracy: 0.7713972926139832\n"
     ]
    },
    {
     "name": "stderr",
     "output_type": "stream",
     "text": [
      "Train: Epoch 8: 100%|██████████| 196/196 [00:16<00:00, 11.87it/s, loss=0.273]\n"
     ]
    },
    {
     "name": "stdout",
     "output_type": "stream",
     "text": [
      "Epoch 8 - Loss: 0.5151642678039414\n",
      "Epoch 8 - Acc: 0.8227638602256775\n"
     ]
    },
    {
     "name": "stderr",
     "output_type": "stream",
     "text": [
      "Test: Epoch 8: 100%|██████████| 157/157 [00:02<00:00, 63.01it/s]\n"
     ]
    },
    {
     "name": "stdout",
     "output_type": "stream",
     "text": [
      "Test Accuracy: 0.7740843892097473\n"
     ]
    },
    {
     "name": "stderr",
     "output_type": "stream",
     "text": [
      "Train: Epoch 9: 100%|██████████| 196/196 [00:14<00:00, 13.25it/s, loss=0.236]\n"
     ]
    },
    {
     "name": "stdout",
     "output_type": "stream",
     "text": [
      "Epoch 9 - Loss: 0.47652867907772256\n",
      "Epoch 9 - Acc: 0.8364596366882324\n"
     ]
    },
    {
     "name": "stderr",
     "output_type": "stream",
     "text": [
      "Test: Epoch 9: 100%|██████████| 157/157 [00:03<00:00, 51.54it/s]\n"
     ]
    },
    {
     "name": "stdout",
     "output_type": "stream",
     "text": [
      "Test Accuracy: 0.7756767272949219\n"
     ]
    },
    {
     "name": "stderr",
     "output_type": "stream",
     "text": [
      "Train: Epoch 10: 100%|██████████| 196/196 [00:15<00:00, 12.69it/s, loss=0.205]\n"
     ]
    },
    {
     "name": "stdout",
     "output_type": "stream",
     "text": [
      "Epoch 10 - Loss: 0.4405534709898793\n",
      "Epoch 10 - Acc: 0.8508091568946838\n"
     ]
    },
    {
     "name": "stderr",
     "output_type": "stream",
     "text": [
      "Test: Epoch 10: 100%|██████████| 157/157 [00:02<00:00, 61.90it/s]\n"
     ]
    },
    {
     "name": "stdout",
     "output_type": "stream",
     "text": [
      "Test Accuracy: 0.7820461988449097\n"
     ]
    },
    {
     "name": "stderr",
     "output_type": "stream",
     "text": [
      "Train: Epoch 11: 100%|██████████| 196/196 [00:14<00:00, 13.18it/s, loss=0.177]\n"
     ]
    },
    {
     "name": "stdout",
     "output_type": "stream",
     "text": [
      "Epoch 11 - Loss: 0.4064248160135989\n",
      "Epoch 11 - Acc: 0.8629544377326965\n"
     ]
    },
    {
     "name": "stderr",
     "output_type": "stream",
     "text": [
      "Test: Epoch 11: 100%|██████████| 157/157 [00:03<00:00, 44.53it/s]"
     ]
    },
    {
     "name": "stdout",
     "output_type": "stream",
     "text": [
      "Test Accuracy: 0.7857285141944885\n"
     ]
    },
    {
     "name": "stderr",
     "output_type": "stream",
     "text": [
      "\n"
     ]
    }
   ],
   "source": [
    "model_deep = CustomDeepCNNBN()\n",
    "model_deep = model_deep.cuda()\n",
    "optimizer_deep = torch.optim.AdamW(model_deep.parameters(), lr=1e-3)\n",
    "train_acc_hist_deep_bn, train_loss_hist_deep_bn, test_accs_deep = training(model_deep, train_loader, test_loader, 11, optimizer_deep)"
   ]
  },
  {
   "cell_type": "code",
   "execution_count": 20,
   "id": "de587a52",
   "metadata": {
    "execution": {
     "iopub.execute_input": "2023-04-15T03:10:05.107362Z",
     "iopub.status.busy": "2023-04-15T03:10:05.106760Z",
     "iopub.status.idle": "2023-04-15T03:10:05.113197Z",
     "shell.execute_reply": "2023-04-15T03:10:05.111907Z"
    },
    "papermill": {
     "duration": 1.821033,
     "end_time": "2023-04-15T03:10:05.115252",
     "exception": false,
     "start_time": "2023-04-15T03:10:03.294219",
     "status": "completed"
    },
    "tags": []
   },
   "outputs": [
    {
     "name": "stdout",
     "output_type": "stream",
     "text": [
      "Test Accuracy of the deeper model on the CIFAR-10 Test set: 78.5728530883789%\n"
     ]
    }
   ],
   "source": [
    "#test_acc_deep = predict(model_deep, test_loader)\n",
    "print(f'Test Accuracy of the deeper model on the CIFAR-10 Test set: {max(test_accs_deep)*100}%')"
   ]
  },
  {
   "cell_type": "code",
   "execution_count": 21,
   "id": "a5369798",
   "metadata": {
    "execution": {
     "iopub.execute_input": "2023-04-15T03:10:08.833683Z",
     "iopub.status.busy": "2023-04-15T03:10:08.833292Z",
     "iopub.status.idle": "2023-04-15T03:10:09.051807Z",
     "shell.execute_reply": "2023-04-15T03:10:09.050859Z"
    },
    "papermill": {
     "duration": 2.130221,
     "end_time": "2023-04-15T03:10:09.054057",
     "exception": false,
     "start_time": "2023-04-15T03:10:06.923836",
     "status": "completed"
    },
    "tags": []
   },
   "outputs": [
    {
     "data": {
      "image/png": "[encoded data removed]",
      "text/plain": [
       "<Figure size 640x480 with 1 Axes>"
      ]
     },
     "metadata": {},
     "output_type": "display_data"
    }
   ],
   "source": [
    "epochs_small_list = [i for i in range(11)]\n",
    "plt.title('Accuracy Plot vs Epochs for Deeper Model')\n",
    "plt.plot(epochs_small_list, train_acc_hist_deep_bn, 'b', label='Train Accuracy of Deeper Model')\n",
    "plt.plot(epochs_small_list, test_accs_deep, 'r', label='Test Accuracy of Deeper Model')\n",
    "plt.xlabel('Epochs')\n",
    "plt.ylabel('Accuracy')\n",
    "plt.legend()\n",
    "plt.show()"
   ]
  },
  {
   "cell_type": "code",
   "execution_count": 22,
   "id": "e649a309",
   "metadata": {
    "execution": {
     "iopub.execute_input": "2023-04-15T03:10:12.664451Z",
     "iopub.status.busy": "2023-04-15T03:10:12.664081Z",
     "iopub.status.idle": "2023-04-15T03:10:21.114455Z",
     "shell.execute_reply": "2023-04-15T03:10:21.113508Z"
    },
    "papermill": {
     "duration": 10.322791,
     "end_time": "2023-04-15T03:10:21.116748",
     "exception": false,
     "start_time": "2023-04-15T03:10:10.793957",
     "status": "completed"
    },
    "tags": []
   },
   "outputs": [
    {
     "data": {
      "image/png": "[encoded data removed]",
      "text/plain": [
       "<Figure size 2000x1700 with 32 Axes>"
      ]
     },
     "metadata": {},
     "output_type": "display_data"
    }
   ],
   "source": [
    "conv1_deep_weights = model_deep.conv1.weight.data.cpu().numpy()\n",
    "plt.figure(figsize=(20, 17))\n",
    "for i, filter in enumerate(conv1_deep_weights):\n",
    "    f = conv1_deep_weights[i].transpose(1, 2, 0)\n",
    "    norm = np.linalg.norm(f, ord=np.inf, axis=(0,1))\n",
    "    eps = 1e-4\n",
    "    normalized_filter = f/2*(norm + eps) + 0.5\n",
    "    plt.subplot(8, 4, i+1)\n",
    "    plt.imshow(normalized_filter)\n",
    "    plt.axis('off')\n",
    "    plt.savefig('filters_deep_model.png')\n",
    "plt.show()"
   ]
  }
 ],
 "metadata": {
  "kernelspec": {
   "display_name": "Python 3",
   "language": "python",
   "name": "python3"
  },
  "language_info": {
   "codemirror_mode": {
    "name": "ipython",
    "version": 3
   },
   "file_extension": ".py",
   "mimetype": "text/x-python",
   "name": "python",
   "nbconvert_exporter": "python",
   "pygments_lexer": "ipython3",
   "version": "3.7.12"
  },
  "papermill": {
   "default_parameters": {},
   "duration": 2864.758793,
   "end_time": "2023-04-15T03:10:24.563316",
   "environment_variables": {},
   "exception": null,
   "input_path": "__notebook__.ipynb",
   "output_path": "__notebook__.ipynb",
   "parameters": {},
   "start_time": "2023-04-15T02:22:39.804523",
   "version": "2.4.0"
  },
  "widgets": {
   "application/vnd.jupyter.widget-state+json": {
    "state": {
     "0edcbc806ec84ff0938725e87c16af05": {
      "model_module": "@jupyter-widgets/controls",
      "model_module_version": "1.5.0",
      "model_name": "HBoxModel",
      "state": {
       "_dom_classes": [],
       "_model_module": "@jupyter-widgets/controls",
       "_model_module_version": "1.5.0",
       "_model_name": "HBoxModel",
       "_view_count": null,
       "_view_module": "@jupyter-widgets/controls",
       "_view_module_version": "1.5.0",
       "_view_name": "HBoxView",
       "box_style": "",
       "children": [
        "IPY_MODEL_977d29a0bc3d47fabc2abcfb39b0b6ae",
        "IPY_MODEL_2b98b5169c324ebc9740886716b45278",
        "IPY_MODEL_bd7683d6dcaa47dca44ca97173c25b42"
       ],
       "layout": "IPY_MODEL_749389886a8842ccb668966bb441b858"
      }
     },
     "2576293b05ad47e683757b9542de7c9c": {
      "model_module": "@jupyter-widgets/controls",
      "model_module_version": "1.5.0",
      "model_name": "DescriptionStyleModel",
      "state": {
       "_model_module": "@jupyter-widgets/controls",
       "_model_module_version": "1.5.0",
       "_model_name": "DescriptionStyleModel",
       "_view_count": null,
       "_view_module": "@jupyter-widgets/base",
       "_view_module_version": "1.2.0",
       "_view_name": "StyleView",
       "description_width": ""
      }
     },
     "2b98b5169c324ebc9740886716b45278": {
      "model_module": "@jupyter-widgets/controls",
      "model_module_version": "1.5.0",
      "model_name": "FloatProgressModel",
      "state": {
       "_dom_classes": [],
       "_model_module": "@jupyter-widgets/controls",
       "_model_module_version": "1.5.0",
       "_model_name": "FloatProgressModel",
       "_view_count": null,
       "_view_module": "@jupyter-widgets/controls",
       "_view_module_version": "1.5.0",
       "_view_name": "ProgressView",
       "bar_style": "success",
       "description": "",
       "description_tooltip": null,
       "layout": "IPY_MODEL_a3542adbf8a84ea4bb95af78bf1fb3fb",
       "max": 170498071.0,
       "min": 0.0,
       "orientation": "horizontal",
       "style": "IPY_MODEL_a678ea9b866a4ef1b7f99fe453675d74",
       "value": 170498071.0
      }
     },
     "67a16714a600464d952ec56e8506256c": {
      "model_module": "@jupyter-widgets/base",
      "model_module_version": "1.2.0",
      "model_name": "LayoutModel",
      "state": {
       "_model_module": "@jupyter-widgets/base",
       "_model_module_version": "1.2.0",
       "_model_name": "LayoutModel",
       "_view_count": null,
       "_view_module": "@jupyter-widgets/base",
       "_view_module_version": "1.2.0",
       "_view_name": "LayoutView",
       "align_content": null,
       "align_items": null,
       "align_self": null,
       "border": null,
       "bottom": null,
       "display": null,
       "flex": null,
       "flex_flow": null,
       "grid_area": null,
       "grid_auto_columns": null,
       "grid_auto_flow": null,
       "grid_auto_rows": null,
       "grid_column": null,
       "grid_gap": null,
       "grid_row": null,
       "grid_template_areas": null,
       "grid_template_columns": null,
       "grid_template_rows": null,
       "height": null,
       "justify_content": null,
       "justify_items": null,
       "left": null,
       "margin": null,
       "max_height": null,
       "max_width": null,
       "min_height": null,
       "min_width": null,
       "object_fit": null,
       "object_position": null,
       "order": null,
       "overflow": null,
       "overflow_x": null,
       "overflow_y": null,
       "padding": null,
       "right": null,
       "top": null,
       "visibility": null,
       "width": null
      }
     },
     "749389886a8842ccb668966bb441b858": {
      "model_module": "@jupyter-widgets/base",
      "model_module_version": "1.2.0",
      "model_name": "LayoutModel",
      "state": {
       "_model_module": "@jupyter-widgets/base",
       "_model_module_version": "1.2.0",
       "_model_name": "LayoutModel",
       "_view_count": null,
       "_view_module": "@jupyter-widgets/base",
       "_view_module_version": "1.2.0",
       "_view_name": "LayoutView",
       "align_content": null,
       "align_items": null,
       "align_self": null,
       "border": null,
       "bottom": null,
       "display": null,
       "flex": null,
       "flex_flow": null,
       "grid_area": null,
       "grid_auto_columns": null,
       "grid_auto_flow": null,
       "grid_auto_rows": null,
       "grid_column": null,
       "grid_gap": null,
       "grid_row": null,
       "grid_template_areas": null,
       "grid_template_columns": null,
       "grid_template_rows": null,
       "height": null,
       "justify_content": null,
       "justify_items": null,
       "left": null,
       "margin": null,
       "max_height": null,
       "max_width": null,
       "min_height": null,
       "min_width": null,
       "object_fit": null,
       "object_position": null,
       "order": null,
       "overflow": null,
       "overflow_x": null,
       "overflow_y": null,
       "padding": null,
       "right": null,
       "top": null,
       "visibility": null,
       "width": null
      }
     },
     "83bc5132250e44a9a394ad7baf6b1cd3": {
      "model_module": "@jupyter-widgets/base",
      "model_module_version": "1.2.0",
      "model_name": "LayoutModel",
      "state": {
       "_model_module": "@jupyter-widgets/base",
       "_model_module_version": "1.2.0",
       "_model_name": "LayoutModel",
       "_view_count": null,
       "_view_module": "@jupyter-widgets/base",
       "_view_module_version": "1.2.0",
       "_view_name": "LayoutView",
       "align_content": null,
       "align_items": null,
       "align_self": null,
       "border": null,
       "bottom": null,
       "display": null,
       "flex": null,
       "flex_flow": null,
       "grid_area": null,
       "grid_auto_columns": null,
       "grid_auto_flow": null,
       "grid_auto_rows": null,
       "grid_column": null,
       "grid_gap": null,
       "grid_row": null,
       "grid_template_areas": null,
       "grid_template_columns": null,
       "grid_template_rows": null,
       "height": null,
       "justify_content": null,
       "justify_items": null,
       "left": null,
       "margin": null,
       "max_height": null,
       "max_width": null,
       "min_height": null,
       "min_width": null,
       "object_fit": null,
       "object_position": null,
       "order": null,
       "overflow": null,
       "overflow_x": null,
       "overflow_y": null,
       "padding": null,
       "right": null,
       "top": null,
       "visibility": null,
       "width": null
      }
     },
     "977d29a0bc3d47fabc2abcfb39b0b6ae": {
      "model_module": "@jupyter-widgets/controls",
      "model_module_version": "1.5.0",
      "model_name": "HTMLModel",
      "state": {
       "_dom_classes": [],
       "_model_module": "@jupyter-widgets/controls",
       "_model_module_version": "1.5.0",
       "_model_name": "HTMLModel",
       "_view_count": null,
       "_view_module": "@jupyter-widgets/controls",
       "_view_module_version": "1.5.0",
       "_view_name": "HTMLView",
       "description": "",
       "description_tooltip": null,
       "layout": "IPY_MODEL_83bc5132250e44a9a394ad7baf6b1cd3",
       "placeholder": "​",
       "style": "IPY_MODEL_2576293b05ad47e683757b9542de7c9c",
       "value": "100%"
      }
     },
     "a3542adbf8a84ea4bb95af78bf1fb3fb": {
      "model_module": "@jupyter-widgets/base",
      "model_module_version": "1.2.0",
      "model_name": "LayoutModel",
      "state": {
       "_model_module": "@jupyter-widgets/base",
       "_model_module_version": "1.2.0",
       "_model_name": "LayoutModel",
       "_view_count": null,
       "_view_module": "@jupyter-widgets/base",
       "_view_module_version": "1.2.0",
       "_view_name": "LayoutView",
       "align_content": null,
       "align_items": null,
       "align_self": null,
       "border": null,
       "bottom": null,
       "display": null,
       "flex": null,
       "flex_flow": null,
       "grid_area": null,
       "grid_auto_columns": null,
       "grid_auto_flow": null,
       "grid_auto_rows": null,
       "grid_column": null,
       "grid_gap": null,
       "grid_row": null,
       "grid_template_areas": null,
       "grid_template_columns": null,
       "grid_template_rows": null,
       "height": null,
       "justify_content": null,
       "justify_items": null,
       "left": null,
       "margin": null,
       "max_height": null,
       "max_width": null,
       "min_height": null,
       "min_width": null,
       "object_fit": null,
       "object_position": null,
       "order": null,
       "overflow": null,
       "overflow_x": null,
       "overflow_y": null,
       "padding": null,
       "right": null,
       "top": null,
       "visibility": null,
       "width": null
      }
     },
     "a678ea9b866a4ef1b7f99fe453675d74": {
      "model_module": "@jupyter-widgets/controls",
      "model_module_version": "1.5.0",
      "model_name": "ProgressStyleModel",
      "state": {
       "_model_module": "@jupyter-widgets/controls",
       "_model_module_version": "1.5.0",
       "_model_name": "ProgressStyleModel",
       "_view_count": null,
       "_view_module": "@jupyter-widgets/base",
       "_view_module_version": "1.2.0",
       "_view_name": "StyleView",
       "bar_color": null,
       "description_width": ""
      }
     },
     "bd7683d6dcaa47dca44ca97173c25b42": {
      "model_module": "@jupyter-widgets/controls",
      "model_module_version": "1.5.0",
      "model_name": "HTMLModel",
      "state": {
       "_dom_classes": [],
       "_model_module": "@jupyter-widgets/controls",
       "_model_module_version": "1.5.0",
       "_model_name": "HTMLModel",
       "_view_count": null,
       "_view_module": "@jupyter-widgets/controls",
       "_view_module_version": "1.5.0",
       "_view_name": "HTMLView",
       "description": "",
       "description_tooltip": null,
       "layout": "IPY_MODEL_67a16714a600464d952ec56e8506256c",
       "placeholder": "​",
       "style": "IPY_MODEL_f45e9ebffe3c4fee90dff1bbfba27d14",
       "value": " 170498071/170498071 [00:05&lt;00:00, 29841365.24it/s]"
      }
     },
     "f45e9ebffe3c4fee90dff1bbfba27d14": {
      "model_module": "@jupyter-widgets/controls",
      "model_module_version": "1.5.0",
      "model_name": "DescriptionStyleModel",
      "state": {
       "_model_module": "@jupyter-widgets/controls",
       "_model_module_version": "1.5.0",
       "_model_name": "DescriptionStyleModel",
       "_view_count": null,
       "_view_module": "@jupyter-widgets/base",
       "_view_module_version": "1.2.0",
       "_view_name": "StyleView",
       "description_width": ""
      }
     }
    },
    "version_major": 2,
    "version_minor": 0
   }
  }
 },
 "nbformat": 4,
 "nbformat_minor": 5
}
