{
  "cells": [
    {
      "cell_type": "code",
      "execution_count": 2,
      "metadata": {
        "id": "5Y_gcL2Tq485"
      },
      "outputs": [],
      "source": [
        "!pip install openai\n",
        "import re\n",
        "import openai\n",
        "key = input(\"Enter API Key: \")\n",
        "openai.api_key = key"
      ]
    },
    {
      "cell_type": "code",
      "execution_count": 46,
      "metadata": {
        "colab": {
          "base_uri": "https://localhost:8080/"
        },
        "id": "N0QMPFACq487",
        "outputId": "56de869b-e9c4-4a9e-9e54-5c707d657fd3"
      },
      "outputs": [
        {
          "name": "stdout",
          "output_type": "stream",
          "text": [
            "Enter your query: Who was Chandragupta Maurya ?\n"
          ]
        }
      ],
      "source": [
        "query = input(\"Enter your query: \")\n",
        "response = openai.ChatCompletion.create(\n",
        "            model='gpt-3.5-turbo',\n",
        "            messages=[\n",
        "                {\"role\": \"system\", \"content\": \"You are a helpful assistant.\"},\n",
        "                {\"role\": \"user\", \"content\": query},\n",
        "            ],\n",
        "            temperature=0.5,\n",
        "            max_tokens=60\n",
        "        )"
      ]
    },
    {
      "cell_type": "code",
      "execution_count": 47,
      "metadata": {
        "colab": {
          "base_uri": "https://localhost:8080/",
          "height": 52
        },
        "id": "KNkr5Xr3q488",
        "outputId": "0afdd3c0-d714-4fe9-ba1d-c13977b0724a"
      },
      "outputs": [
        {
          "output_type": "execute_result",
          "data": {
            "text/plain": [
              "'Chandragupta Maurya was an Indian emperor who founded the Maurya Empire in ancient India. He was born in 340 BCE in the Magadha region of present-day Bihar, India. He was the first emperor to unify most of the Indian subcontinent under one rule.'"
            ],
            "application/vnd.google.colaboratory.intrinsic+json": {
              "type": "string"
            }
          },
          "metadata": {},
          "execution_count": 47
        }
      ],
      "source": [
        "#response = response[\"choices\"][0][\"text\"]\n",
        "response = response[\"choices\"][0][\"message\"][\"content\"]\n",
        "response = re.sub(r'\\n', '', response)\n",
        "response"
      ]
    },
    {
      "cell_type": "markdown",
      "metadata": {
        "id": "B8v-oEQTq489"
      },
      "source": [
        "## 1. Model working for query and response"
      ]
    },
    {
      "cell_type": "code",
      "execution_count": 38,
      "metadata": {
        "id": "0Rd-6HmDq48-"
      },
      "outputs": [],
      "source": [
        "def query_model(model=\"text-davinci-003\", query=\"What is your name?\", temperature=0.7):\n",
        "    if \"gpt-3\" not in model:\n",
        "        response = openai.Completion.create(\n",
        "            engine=model,\n",
        "            prompt=query,\n",
        "            temperature=temperature,\n",
        "            max_tokens=100\n",
        "        )\n",
        "        response = response[\"choices\"][0][\"text\"]\n",
        "    else:\n",
        "        response = openai.ChatCompletion.create(\n",
        "            model=model,\n",
        "            messages=[\n",
        "                {\"role\": \"system\", \"content\": \"You are a helpful assistant.\"},\n",
        "                {\"role\": \"user\", \"content\": query},\n",
        "            ],\n",
        "            temperature=temperature,\n",
        "            max_tokens=100\n",
        "        )\n",
        "        response = response[\"choices\"][0][\"message\"][\"content\"]\n",
        "\n",
        "    response = re.sub(r'\\n', '', response)\n",
        "    return response\n",
        "\n",
        "def run_experiments(models, prompts, temperature=0.5):\n",
        "    responses = {}\n",
        "    for model in models:\n",
        "        responses[model] = {}\n",
        "        for prompt in prompts:\n",
        "            response = query_model(model=model, query=prompt, temperature=temperature)\n",
        "            responses[model][prompt] = response\n",
        "    return responses"
      ]
    },
    {
      "cell_type": "code",
      "execution_count": 39,
      "metadata": {
        "colab": {
          "base_uri": "https://localhost:8080/",
          "height": 35
        },
        "id": "4yZGn4Hcq48_",
        "outputId": "50a39900-9561-4d74-e571-418ca6f4ec0d"
      },
      "outputs": [
        {
          "output_type": "execute_result",
          "data": {
            "text/plain": [
              "'My name is John.'"
            ],
            "application/vnd.google.colaboratory.intrinsic+json": {
              "type": "string"
            }
          },
          "metadata": {},
          "execution_count": 39
        }
      ],
      "source": [
        "query_model()"
      ]
    },
    {
      "cell_type": "markdown",
      "metadata": {
        "id": "RcQLIJN9q48_"
      },
      "source": [
        "# Experiment 1"
      ]
    },
    {
      "cell_type": "code",
      "execution_count": 40,
      "metadata": {
        "id": "2GU6S680q48_"
      },
      "outputs": [],
      "source": [
        "models = [\n",
        "    \"text-davinci-003\",\n",
        "    \"text-davinci-002\",\n",
        "    \"text-babbage-001\",\n",
        "    \"text-curie-001\",\n",
        "]"
      ]
    },
    {
      "cell_type": "code",
      "execution_count": 41,
      "metadata": {
        "id": "A5UwWorfq49A"
      },
      "outputs": [],
      "source": [
        "experiment1_prompts = [\n",
        "    \"What are you capable of ?\",\n",
        "    \"What is 77 divided by 26?\",\n",
        "    \"Write a 'Hello World' statement in Python, Javascript, and C++\",\n",
        "    \"Reverse a linked list in Python\",\n",
        "]"
      ]
    },
    {
      "cell_type": "code",
      "execution_count": 42,
      "metadata": {
        "colab": {
          "base_uri": "https://localhost:8080/"
        },
        "id": "yEonttRkq49A",
        "outputId": "f12980fc-86a3-4dc5-8d7d-626f2658626a"
      },
      "outputs": [
        {
          "output_type": "execute_result",
          "data": {
            "text/plain": [
              "{'text-davinci-003': {'What are you capable of ?': 'I am capable of a lot of things. I am capable of learning new skills and knowledge, problem-solving, working hard, being creative, collaborating with others, adapting to change, and achieving goals.',\n",
              "  'What is 77 divided by 26?': '2.9615384615',\n",
              "  \"Write a 'Hello World' statement in Python, Javascript, and C++\": 'Python:print(\"Hello World\")Javascript:console.log(\"Hello World\")C++:std::cout << \"Hello World\" << std::endl;',\n",
              "  'Reverse a linked list in Python': 'def reverse_linked_list(head):  prev = None  current = head  while current is not None:    next = current.next    current.next = prev    prev = current    current = next  head = prev  return head'},\n",
              " 'text-davinci-002': {'What are you capable of ?': 'I am capable of great things.',\n",
              "  'What is 77 divided by 26?': '2.96',\n",
              "  \"Write a 'Hello World' statement in Python, Javascript, and C++\": 'Python: print(\"Hello, World!\")Javascript: console.log(\"Hello, World!\");C++: std::cout << \"Hello, World!\" << std::endl;',\n",
              "  'Reverse a linked list in Python': 'def reverse(head):     if head is None:         return None    prev = None    curr = head     while curr:         next = curr.next        curr.next = prev         prev = curr         curr = next    return prev'},\n",
              " 'text-babbage-001': {'What are you capable of ?': 'I am capable of doing many things. I can read, write, and do math.',\n",
              "  'What is 77 divided by 26?': '77 divided by 26 = .6666666666667',\n",
              "  \"Write a 'Hello World' statement in Python, Javascript, and C++\": 'console.log(\"Hello World!\");',\n",
              "  'Reverse a linked list in Python': 'def reverse_a_linked_list(self, list):for item in list:if item is not None:return itemelif item is None:return []else:return list'},\n",
              " 'text-curie-001': {'What are you capable of ?': 'What are you capable of? This is a question that is asked to someone in order to find out what they are capable of.',\n",
              "  'What is 77 divided by 26?': '77 divided by 26 is 3.14',\n",
              "  \"Write a 'Hello World' statement in Python, Javascript, and C++\": 'In Python:print(\"Hello, World!\")In Javascript:console.log(\"Hello, World!\");In C++:std::cout << \"Hello, World!\";',\n",
              "  'Reverse a linked list in Python': 'To reverse a linked list in Python, use the list.reverse() function. This function takes a linked list as input and returns a new linked list that is in reverse order.'}}"
            ]
          },
          "metadata": {},
          "execution_count": 42
        }
      ],
      "source": [
        "responses = run_experiments(models, experiment1_prompts)\n",
        "responses"
      ]
    },
    {
      "cell_type": "code",
      "execution_count": 16,
      "metadata": {
        "colab": {
          "base_uri": "https://localhost:8080/"
        },
        "id": "aJvD7vWOq49B",
        "outputId": "e4f3ddbe-2ccf-4f7d-a8df-9e028b39c782"
      },
      "outputs": [
        {
          "output_type": "execute_result",
          "data": {
            "text/plain": [
              "{'text-davinci-003': {'What is 77 divided by 26?': '2.9615384615',\n",
              "  \"Write a 'Hello World' statement in Python, Javascript, and C++\": 'Python: print(\"Hello World\")Javascript: console.log(\"Hello World\")C++: std::cout << \"Hello World\" << std::endl;',\n",
              "  'Write a function in Python that takes in a list of numbers and returns the sum of the list': 'def sum_list(lst):  sum = 0  for num in lst:    sum += num  return sumprint(sum_list([1,2,3,4,5])) # 15'},\n",
              " 'text-davinci-002': {'What is 77 divided by 26?': '2.96',\n",
              "  \"Write a 'Hello World' statement in Python, Javascript, and C++\": 'Python: print(\"Hello, World!\")Javascript: console.log(\"Hello, World!\");C++: std::cout << \"Hello, World!\" << std::endl;',\n",
              "  'Write a function in Python that takes in a list of numbers and returns the sum of the list': 'def sum_list(lst):total = 0for num in lst:total = total + numreturn total'},\n",
              " 'gpt-3.5-turbo': {'What is 77 divided by 26?': '77 divided by 26 is approximately 2.96 when rounded to two decimal places.',\n",
              "  \"Write a 'Hello World' statement in Python, Javascript, and C++\": 'Python: ```print(\"Hello World\")```Javascript: ```console.log(\"Hello World\");```C++: ```#include <iostream>using namespace std;int main() {    cout << \"Hello World\" << endl;    return 0;}```',\n",
              "  'Write a function in Python that takes in a list of numbers and returns the sum of the list': \"Certainly! Here's an example function that does just that:```pythondef sum_list(numbers):    total = 0    for num in numbers:        total += num    return total```To use this function, you would pass in a list of numbers as an argument. For example:```pythonmy_list = [1, 2, 3, 4, 5]result = sum_list(my_list)print(result)  # Output: 15\"}}"
            ]
          },
          "metadata": {},
          "execution_count": 16
        }
      ],
      "source": [
        "responses"
      ]
    },
    {
      "cell_type": "markdown",
      "source": [
        "#Debate"
      ],
      "metadata": {
        "id": "lLJVIUjOMvgz"
      }
    },
    {
      "cell_type": "code",
      "source": [
        "def debate(models, topic, num_arguments=3):\n",
        "    responses = {}\n",
        "    for model in models:\n",
        "        responses[model] = {\"pros\": [], \"cons\": []}\n",
        "        for i in range(num_arguments):\n",
        "            pro_argument = query_model(model=model, query=f\"Give me a pro argument for {topic}.\")\n",
        "            con_argument = query_model(model=model, query=f\"Give me a con argument for {topic}.\")\n",
        "            responses[model][\"pros\"].append(pro_argument)\n",
        "            responses[model][\"cons\"].append(con_argument)\n",
        "    return responses\n",
        "\n",
        "topic = \"canards on a stealth fighter\"\n",
        "debate_results = debate(models, topic)\n",
        "debate_results"
      ],
      "metadata": {
        "colab": {
          "base_uri": "https://localhost:8080/"
        },
        "id": "3Lu6ymkdranY",
        "outputId": "aab9dd68-b02c-4aee-ba49-addb470917cd"
      },
      "execution_count": 44,
      "outputs": [
        {
          "output_type": "execute_result",
          "data": {
            "text/plain": [
              "{'text-davinci-003': {'pros': ['-Canards provide additional lift, allowing the stealth fighter to reach higher altitudes and faster speeds than would be possible with a conventional tail design. This increased performance can be extremely beneficial in high-speed engagements and evasive maneuvers.-Canards also provide improved control during high-speed maneuvers, allowing the pilot to better maneuver the aircraft in tight spaces. In addition, the canards can be used to increase the roll rate, allowing the pilot to rapidly change direction in a dog',\n",
              "   'A pro argument for canards on a stealth fighter is that they can help reduce the radar cross-section (RCS) of the aircraft. The canards act as additional deflectors, deflecting radar waves away from the main fuselage and thus reducing the RCS. Additionally, canards help reduce the overall weight of the aircraft, making it more maneuverable and agile, allowing for greater performance in dogfights.',\n",
              "   \"A pro argument for canards on a stealth fighter is that they provide additional lift and thrust and help the aircraft to maneuver more quickly and accurately. Canards also help to reduce drag and make the aircraft more aerodynamic, which in turn helps to improve its stealth capabilities. Additionally, canards can provide additional control authority, allowing the pilot to respond more quickly to changing conditions and maneuver in tighter spaces. Finally, canards can also help to improve the aircraft's stability and reduce the amount of\"],\n",
              "  'cons': [\"A con argument for canards on a stealth fighter is that they reduce the aircraft's overall stealth capability. Canards create additional radar cross-section (RCS) signatures which can be detected by enemy radar systems. They also increase the aircraft's overall drag and reduce its performance, making it less agile and less able to outmaneuver enemy aircraft. Furthermore, canards can be damaged or destroyed in air combat, further reducing the aircraft's performance.\",\n",
              "   'A con argument for canards on a stealth fighter is that they will reduce the aircraft’s stealth capabilities. Canards are small wings that stick out from the front of the aircraft, and can create additional radar reflections that can make the aircraft more detectable to enemy radar. Additionally, the increased drag from the canards can reduce the aircraft’s speed and maneuverability, which could make it more vulnerable in a dogfight.',\n",
              "   \"A canard configuration on a stealth fighter would reduce its stealth capabilities. The canards would create additional surfaces that could reflect radar signals, making it easier to detect the aircraft. Additionally, the canards would create additional drag, decreasing the aircraft's maneuverability and performance. Finally, the canards would add weight to the aircraft, reducing its payload capacity.\"]},\n",
              " 'text-davinci-002': {'pros': ['One pro argument for canards on a stealth fighter is that they can increase the maneuverability of the aircraft. Additionally, canards can provide lift at lower speeds, which can be beneficial during take-off and landing. Additionally, canards can help to increase the stability of the aircraft.',\n",
              "   \"The main advantage of canards on a stealth fighter is that they improve the aircraft's aerodynamic performance. This is because canards create a lifting force that helps to offset the weight of the aircraft, making it more agile and responsive. In addition, canards also help to reduce the radar signature of the aircraft by deflecting radar waves away from the main body of the plane.\",\n",
              "   'Canards help to reduce the radar signature of a stealth fighter by deflecting radar waves away from the main body of the aircraft. Additionally, canards can improve the maneuverability of a stealth fighter by providing additional lift and stability.'],\n",
              "  'cons': [\"Some people argue that canards negatively impact a stealth fighter's ability to evade radar detection. They believe that the canards deflect radar waves away from the main body of the aircraft, making it more difficult for radar operators to track the aircraft.\",\n",
              "   'One argument against canards on a stealth fighter is that they can create a radar signature that can give away the position of the aircraft. Additionally, canards can create turbulence that can make the aircraft less stable and more difficult to control.',\n",
              "   'One con argument for canards on a stealth fighter is that they can create a lot of drag. This can reduce the speed and agility of the fighter, making it more difficult to evade enemy fire. Additionally, canards can create turbulence that can make it more difficult for the pilot to control the aircraft.']},\n",
              " 'text-babbage-001': {'pros': ['Canards can help a stealth fighter remain undetected by enemy radar. By squeaking and waving their wings in an unpredictable manner, they can create a false trail that enemy sensors will be unable to pick up. Additionally, canards can help the fighter fly at a lower altitude, which will make it harder for enemy radar to detect it.',\n",
              "   'Canards can help the stealth fighter blend in with its surroundings, improving its invisibility rating. Additionally, they can help the fighter move faster and stay undetected, making it easier to target and shoot down enemy aircraft.',\n",
              "   'Canards are a effective means of distracting enemy fighters, as they can be fired in quick succession, and the aircraft can then return to its original location. Additionally, canards can be used to confuse an enemy pilot, as they can be unexpected and difficult to target.'],\n",
              "  'cons': ['There is no need for a con argument for canards on a stealth fighter. Stealth fighters are simply assassinations, and as such, they should be immune to all forms of damage.',\n",
              "   'A con argument for canards on a stealth fighter could be that they allow the fighter to remain undetected for longer periods of time, which would give the fighter an advantage in combat. Canards could also be used to confuse or mislead adversaries, or to ensure the fighter’s safe passage through hostile airspace.',\n",
              "   '-Canards can deceive an enemy into thinking the fighter is only following a routine flyby. This can help the fighter avoid being detected and targeted by enemy sensors. -Canards can help the fighter fly faster and cover more ground than if it were using a routine flyby. This can help the fighter cover more ground in a shorter amount of time, increasing its chances of escaping detection.']},\n",
              " 'text-curie-001': {'pros': ['There are a few pro arguments for canards on a stealth fighter. First, stealth fighters can be extremely effective at taking out targets without being detected. Second, stealth fighters are very efficient at dealing with enemies from a distance, which can make them a very valuable asset in a variety of combat situations. Finally, stealth fighters are often able to evade enemy fire, making them difficult to hit.',\n",
              "   'Some pro arguments for canards on stealth fighters might include the following:1) Stealth fighters are not effective against large, heavily defended targets.2) Stealth fighters are not effective against targets that are moving quickly or evade easily.3) Stealth fighters are not effective against targets that are out of range or out of sight.',\n",
              "   'There are a number of reasons why stealth fighters would be valuable assets in a military. First, they are difficult to detect, making them ideal for sneaking in and out of enemy territory undetected. Second, stealth fighters can engage targets more quickly and effectively than traditional aircraft, making them an important tool in breaking through enemy defenses. Finally, stealth fighters can also carry out reconnaissance and surveillance missions, providing valuable intelligence to commanders on the battlefield.'],\n",
              "  'cons': ['One argument against stealth fighters is that they are not as stealthy as they claim to be. This can be countered by pointing out that the technology has improved greatly over the years, and that even if a stealth fighter is detected by a hostile force, it can still carry out its mission.',\n",
              "   'One could argue that a stealth fighter would be less detectable because it is not as brightly lit as other aircraft. Additionally, a stealth fighter is designed to be quiet and avoid detection by radar.',\n",
              "   'Some people argue that stealth fighters are not necessary because they can be replaced by conventional fighters. Others argue that stealth fighters are not effective because they are not able to defeat enemy aircraft in a dogfight.']}}"
            ]
          },
          "metadata": {},
          "execution_count": 44
        }
      ]
    },
    {
      "cell_type": "code",
      "source": [
        "topic = \"self-driving cars\"\n",
        "debate_results = debate(models, topic)\n",
        "debate_results"
      ],
      "metadata": {
        "colab": {
          "base_uri": "https://localhost:8080/"
        },
        "id": "VvJl28awyR8d",
        "outputId": "837ec3ab-b733-45b8-c476-08b8791c0637"
      },
      "execution_count": 45,
      "outputs": [
        {
          "output_type": "execute_result",
          "data": {
            "text/plain": [
              "{'text-davinci-003': {'pros': [\"1. Self-driving cars can reduce accidents. Autonomous vehicles can make decisions and react faster than humans, potentially reducing the number of traffic collisions. They also don't suffer from driver fatigue or intoxication, which can be significant factors in many accidents. 2. Self-driving cars can reduce traffic congestion. Autonomous vehicles can communicate with each other, allowing them to coordinate their movements and travel closer together, reducing the need for extra space between cars. This could reduce the amount\",\n",
              "   '1. Self-driving cars could drastically reduce the amount of traffic fatalities. According to the National Highway Traffic Safety Administration, nearly 94% of car accidents are caused by human error, suggesting that the introduction of self-driving cars could reduce the amount of fatal crashes. 2. Self-driving cars can increase mobility for those unable to drive themselves. Self-driving cars would give elderly people, disabled people, and others who are unable to operate a car the freedom to travel independently',\n",
              "   '1. Self-driving cars can reduce car crashes. Autonomous technology can detect potential dangers on the road, such as pedestrians, other vehicles, and obstacles, and can react faster than a human driver, reducing the risk of an accident.2. Self-driving cars can reduce traffic congestion. Autonomous cars can be programmed to drive more efficiently, using less fuel and taking up less space on the road. This could mean less traffic in cities and less time spent stuck in traffic'],\n",
              "  'cons': ['-Self-driving cars may not be able to react as quickly as a human driver in the event of an emergency or hazardous situation. -The technology may not be reliable enough to ensure passengers’ safety in all conditions.-Self-driving cars may be vulnerable to cyberattacks, leaving passengers at risk of theft or endangerment.-The cost of operating and maintaining a self-driving car may be too expensive for the average consumer.-The lack of human',\n",
              "   'A con argument for self-driving cars is the potential for ethical dilemmas in decision-making. Autonomous cars have to make decisions in milliseconds, and it is uncertain how they will decide in cases of unavoidable collisions. Without a clear ethical framework, self-driving cars may be programmed to make decisions that lack moral judgment and could put people’s lives at risk.',\n",
              "   'A con argument for self-driving cars is that they could potentially increase the risk of accidents. Self-driving cars rely on a variety of sensors and artificial intelligence to navigate the roads, but these systems can be unreliable and are vulnerable to cyberattacks. If a self-driving car malfunctioned or was hacked, it could cause a serious accident. Additionally, the human element of driving is often underestimated. Even with the most advanced technology, a computer cannot always anticipate the unpredictable actions of other drivers']},\n",
              " 'text-davinci-002': {'pros': ['There are many potential benefits to self-driving cars, including increased safety, efficiency, and convenience. Self-driving cars have the potential to drastically reduce the number of accidents and fatalities on the road, as they are not susceptible to human error. They can also help to ease traffic congestion by communicating with each other and coordinating their movements. Additionally, self-driving cars can provide a more convenient and comfortable experience for passengers, as they can relax or work while the car takes care of the driving',\n",
              "   'Some people believe that self-driving cars will be much safer than human-driven cars, because computers can react more quickly to potential hazards and do not get tired or distracted like human drivers do. Self-driving cars could also help to reduce traffic congestion, because they can communicate with each other to coordinate their movements.',\n",
              "   \"Self-driving cars are more efficient than human-driven cars. They can communicate with each other to avoid traffic congestion and accidents. They don't get tired, so they can drive for longer periods of time without rest.\"],\n",
              "  'cons': [\"1. Self-driving cars are not yet proven to be safe. There have been several high-profile accidents involving self-driving cars, and it's not clear that they are any safer than regular cars.2. Self-driving cars could lead to job losses. If self-driving cars become common, it could lead to large numbers of people losing their jobs as taxi drivers, truck drivers, and so on.3. Self-driving cars could be hacked.\",\n",
              "   'There are a few potential con arguments for self-driving cars. One is that self-driving cars could lead to more accidents, as they are not perfect and still make mistakes. Another is that self-driving cars could make traffic worse, as they would add more cars on the road and could lead to more congestion. Finally, self-driving cars could make it harder for people to find parking, as they would be able to park in smaller spaces and closer together.',\n",
              "   'Some people believe that self-driving cars will lead to an increase in car accidents. They argue that the technology is not yet advanced enough to be completely reliable, and that human drivers are better able to react to unexpected situations. Additionally, some people believe that self-driving cars will make our roads more congested, as people will be less likely to use public transportation or carpool when they can simply sit back and relax in their own autonomous vehicle.']},\n",
              " 'text-babbage-001': {'pros': ['There could be many pro arguments for self-driving cars, but one of the most compelling is that they would save lives. A self-driving car is able to avoid accidents and fatalities by being able to control its own speed and direction, and by having its own sensors and communication system. This would make it much easier for firefighters, police officers, and ambulance crews to get to accidents and emergencies quickly, and would also reduce the number of injuries and fatalities caused by cars on the road.',\n",
              "   '1. Self-driving cars will save lives. According to the National Safety Council, self-driving cars are expected to reduce fatalities by 50% in the medium and long term. By reducing the need for people to be in the driver’s seats, self-driving cars will save lives and injuries.2. Self-driving cars will improve public safety. In the event of a road accident, a self-driving car could take control to avoid the accident. This will',\n",
              "   'Self-driving cars could reduce traffic fatalities, as well as protect other drivers on the road. By vehicleically enforcing the rules of the road, self-driving cars could help to prevent accidents and save lives.'],\n",
              "  'cons': ['The self-driving car could be less expensive to operate than current methods of driving, as the car would not need to be operated by a human driver. This would reduce the number of accidents, and could also cut down on fuel use.',\n",
              "   'One potential con argument for self-driving cars is that they may not be safe. Automated vehicles are not known for being error-free, and may be more likely to crash than human drivers.',\n",
              "   'Some argue that self-driving cars will ultimately save lives.']},\n",
              " 'text-curie-001': {'pros': ['Self-driving cars could save thousands of lives each year. According to the National Highway Traffic Safety Administration, between 2009 and 2015, self-driving cars prevented more than 360,000 crashes, including more than 100,000 injuries and over 3,000 deaths. Additionally, self-driving cars have the potential to reduce greenhouse gas emissions, as they eliminate the need for human drivers to make manually driven decisions.',\n",
              "   'There are many benefits to self-driving cars. First and foremost, self-driving cars could reduce traffic congestion and make transportation more efficient. Additionally, self-driving cars could potentially reduce the number of accidents, as well as the number of fatalities. Finally, self-driving cars could also reduce the amount of time people spend commuting, which could increase their productivity.',\n",
              "   'There are many benefits to self-driving cars. They could potentially save many lives by eliminating the need for human drivers. They could also reduce traffic congestion and make travelling easier.'],\n",
              "  'cons': ['There are a number of potential benefits of self-driving cars. For instance, they could reduce accidents and fatalities, as well as congestion on the roads. Additionally, they could free up drivers to undertake other tasks, such as working, which could improve productivity.',\n",
              "   'Self-driving cars could save lives by reducing traffic accidents.',\n",
              "   'The main argument against self-driving cars is that they are dangerous. If a self-driving car is involved in a crash, the driver may be held liable. Additionally, a self-driving car may not be able to respond to unexpected situations, such as when a pedestrian crosses the street in front of the car.']}}"
            ]
          },
          "metadata": {},
          "execution_count": 45
        }
      ]
    },
    {
      "cell_type": "code",
      "source": [],
      "metadata": {
        "id": "qfYRVX0p5lEx"
      },
      "execution_count": null,
      "outputs": []
    }
  ],
  "metadata": {
    "kernelspec": {
      "display_name": "Python 3",
      "language": "python",
      "name": "python3"
    },
    "language_info": {
      "codemirror_mode": {
        "name": "ipython",
        "version": 3
      },
      "file_extension": ".py",
      "mimetype": "text/x-python",
      "name": "python",
      "nbconvert_exporter": "python",
      "pygments_lexer": "ipython3",
      "version": "3.9.13"
    },
    "orig_nbformat": 4,
    "colab": {
      "provenance": []
    },
    "gpuClass": "standard"
  },
  "nbformat": 4,
  "nbformat_minor": 0
}